{
 "cells": [
  {
   "attachments": {},
   "cell_type": "markdown",
   "metadata": {},
   "source": [
    "Tal y como ya hemos visto en clase, la variedad de herramientas proporcionadas por el álgebra lineal son cruciales para desarrollar y fundamentar las bases de una variedad de técnicas relacionadas con el aprendizaje automático. Con ella, podemos describir el proceso de propagación hacia adelante en una red neuronal, identificar mínimos locales en funciones multivariables (crucial para el proceso de retropropagación) o la descripción y empleo de métodos de reducción de la dimensionalidad, como el análisis de componentes principales (PCA), entre muchas otras aplicaciones. \n",
    "\n",
    "Cuando trabajamos en la práctica dentro de este ámbito, la cantidad de datos que manejamos puede ser muy grande, por lo que es especialmente importante emplear algoritmos eficientes y optimizados para reducir el coste computacional en la medida de lo posible. Por todo ello, el objetivo de este ejercicio es el de ilustrar las diferentes alternativas que pueden existir para realizar un proceso relacionado con el álgebra lineal y el impacto que puede tener cada variante en términos del coste computacional del mismo. En este caso en particular, y a modo de ilustración, nos centraremos en el cálculo del determinante de una matriz."
   ]
  },
  {
   "cell_type": "code",
   "execution_count": 1,
   "metadata": {},
   "outputs": [],
   "source": [
    "import numpy as np\n",
    "import random\n",
    "import time \n",
    "import pandas as pd"
   ]
  },
  {
   "attachments": {},
   "cell_type": "markdown",
   "metadata": {},
   "source": [
    "## a) Implementa una funcion, determinante_recursivo, que obtenga el determinante de una matriz cuadrada utilizando la definicion recursiva de Laplace.\n"
   ]
  },
  {
   "attachments": {},
   "cell_type": "markdown",
   "metadata": {},
   "source": [
    "\n",
    "La función **determinante_recursivo** calcula el determinante de una matriz cuadrada utilizando la definición recursiva de Laplace. \n",
    "\n",
    "Primero, la función verifica si la matriz es de 1x1 o de 2x2. Si es de 1x1, el determinante es el único elemento de la matriz. Si es de 2x2, el determinante se calcula directamente utilizando la fórmula matriz[0][0] * matriz[1][1] - matriz[0][1] * matriz[1][0].\n",
    "\n",
    "Si la matriz no es ni de 1x1 ni de 2x2, se aplica la **definición recursiva de Laplace** para calcular el determinante. Para ello, se inicializa una variable determinante en 0.\n",
    "\n",
    "Luego, se itera sobre cada columna i de la matriz. \n",
    "\n",
    "Para cada columna i, se crea una submatriz eliminando la primera fila y la columna i. Esto se hace utilizando la comprensión de listas \n",
    "\n",
    "<p style=\"text-align:center;\">[fila[:i] + fila[i+1:] for fila in matriz [1:]]\n",
    "\n",
    "\n",
    "Después, **se calcula el determinante** de la submatriz utilizando la función determinante_recursivo **recursivamente**.\n",
    "\n",
    "Finalmente, se suma o resta el determinante de la submatriz al determinante total según corresponda. \n",
    "\n",
    "- Si i es par, se suma \n",
    "- Si i es impar, se resta. \n",
    "\n",
    "Esto se hace multiplicando el elemento matriz[0][i] por el determinante de la submatriz y sumándolo o restando al determinante total.\n",
    "\n",
    "Una vez que se han iterado todas las columnas, se devuelve el valor del determinante calculado.\n",
    "\n",
    "Esta función utiliza la definición recursiva de Laplace para calcular el determinante de una matriz cuadrada. En cada llamada recursiva, se reduce el tamaño de la matriz hasta llegar a los casos base (matrices de 1x1 o 2x2), donde el determinante se puede calcular directamente.\n",
    "\n",
    "<p style=\"text-align:center;\"><strong><em> De esta manera, se puede calcular el determinante de cualquier matriz cuadrada. </em></strong></p>"
   ]
  },
  {
   "cell_type": "code",
   "execution_count": 2,
   "metadata": {},
   "outputs": [],
   "source": [
    "def determinante_recursivo(matriz):\n",
    "    # Caso base: si la matriz es de 1x1, el determinante es el único elemento de la matriz\n",
    "    if len(matriz) == 1:\n",
    "        return matriz[0][0]\n",
    "    # Caso base: si la matriz es de 2x2, el determinante se calcula directamente\n",
    "    elif len(matriz) == 2:\n",
    "        return matriz[0][0] * matriz[1][1] - matriz[0][1] * matriz[1][0]\n",
    "    else:\n",
    "        # Caso recursivo: se calcula el determinante utilizando la definición recursiva de Laplace\n",
    "        determinante = 0\n",
    "        for i in range(len(matriz)):\n",
    "            # Se crea una submatriz eliminando la primera fila y la columna i\n",
    "            submatriz = [np.concatenate((fila[:i], fila[i+1:])) for fila in matriz[1:]]\n",
    "            # Se calcula el determinante de la submatriz utilizando la función recursivamente\n",
    "            det_submatriz = determinante_recursivo(submatriz)\n",
    "            # Se suma o resta el determinante de la submatriz al determinante total según corresponda\n",
    "            if i % 2 == 0:\n",
    "                determinante += matriz[0][i] * det_submatriz\n",
    "            else:\n",
    "                determinante -= matriz[0][i] * det_submatriz\n",
    "        return determinante"
   ]
  },
  {
   "cell_type": "code",
   "execution_count": 3,
   "metadata": {},
   "outputs": [
    {
     "name": "stdout",
     "output_type": "stream",
     "text": [
      "El determinante de la matriz es: -7.0\n"
     ]
    }
   ],
   "source": [
    "# Definimos una matriz de 3x3\n",
    "matriz = [[3, 2, -3],\n",
    "          [7, -1, 0],\n",
    "          [2, -4, 5]]\n",
    "\n",
    "# Calculamos el determinante de la matriz utilizando la función determinante_recursivo\n",
    "determinante = determinante_recursivo(matriz)\n",
    "\n",
    "\n",
    "# Imprimimos el resultado\n",
    "print(f\"El determinante de la matriz es: {determinante}\")\n"
   ]
  },
  {
   "cell_type": "code",
   "execution_count": 4,
   "metadata": {},
   "outputs": [
    {
     "name": "stdout",
     "output_type": "stream",
     "text": [
      "El determinante de la matriz es: -95.0\n"
     ]
    }
   ],
   "source": [
    "# Definimos una matriz de 4x4\n",
    "matriz = [[5, 3, 1, 0],\n",
    "          [-1, 2, 5, -2],\n",
    "          [3, -1, -2, 0],\n",
    "          [-5, 0, -3, 1]]\n",
    "\n",
    "# Calculamos el determinante de la matriz utilizando la función determinante_recursivo\n",
    "determinante = determinante_recursivo(matriz)\n",
    "\n",
    "# Imprimimos el resultado\n",
    "print(f\"El determinante de la matriz es: {determinante}\")"
   ]
  },
  {
   "attachments": {},
   "cell_type": "markdown",
   "metadata": {},
   "source": [
    "## b) Si A es una matriz cuadrada n×n y triangular (superior o inferior, es decir, con entradas nulas por debajo o por encima de la diagonal, respectivamente), ¿existe alguna forma de calcular de forma directa y sencilla su determinante? Justifíquese la respuesta."
   ]
  },
  {
   "attachments": {},
   "cell_type": "markdown",
   "metadata": {},
   "source": [
    "\n",
    "Supongamos que tenemos una matriz triangular superior `A` de tamaño `3x3` como la siguiente:\n",
    "\n",
    "$$\n",
    "A = \\begin{bmatrix}\n",
    "a & b & c \\\\\n",
    "0 & d & e \\\\\n",
    "0 & 0 & f\n",
    "\\end{bmatrix}\n",
    "$$\n",
    "\n",
    "Para calcular el determinante de esta matriz, podemos utilizar la **definición recursiva de Laplace** expandiendo por la primera fila. \n",
    "\n",
    "Esto nos da:\n",
    "\n",
    "$$\n",
    "\\det(A) = a \\det \\begin{bmatrix} d & e \\\\ 0 & f \\end{bmatrix} - b \\det \\begin{bmatrix} 0 & e \\\\ 0 & f \\end{bmatrix} + c \\det \\begin{bmatrix} 0 & d \\\\ 0 & 0 \\end{bmatrix}\n",
    "$$\n",
    "\n",
    "Si observamos las submatrices resultantes, podemos ver que **todas son matrices triangulares superiores.** \n",
    "También se observa la **segunda y tercera submatrices** tienen una fila de ceros, lo que significa que sus **determinantes son cero.** Por lo tanto, la ecuación anterior se simplifica a:\n",
    "\n",
    "$$\n",
    "\\det(A) = a \\det \\begin{bmatrix} d & e \\\\ 0 & f \\end{bmatrix}\n",
    "$$\n",
    "\n",
    "\n",
    "Ahora podemos calcular el determinante de la submatriz `2x2` utilizando la fórmula directa para matrices `2x2`:\n",
    "\n",
    "$$\n",
    "\\det(A) = a (df - 0e) = adf\n",
    "$$\n",
    "$$\n",
    "\\det(A) = a \\cdot d \\cdot f \n",
    "$$\n",
    "\n",
    "El determinante de la matriz `A` resulta ser el **producto de los elementos en su diagonal principal**: `a * d * f`.\n",
    "\n",
    "Este mismo razonamiento se puede aplicar a matrices triangulares superiores o inferiores de cualquier tamaño n×n.\n",
    "\n",
    "<p style=\"text-align:center;\"><strong><em> El determinante de una matriz triangular es igual al producto de los elementos en su diagonal principal.</em></strong></p>"
   ]
  },
  {
   "cell_type": "code",
   "execution_count": 5,
   "metadata": {},
   "outputs": [
    {
     "name": "stdout",
     "output_type": "stream",
     "text": [
      "El determinante de la matriz es: 24.00\n"
     ]
    }
   ],
   "source": [
    "# Definimos una matriz triangular superior\n",
    "A = np.array([[1, 2, 3],\n",
    "              [0, 4, 5],\n",
    "              [0, 0, 6]])\n",
    "\n",
    "# Calculamos el determinante de la matriz utilizando la función np.linalg.det\n",
    "determinante = np.linalg.det(A)\n",
    "\n",
    "# Imprimimos el resultado\n",
    "print(f\"El determinante de la matriz es: {determinante:.2f}\")"
   ]
  },
  {
   "attachments": {},
   "cell_type": "markdown",
   "metadata": {},
   "source": [
    "## c) Determínese de forma justificada cómo alteran el determinante de una matriz n × n las dos operaciones elementales siguientes: \n",
    "\n"
   ]
  },
  {
   "attachments": {},
   "cell_type": "markdown",
   "metadata": {},
   "source": [
    "### Intercambiar una fila (o columna) por otra fila (o columna): \n",
    "\n",
    "Si intercambiamos dos filas o dos columnas de una matriz, el determinante de la matriz resultante cambia de signo. Es decir, si el determinante original era D, después de intercambiar dos filas o dos columnas, el determinante será -D.\n"
   ]
  },
  {
   "attachments": {},
   "cell_type": "markdown",
   "metadata": {},
   "source": [
    "El determinante de una matriz cuadrada se puede calcular utilizando la definición recursiva de Laplace. \n",
    "\n",
    "Esta definición implica expandir el determinante en términos de los **cofactores de una fila o columna**. Cada cofactor se calcula **multiplicando un elemento de la matriz por el determinante de una submatriz más pequeña** y aplicando un **signo alternante.**\n",
    "\n",
    "Cuando intercambiamos dos filas o dos columnas en una matriz, estamos cambiando la posición de los elementos en la matriz. Esto afecta el cálculo de los cofactores y, por lo tanto, el valor del determinante.\n",
    "\n",
    "Para entender mejor cómo funciona esto, consideremos el caso de una matriz 2x2:\n",
    "$$\n",
    "A = \\begin{bmatrix} a & b \\\\ c & d \\end{bmatrix}\n",
    "$$\n",
    "\n",
    "El determinante de esta matriz se puede calcular directamente utilizando la fórmula : \n",
    "$$\n",
    "a \\cdot d - b \\cdot c\n",
    "$$\n",
    "\n",
    "Ahora, si intercambiamos las dos filas de la matriz para obtener una nueva matriz B:\n",
    "$$\n",
    "B = \\begin{bmatrix} c & d \\\\ a & b \\end{bmatrix}\n",
    "$$\n",
    "\n",
    "\n",
    "El determinante de esta nueva matriz se puede calcular utilizando la misma fórmula:\n",
    "$$\n",
    "c \\cdot b - d \\cdot a\n",
    "$$\n",
    "\n",
    "Si comparamos este resultado con el determinante original de la matriz A, podemos ver que el signo ha cambiado:\n",
    "$$\n",
    "det(B)=c \\cdot b - d \\cdot a = - (a \\cdot d - b \\cdot c) = −det(A)\n",
    "$$\n",
    "\n",
    "\n",
    "Este mismo razonamiento se puede aplicar a matrices de cualquier tamaño. \n",
    "\n",
    "Cuando intercambiamos dos filas o dos columnas en una matriz, estamos **cambiando el signo de los cofactores y, por lo tanto, el signo del determinante.**\n",
    "\n",
    "En resumen, el intercambio de filas o columnas en una matriz cambia el signo del determinante debido a cómo se calculan los cofactores en la definición recursiva de Laplace. \n",
    "\n",
    "<p style=\"text-align:center;\"><strong><em> Si el determinante original era D, después del intercambio será -D.</em></strong></p>\n"
   ]
  },
  {
   "cell_type": "code",
   "execution_count": 6,
   "metadata": {},
   "outputs": [
    {
     "name": "stdout",
     "output_type": "stream",
     "text": [
      "El determinante de A es: -1.00000\n",
      "El determinante de B es: 1.00000\n"
     ]
    }
   ],
   "source": [
    "# COMPROBACIÓN\n",
    "A = np.array([[2, 1, -1],\n",
    "             [-3, -1, 2],\n",
    "             [-2, 1, 2]])\n",
    "\n",
    "det_A = np.linalg.det(A)\n",
    "form_det_A = format(det_A, \".5f\")\n",
    "print(f\"El determinante de A es: {form_det_A}\")\n",
    "\n",
    "\n",
    "B = np.array([[-3, -1, 2],\n",
    "              [2, 1, -1],             \n",
    "              [-2, 1, 2]])\n",
    "\n",
    "det_B = np.linalg.det(B)\n",
    "form_det_B = format(det_B, \".5f\")\n",
    "print(f\"El determinante de B es: {form_det_B}\")\n"
   ]
  },
  {
   "attachments": {},
   "cell_type": "markdown",
   "metadata": {},
   "source": [
    "### Sumar a una fila (o columna) otra fila (o columna) multiplicada por un escalar α.\n",
    "\n",
    "Si sumamos a una fila (o columna) otra fila (o columna) multiplicada por un escalar α, **el determinante de la matriz no cambia.** \n"
   ]
  },
  {
   "attachments": {},
   "cell_type": "markdown",
   "metadata": {},
   "source": [
    "\n",
    "Esto se debe a que esta operación elemental es equivalente a sumar el determinante de dos matrices: la matriz original y otra matriz que tiene todas las filas (o columnas) iguales a la matriz original excepto la fila (o columna) que se está modificando, que es igual a la fila (o columna) multiplicada por el escalar α. \n",
    "\n",
    "Como esta segunda matriz tiene dos filas (o columnas) iguales, su determinante es cero. Por lo tanto, al sumar el determinante de la matriz original y el determinante de esta segunda matriz, obtenemos el mismo valor que el determinante original.\n",
    "\n",
    "Por ejemplo, si tenemos la matriz A:\n",
    "$$\n",
    "A = \\begin{bmatrix} a & b \\\\ c & d \\end{bmatrix}\n",
    "$$\n",
    "El determinante de A es \n",
    "$$\n",
    "a \\cdot d - b \\cdot c\n",
    "$$\n",
    "\n",
    "D=ad−bc. \n",
    "Si sumamos a la primera fila la segunda fila multiplicada por un escalar α para obtener la matriz B:\n",
    "$$\n",
    "B = \\begin{bmatrix} a + \\alpha\\cdot c  &  b + \\alpha\\cdot d\\\\ c & d \\end{bmatrix}\n",
    "$$\n",
    "El determinante de B es \n",
    "$$\n",
    "det(B) = (a + \\alpha\\cdot c) \\cdot d - ( b + \\alpha\\cdot d) \\cdot c = (a \\cdot d) + (\\alpha \\cdot c \\cdot d) - (b \\cdot c) - (\\alpha \\cdot d \\cdot c) = (a \\cdot d) - (b \\cdot c)\n",
    "$$\n",
    "$$\n",
    "det(B) =  (a \\cdot d) - (b \\cdot c)\n",
    "$$\n",
    "\n",
    "<p style=\"text-align:center;\"><strong><em> Es decir, si el determinante original era D, después de realizar esta operación elemental, el determinante seguirá siendo D.</em></strong></p>\n",
    "\n",
    "\n"
   ]
  },
  {
   "cell_type": "code",
   "execution_count": 7,
   "metadata": {},
   "outputs": [
    {
     "name": "stdout",
     "output_type": "stream",
     "text": [
      "El determinante de A es: -1.00000\n",
      "El determinante de B es: -1.00000\n"
     ]
    }
   ],
   "source": [
    "# COMPROBACIÓN\n",
    "\n",
    "A = np.array([[2, 1, -1],\n",
    "             [-3, -1, 2],\n",
    "             [-2, 1, 2]])\n",
    "\n",
    "det_A = np.linalg.det(A)\n",
    "form_det_A = format(det_A, \".5f\")\n",
    "print(f\"El determinante de A es: {form_det_A}\")\n",
    "\n",
    "\n",
    "# Como debe dar el mismo resultado, el valor de alpha puede ser aleatorio\n",
    "a=random.random()\n",
    "\n",
    "B = np.array([[2 + -3*a, 1 + -1*a, -1 + 2*a],\n",
    "              [-3, -1, 2],\n",
    "              [-2, 1, 2]])\n",
    "\n",
    "det_B = np.linalg.det(B)\n",
    "form_det_B = format(det_B, \".5f\")\n",
    "print(f\"El determinante de B es: {form_det_B}\")\n"
   ]
  },
  {
   "attachments": {},
   "cell_type": "markdown",
   "metadata": {},
   "source": [
    "## d) Investiga sobre el método de eliminación de Gauss con pivoteo parcial e impleméntalo para escalonar una matriz (es decir, convertirla en una matriz triangular inferior) a partir de las operaciones elementales descritas en el apartado anterior"
   ]
  },
  {
   "attachments": {},
   "cell_type": "markdown",
   "metadata": {},
   "source": [
    "El método de eliminación de Gauss con pivoteo parcial es un algoritmo para escalonar una matriz y convertirla en una matriz triangular inferior o superior utilizando operaciones elementales. \n",
    "- Seleccionar el elemento con el **valor absoluto más grande en la columna** actual como el **pivote**. Si es necesario, intercambiar la fila del pivote con la fila actual.\n",
    "- Hacer cero todos los elementos por encima del pivote en la columna actual restando múltiplos adecuados de la fila del pivote de las filas anteriores a ella.\n",
    "- Repetir los pasos 1 y 2 para cada columna hasta que se alcance la última columna."
   ]
  },
  {
   "attachments": {},
   "cell_type": "markdown",
   "metadata": {},
   "source": [
    "### Pivoteo parcial para convertir en una matriz triangular inferior"
   ]
  },
  {
   "attachments": {},
   "cell_type": "markdown",
   "metadata": {},
   "source": [
    "Los pasos involucrados en la eliminación de Gauss con pivoteo parcial son los siguientes:\n",
    "\n",
    "\n",
    "Supongamos que tenemos la siguiente matriz cuadrada A: \n",
    "$$ \n",
    "A = \\begin{bmatrix} 2 & 1 & -1 \\\\ -3 & -1 & 2 \\\\ -2 & 1 & 2 \\end{bmatrix} \n",
    "$$ \n",
    "\n",
    "Primero,  **encontramos la fila con el valor absoluto más grande en la tercera columna** para intercambiarla por la tercera fila, en este caso puede ser la tercera fila por lo que no se hace intercambio. \n",
    "La matriz se queda igual:\n",
    "\n",
    "$$ \n",
    "A = \\begin{bmatrix} 2 & 1 & -1 \\\\ -3 & -1 & 2 \\\\ -2 & 1 & \\color{red}{2} \\end{bmatrix} \n",
    "$$ \n",
    "\n",
    "Buscamos **hacer cero todos los elementos encima del pivote** <span style=\"color:red;\">(2)</span>\n",
    " por lo que **restamos múltiplos** de la tercera fila de las otras filas \n",
    "\n",
    "En este caso para hacer cero el elemento en la segunda fila y tercera columna, restamos 1 vez la tercera fila a la segunda fila: \n",
    "\n",
    "$$ A= \\begin{bmatrix} 2 & 1 & -1 \\\\ -3 & -1 & 2 \\\\ -2 & 1 & \\color{red}{2} \\end{bmatrix}  \\rightarrow \\begin{bmatrix} 2 & 1 & -1 \\\\ -1 & -2 & 0 \\\\ -2 & 1 & \\color{red}{2} \\end{bmatrix}  \n",
    "$$ \n",
    "\n",
    "\n",
    "\n",
    "**Repetimos el proceso** con la submatriz que queda después de eliminar la primera fila y columna. \n",
    "\n",
    "**Encontramos la fila con el valor absoluto más grande** en la segunda columna, que en este caso es la segunda fila.\n",
    "\n",
    "**Intercambiamos**, en este caso puede ser la segunda fila por lo que no se hace intercambio. \n",
    "\n",
    "Para hacer cero el elemento en la primera fila y tercera columna, sumamos (1/2) veces la tercera fila a la primera fila: \n",
    "$$  A= \\begin{bmatrix} 2 & 1 & -1 \\\\ -1 & -2 & 0 \\\\ -2 & 1 & \\color{red}{2} \\end{bmatrix} \\rightarrow \\begin{bmatrix} 1 & 3/2 &0 \\\\-1 & -2 & 0 \\\\-2 & 1 & \\color{red}{2} \\end {bmatrix} $$ \n",
    "\n",
    "Queremos **hacer cero todos los elementos encima del pivote** <span style=\"color:red;\">(-2)</span> en la segunda columna . \n",
    "\n",
    "Para hacer cero el elemento en la primera fila y segunda columna, sumamos (3/4) veces la primera fila a la segunda fila: \n",
    "$$  A= \\begin{bmatrix} 1 & 3/2 &0 \\\\-1 & \\color{red}{-2} & 0 \\\\-2 & 1 & 2 \\end {bmatrix} \\rightarrow \\begin{bmatrix} 1/4 & 0 & 0 \\\\ -1 & \\color{red}{-2} & 0 \\\\ -2 & 1 & 2 \\end {bmatrix} $$ \n",
    "\n",
    "\n",
    "\n"
   ]
  },
  {
   "attachments": {},
   "cell_type": "markdown",
   "metadata": {},
   "source": [
    "### Pivoteo parcial para convertir en una matriz triangular superior"
   ]
  },
  {
   "attachments": {},
   "cell_type": "markdown",
   "metadata": {},
   "source": [
    "El método de eliminación de Gauss con pivoteo parcial también se puede utilizar para convertir una matriz en una matriz triangular superior. \n",
    "\n",
    "En este caso, en lugar de hacer cero todos los elementos debajo del pivote en cada columna, se hacen cero todos los elementos por encima del pivote. \n",
    "\n",
    "Esto se logra restando múltiplos de la fila del pivote de las filas anteriores.\n",
    "\n",
    "Supongamos que tenemos la siguiente matriz cuadrada A:\n",
    "\n",
    "$$ A = \\begin{bmatrix} 2 & 1 & -1 \\\\ -3 & -1 & 2 \\\\ -2 & 1 & 2 \\end{bmatrix} $$\n",
    "\n",
    "Primero, **encontramos la fila con el valor absoluto más grande en la primera columna**, que en este caso es la segunda fila. **Intercambiamos esta fila con la primera fila** para obtener:\n",
    "\n",
    "$$ A = \\begin{bmatrix} \\color{red}{-3} & -1 & 2 \\\\ 2 & 1 & -1 \\\\ -2 & 1 & 2 \\end{bmatrix} $$\n",
    "\n",
    "\n",
    "Buscamos **hacer cero todos los elementos debajo del pivote** <span style=\"color:red;\">(-3)</span> por lo que **restamos múltiplos de la primera fila de las otras filas**\n",
    "\n",
    "Para hacer cero el elemento en la segunda fila y primera columna, restamos 2/3 veces la primera fila de la segunda fila:\n",
    "\n",
    "$$ \\begin{bmatrix} \\color{red}{-3} & -1 & 2 \\\\ 2 & 1 & -1 \\\\ -2 & 1 & 2 \\end{bmatrix} \\rightarrow \\begin{bmatrix} \\color{red}{-3} & -1 & 2 \\\\ 0 & 1/3 & 1/3 \\\\ -2 & 1 & 2 \\end{bmatrix} $$\n",
    "\n",
    "Para hacer cero el elemento en la tercera fila y primera columna, sumamos 2/3 veces la primera fila a la tercera fila:\n",
    "\n",
    "$$ \\begin{bmatrix} \\color{red}{-3} & -1 & 2 \\\\ 0 & 1/3 & 1/3 \\\\ -2 & 1 & 2  \\end{bmatrix} \\rightarrow \\begin{bmatrix}  \\color{red}{-3} & -1 & 2\\\\ 0&1/3& 1/3\\\\ 0&5/3& 2/3 \\end{bmatrix} $$\n",
    "\n",
    "**Repetimos el proceso** con la submatriz que queda después de eliminar la primera fila y columna. **Encontramos** la fila con el valor absoluto más grande en la segunda columna, que en este caso es la tercera fila. **Intercambiamos** esta fila con la segunda fila para obtener:\n",
    "\n",
    "$$ A = \\begin{bmatrix} -3 & -1 & 2\\\\ 0&5/3&2/3\\\\ 0&1/3&-1/3 \\end{bmatrix} $$\n",
    "\n",
    "\n",
    "Queremos **hacer cero todos los elementos debajo del pivote**<span style=\"color:red;\">(5/3)</span> en la segunda columna . \n",
    "\n",
    "Para hacer cero el elemento en la tercera fila y segunda columna, sumamos (1/3) / (5/3) = 2/5 veces la segunda fila de la tercera fila:\n",
    "\n",
    "$$ A = \\begin{bmatrix} -3 & -1 & 2\\\\ 0&  \\color{red}{5/3}  &2/3\\\\ 0&1/3&-1/3 \\end{bmatrix} \\rightarrow \\begin{bmatrix} -3 & -1 & 2 \\\\ 0 & \\color{red}{5/3} & 2/3 \\\\ 0 & 0 & 2/5 \\end{bmatrix} $$\n",
    "\n",
    "\n",
    "\n",
    "\n",
    "\n",
    "\n",
    "\n"
   ]
  },
  {
   "attachments": {},
   "cell_type": "markdown",
   "metadata": {},
   "source": [
    "## e) ¿Cómo se podría calcular el determinante de una matriz haciendo beneficio de la estrategia anterior y del efecto de aplicar las operaciones elementales pertinentes?\n",
    "\n"
   ]
  },
  {
   "attachments": {},
   "cell_type": "markdown",
   "metadata": {},
   "source": [
    "\n",
    "Como ya se ha visto anteriormente, el objetivo es encontrar la matriz triangular inferior o superior para poder multiplicar los elementos de la diagonal principal y así obtener el determinante.\n",
    "\n",
    "Para ello utilizamos: \n",
    "- **El intercambio de una fila (o columna) por otra fila (o columna)**\n",
    "- **la suma a una fila (o columna) otra fila (o columna) multiplicada por un escalar α.**"
   ]
  },
  {
   "cell_type": "code",
   "execution_count": 8,
   "metadata": {},
   "outputs": [],
   "source": [
    "def determinante_gauss(matriz):\n",
    "    n = len(matriz) # Obtenemos el tamaño de la matriz\n",
    "    det = 1 # Inicializamos el determinante en 1\n",
    "    matriz = np.array(matriz, float) # Convertimos la matriz a una matriz de números flotantes\n",
    "    \n",
    "    for i in range(n-1,-1,-1): # Para cada columna de la matriz\n",
    "        max_row = i # Inicializamos la fila con el valor absoluto más grande en la columna actual\n",
    "        for j in range(i-1,-1,-1): # Para cada fila encima de la fila actual\n",
    "            if np.abs(matriz[j][i]) > np.abs(matriz[max_row][i]): # Si el valor absoluto del elemento en la fila actual es mayor que el valor absoluto del elemento en la fila con el valor absoluto más grande\n",
    "                max_row = j # Actualizamos la fila con el valor absoluto más grande\n",
    "        if max_row != i: # Si la fila con el valor absoluto más grande no es la fila actual\n",
    "            matriz[[i,max_row]] = matriz[[max_row,i]] # Intercambiamos las filas\n",
    "            det *= -1 # Multiplicamos el determinante por -1 ya que intercambiar dos filas cambia el signo del determinante\n",
    "        if np.abs(matriz[i][i]) < 1e-10: # Si el elemento de la diagonal es muy pequeño, el determinante es cero\n",
    "            return 0\n",
    "        det *= matriz[i][i] # Multiplicamos el determinante por el elemento de la diagonal\n",
    "        print(f'Elemento pivote: {matriz[i][i]}\\n')\n",
    "        for j in range(i-1,-1,-1): # Para cada fila encima de la fila actual\n",
    "            ratio = matriz[j][i]/matriz[i][i] # Calculamos el ratio para hacer cero el elemento encima del elemento de la diagonal\n",
    "            for k in range(n): # Para cada elemento en la fila\n",
    "                matriz[j][k] -= ratio * matriz[i][k] # Restamos el producto del ratio y el elemento correspondiente en la fila actual\n",
    "            print(f'Operación: Fila {j+1} - ({ratio}) * Fila {i+1}\\n')\n",
    "        print(f'Matriz después de la iteración {n-i-1}:\\n')\n",
    "        print(f'{matriz}\\n')\n",
    "    return det"
   ]
  },
  {
   "cell_type": "code",
   "execution_count": 9,
   "metadata": {},
   "outputs": [
    {
     "name": "stdout",
     "output_type": "stream",
     "text": [
      "Elemento pivote: 2.0\n",
      "\n",
      "Operación: Fila 2 - (1.0) * Fila 3\n",
      "\n",
      "Operación: Fila 1 - (-0.5) * Fila 3\n",
      "\n",
      "Matriz después de la iteración 0:\n",
      "\n",
      "[[ 1.   1.5  0. ]\n",
      " [-1.  -2.   0. ]\n",
      " [-2.   1.   2. ]]\n",
      "\n",
      "Elemento pivote: -2.0\n",
      "\n",
      "Operación: Fila 1 - (-0.75) * Fila 2\n",
      "\n",
      "Matriz después de la iteración 1:\n",
      "\n",
      "[[ 0.25  0.    0.  ]\n",
      " [-1.   -2.    0.  ]\n",
      " [-2.    1.    2.  ]]\n",
      "\n",
      "Elemento pivote: 0.25\n",
      "\n",
      "Matriz después de la iteración 2:\n",
      "\n",
      "[[ 0.25  0.    0.  ]\n",
      " [-1.   -2.    0.  ]\n",
      " [-2.    1.    2.  ]]\n",
      "\n"
     ]
    },
    {
     "data": {
      "text/plain": [
       "-1.0"
      ]
     },
     "execution_count": 9,
     "metadata": {},
     "output_type": "execute_result"
    }
   ],
   "source": [
    "# Definimos una matriz de 3x3\n",
    "matriz3x3 = [[2, 1, -1],\n",
    "             [-3, -1, 2],\n",
    "             [-2, 1, 2]]\n",
    "\n",
    "\n",
    "determinante_gauss(matriz3x3)"
   ]
  },
  {
   "cell_type": "code",
   "execution_count": 10,
   "metadata": {},
   "outputs": [],
   "source": [
    "\n",
    "def determinante_gauss(matriz):\n",
    "    n = len(matriz) # Obtenemos el tamaño de la matriz\n",
    "    det = 1 # Inicializamos el determinante en 1\n",
    "    matriz = np.array(matriz, float) # Convertimos la matriz a una matriz de números flotantes\n",
    "    \n",
    "    for i in range(n): # Para cada columna de la matriz\n",
    "        max_row = i # Inicializamos la fila con el valor absoluto más grande en la columna actual\n",
    "        for j in range(i+1,n): # Para cada fila debajo de la fila actual\n",
    "            if np.abs(matriz[j][i]) > np.abs(matriz[max_row][i]): # Si el valor absoluto del elemento en la fila actual es mayor que el valor absoluto del elemento en la fila con el valor absoluto más grande\n",
    "                max_row = j # Actualizamos la fila con el valor absoluto más grande\n",
    "        if max_row != i: # Si la fila con el valor absoluto más grande no es la fila actual\n",
    "            matriz[[i,max_row]] = matriz[[max_row,i]] # Intercambiamos las filas\n",
    "            det *= -1 # Multiplicamos el determinante por -1 ya que intercambiar dos filas cambia el signo del determinante\n",
    "        if np.abs(matriz[i][i]) < 1e-10: # Si el elemento de la diagonal es muy pequeño, el determinante es cero\n",
    "            return 0\n",
    "        det *= matriz[i][i] # Multiplicamos el determinante por el elemento de la diagonal\n",
    "        print(f'Elemento pivote: {matriz[i][i]}\\n')\n",
    "        for j in range(i+1,n): # Para cada fila debajo de la fila actual\n",
    "            ratio = matriz[j][i]/matriz[i][i] # Calculamos el ratio para hacer cero el elemento debajo del elemento de la diagonal\n",
    "            for k in range(n): # Para cada elemento en la fila\n",
    "                matriz[j][k] -= ratio * matriz[i][k] # Restamos el producto del ratio y el elemento correspondiente en la fila actual\n",
    "            print(f'Operación: Fila {j+1} - ({ratio}) * Fila {i+1}\\n')\n",
    "        print(f'Matriz después de la iteración {i}:\\n')\n",
    "        print(f'{matriz}\\n')\n",
    "    return det\n",
    "\n"
   ]
  },
  {
   "cell_type": "code",
   "execution_count": 11,
   "metadata": {},
   "outputs": [
    {
     "name": "stdout",
     "output_type": "stream",
     "text": [
      "Elemento pivote: -3.0\n",
      "\n",
      "Operación: Fila 2 - (-0.6666666666666666) * Fila 1\n",
      "\n",
      "Operación: Fila 3 - (0.6666666666666666) * Fila 1\n",
      "\n",
      "Matriz después de la iteración 0:\n",
      "\n",
      "[[-3.         -1.          2.        ]\n",
      " [ 0.          0.33333333  0.33333333]\n",
      " [ 0.          1.66666667  0.66666667]]\n",
      "\n",
      "Elemento pivote: 1.6666666666666665\n",
      "\n",
      "Operación: Fila 3 - (0.20000000000000004) * Fila 2\n",
      "\n",
      "Matriz después de la iteración 1:\n",
      "\n",
      "[[-3.         -1.          2.        ]\n",
      " [ 0.          1.66666667  0.66666667]\n",
      " [ 0.          0.          0.2       ]]\n",
      "\n",
      "Elemento pivote: 0.19999999999999987\n",
      "\n",
      "Matriz después de la iteración 2:\n",
      "\n",
      "[[-3.         -1.          2.        ]\n",
      " [ 0.          1.66666667  0.66666667]\n",
      " [ 0.          0.          0.2       ]]\n",
      "\n"
     ]
    },
    {
     "data": {
      "text/plain": [
       "-0.9999999999999993"
      ]
     },
     "execution_count": 11,
     "metadata": {},
     "output_type": "execute_result"
    }
   ],
   "source": [
    "# Definimos una matriz de 3x3\n",
    "matriz3x3 = [[2, 1, -1],\n",
    "             [-3, -1, 2],\n",
    "             [-2, 1, 2]]\n",
    "\n",
    "determinante_gauss(matriz3x3)"
   ]
  },
  {
   "attachments": {},
   "cell_type": "markdown",
   "metadata": {},
   "source": [
    "## f) Obtén la complejidad computacional asociada al cálculo del determinante con la definicion recursiva y con el método de eliminación de Gauss con pivoteo parcial."
   ]
  },
  {
   "attachments": {},
   "cell_type": "markdown",
   "metadata": {},
   "source": [
    "### Determinante con definicion recursiva"
   ]
  },
  {
   "attachments": {},
   "cell_type": "markdown",
   "metadata": {},
   "source": [
    "El determinante de una matriz cuadrada de orden n se calcula como la suma de los productos de los elementos de una fila o columna por sus respectivos adjuntos. Cada adjunto es el determinante de una submatriz de orden n-1 obtenida eliminando la fila y columna correspondiente al elemento.\n",
    "\n",
    "Para calcular el determinante de una matriz de orden n utilizando esta definición recursiva, se deben calcular n adjuntos. \n",
    "\n",
    "Cada adjunto requiere el cálculo del determinante de una submatriz de orden n-1. \n",
    "\n",
    "Esto significa que para calcular el determinante de una matriz de orden n, se deben calcular n determinantes de matrices de orden n-1. \n",
    "\n",
    "Este proceso se repite recursivamente hasta llegar a matrices de orden 1 cuyo determinante es el único elemento de la matriz.\n",
    "\n",
    "La complejidad computacional del cálculo del determinante utilizando esta definición recursiva se puede expresar como una función recursiva T(n) que representa el número de operaciones necesarias para calcular el determinante de una matriz de orden n. \n",
    "\n",
    "T(n) = n * T(n-1) + O(n)\n",
    "\n",
    "La primera parte de esta ecuación representa el costo de calcular los n adjuntos, cada uno requiriendo T(n-1) operaciones. La segunda parte representa el costo de sumar los productos de los elementos por sus respectivos adjuntos, lo que requiere O(n) operaciones.\n",
    "\n",
    "La solución a esta ecuación de recurrencia es **T(n) = O(n!).** \n",
    "\n",
    "Esto significa que el cálculo del determinante utilizando esta definición recursiva tiene una complejidad factorial, lo que lo hace **impracticable para matrices grandes.**\n"
   ]
  },
  {
   "attachments": {},
   "cell_type": "markdown",
   "metadata": {},
   "source": [
    "\n",
    "EJEMPLO\n",
    "\n",
    "Desde el punto de vista computacional, el cálculo del determinante de una matriz utilizando la expansión de menores implica un número creciente de operaciones a medida que aumenta el tamaño de la matriz. \n",
    "Por ejemplo, para calcular el determinante de una matriz 3x3, se calcularán 3 determinantes de matrices 2x2. \n",
    "\n",
    "\n",
    "Supongamos que tenemos la siguiente matriz A:\n",
    "$$\n",
    "A =\n",
    "\\begin{pmatrix}\n",
    "1 & 2 & 3 \\\\\n",
    "4 & 5 & 6 \\\\\n",
    "7 & 8 & 9\n",
    "\\end{pmatrix}\n",
    "$$\n",
    "Podemos calcular el determinante de A utilizando la expansión de menores a lo largo de la primera fila:\n",
    "$$\n",
    "\\det(A) = 1 \\cdot \\det(M_{11}) - 2 \\cdot \\det(M_{12}) + 3 \\cdot \\det(M_{13})\n",
    "$$\n",
    "donde M11​, M12​ y M13​ son los menores de la matriz A obtenidos eliminando la primera fila y las columnas 1, 2 y 3, respectivamente. Estos menores son:\n",
    "$$\n",
    "M_{11} =\n",
    "\\begin{pmatrix}\n",
    "5 & 6 \\\\\n",
    "8 & 9\n",
    "\\end{pmatrix},\n",
    "$$\n",
    "$$\n",
    "M_{12} =\n",
    "\\begin{pmatrix}\n",
    "4 & 6 \\\\\n",
    "7 & 9\n",
    "\\end{pmatrix},\n",
    "$$\n",
    "$$\n",
    "M_{13} =\n",
    "\\begin{pmatrix}\n",
    "4 & 5 \\\\\n",
    "7 & 8\n",
    "\\end{pmatrix}\n",
    "$$\n",
    "Ahora podemos calcular los determinantes de estos menores utilizando la fórmula para el determinante de una matriz 2x2:\n",
    "$$\n",
    "\\det(M_{11}) = (5)(9) - (6)(8) = -3 \\\n",
    "$$\n",
    "$$\n",
    "\\det(M_{12}) = (4)(9) - (6)(7) = -6 \\\n",
    "$$\n",
    "$$\n",
    "\\det(M_{13}) = (4)(8) - (5)(7) = -3\n",
    "\n",
    "$$\n",
    "Finalmente, podemos sustituir estos valores en la fórmula para el determinante de A:\n",
    "$$\n",
    "\\det(A) = 1 \\cdot (-3) - 2 \\cdot (-6) + 3 \\cdot (-3) = -3 + 12 -9 = 0\n",
    "$$\n",
    "\n",
    "Si en lugar de una matriz 3x3 tuviéramos una matriz 4x4, tendríamos que calcular 4 determinantes de matrices 3x3, y para cada uno de estos determinantes tendríamos que calcular 3 determinantes de matrices 2x2.\n",
    "\n",
    "En total, tendríamos que calcular 4 x 3 = 12 determinantes de matrices 2x2.\n",
    "\n",
    "En general, para calcular el determinante de una matriz n por n utilizando la expansión de menores, necesitamos calcular n determinantes de matrices (n-1) por (n-1). \n",
    "\n",
    "Para cada uno de estos determinantes, necesitamos calcular (n-1) determinantes de matrices (n-2) por (n-2), y así sucesivamente. En total, el número de operaciones necesarias para calcular el determinante utilizando la expansión de menores es proporcional a n! (n factorial).\n",
    "\n"
   ]
  },
  {
   "attachments": {},
   "cell_type": "markdown",
   "metadata": {},
   "source": [
    "### Método de eliminación de Gauss con pivoteo parcial"
   ]
  },
  {
   "attachments": {},
   "cell_type": "markdown",
   "metadata": {},
   "source": [
    "El cálculo del determinante de una matriz utilizando el método de eliminación de Gauss con pivoteo parcial tiene una complejidad computacional mucho menor que el cálculo del determinante utilizando la definición recursiva. \n",
    "\n",
    "El método de eliminación de Gauss con pivoteo parcial se utiliza para transformar una matriz en una matriz triangular superior utilizando operaciones elementales en las filas. Una vez que la matriz se ha transformado en una matriz triangular superior, su determinante se puede calcular simplemente multiplicando los elementos en la diagonal principal.\n",
    "\n",
    "La razón por la que el método de eliminación de Gauss con pivoteo parcial tiene esta complejidad computacional es que se basa en la realización de operaciones elementales en las filas para transformar la matriz en una matriz triangular superior. \n",
    "\n",
    "El costo computacional del método de eliminación de Gauss con pivoteo parcial para llegar a la matriz triangular superior es del orden de O(n^3) debido a que el proceso consta de tres pasos principales que se repiten n veces:\n",
    "\n",
    "- Encontrar el elemento pivote: en cada iteración, se busca el elemento con el valor absoluto más grande en la columna actual para usarlo como pivote. Este paso tiene un costo computacional del orden de O(n).\n",
    "\n",
    "- Intercambiar filas: si el elemento pivote no está en la fila actual, se intercambia la fila actual con la fila que contiene el elemento pivote. Este paso tiene un costo computacional del orden de O(n).\n",
    "\n",
    "- Eliminar elementos por debajo del pivote: en cada iteración, se eliminan los elementos por debajo del pivote en la columna actual utilizando operaciones de fila. Este paso tiene un costo computacional del orden de O(n^2), ya que se deben realizar n operaciones en cada una de las n filas por debajo del pivote.\n",
    "\n",
    "Dado que estos tres pasos se repiten n veces, el costo computacional total del proceso es del orden de O(n * (n + n + n^2)).\n",
    "\n",
    "Solo nos interesa el término de mayor orden en la expresión, ya que este término domina el comportamiento asintótico de la función. \n",
    "\n",
    "En este caso, el término de mayor orden en la expresión n * (n + n + n^2) es n^3, por lo que podemos decir que el costo computacional es del orden de O(n^3).\n",
    "\n",
    "Una vez que la matriz se ha transformado en una matriz triangular superior, su determinante se puede calcular simplemente multiplicando los elementos en la diagonal principal.\n",
    "\n",
    "Esto significa que el cálculo del determinante utilizando este método tiene una complejidad cúbica, lo que lo hace mucho más eficiente que el cálculo del determinante utilizando la definición recursiva para matrices grandes."
   ]
  },
  {
   "attachments": {},
   "cell_type": "markdown",
   "metadata": {},
   "source": [
    "## g) Utilizando numpy.random.rand, genera matrices cuadradas aleatorias de la forma An ∈ R n×n, para 2 ≤ n ≤ 10, y confecciona una tabla comparativa del tiempo de ejecución asociado a cada una de las variantes siguientes, interpretando los resultados:\n",
    "\n",
    "- Utilizando determinante recursivo.\n",
    "- Empleando determinante gauss.\n",
    "- Haciendo uso de la funci´on preprogramada numpy.linalg.det\n"
   ]
  },
  {
   "cell_type": "code",
   "execution_count": 12,
   "metadata": {},
   "outputs": [
    {
     "name": "stdout",
     "output_type": "stream",
     "text": [
      "Matriz aleatoria 2x2:\n",
      "[[0.90630926 0.30206244]\n",
      " [0.69779541 0.4655574 ]]\n"
     ]
    }
   ],
   "source": [
    "n = random.randint(2, 10) # especifica el tamaño de la matriz aleatorio entre 2 y 10 (inclusive)\n",
    "A = np.random.rand(n, n)\n",
    "print(f\"Matriz aleatoria {n}x{n}:\")\n",
    "print(A)"
   ]
  },
  {
   "attachments": {},
   "cell_type": "markdown",
   "metadata": {},
   "source": [
    "### Utilizando determinante recursivo."
   ]
  },
  {
   "cell_type": "code",
   "execution_count": 13,
   "metadata": {},
   "outputs": [
    {
     "name": "stdout",
     "output_type": "stream",
     "text": [
      "Determinante de A: 0.2111611948198588\n",
      "Tiempo transcurrido: 5.7500030379742384e-05 segundos\n"
     ]
    }
   ],
   "source": [
    "# Medir el tiempo de inicio\n",
    "start_time = time.perf_counter()\n",
    "\n",
    "# Calcular el determinante utilizando la función determinante_recursivo\n",
    "det_A = determinante_recursivo(A)\n",
    "\n",
    "# Medir el tiempo de finalización\n",
    "end_time = time.perf_counter()\n",
    "\n",
    "# Calcular el tiempo transcurrido\n",
    "elapsed_time_recursivo = end_time - start_time\n",
    "\n",
    "print(f\"Determinante de A: {det_A}\")\n",
    "print(f\"Tiempo transcurrido: {elapsed_time_recursivo} segundos\")"
   ]
  },
  {
   "attachments": {},
   "cell_type": "markdown",
   "metadata": {},
   "source": [
    "### Empleando determinante gauss.\n"
   ]
  },
  {
   "cell_type": "code",
   "execution_count": 14,
   "metadata": {},
   "outputs": [
    {
     "name": "stdout",
     "output_type": "stream",
     "text": [
      "Determinante de A: 0.21116119481985876\n",
      "Tiempo transcurrido: 0.0001249000197276473 segundos\n"
     ]
    }
   ],
   "source": [
    "#La vuelvo a definir para crear otra sin los prints que molestan al llamar a la función \n",
    "def determinante_gauss(matriz):\n",
    "    n = len(matriz) # Obtenemos el tamaño de la matriz\n",
    "    det = 1 # Inicializamos el determinante en 1\n",
    "    matriz = np.array(matriz, float) # Convertimos la matriz a una matriz de números flotantes\n",
    "    \n",
    "    for i in range(n): # Para cada columna de la matriz\n",
    "        max_row = i # Inicializamos la fila con el valor absoluto más grande en la columna actual\n",
    "        for j in range(i+1,n): # Para cada fila debajo de la fila actual\n",
    "            if np.abs(matriz[j][i]) > np.abs(matriz[max_row][i]): # Si el valor absoluto del elemento en la fila actual es mayor que el valor absoluto del elemento en la fila con el valor absoluto más grande\n",
    "                max_row = j # Actualizamos la fila con el valor absoluto más grande\n",
    "        if max_row != i: # Si la fila con el valor absoluto más grande no es la fila actual\n",
    "            matriz[[i,max_row]] = matriz[[max_row,i]] # Intercambiamos las filas\n",
    "            det *= -1 # Multiplicamos el determinante por -1 ya que intercambiar dos filas cambia el signo del determinante\n",
    "        if np.abs(matriz[i][i]) < 1e-10: # Si el elemento de la diagonal es muy pequeño, el determinante es cero\n",
    "            return 0\n",
    "        det *= matriz[i][i] # Multiplicamos el determinante por el elemento de la diagonal\n",
    "        for j in range(i+1,n): # Para cada fila debajo de la fila actual\n",
    "            ratio = matriz[j][i]/matriz[i][i] # Calculamos el ratio para hacer cero el elemento debajo del elemento de la diagonal\n",
    "            for k in range(n): # Para cada elemento en la fila\n",
    "                matriz[j][k] -= ratio * matriz[i][k] # Restamos el producto del ratio y el elemento correspondiente en la fila actual\n",
    "    return det\n",
    "\n",
    "\n",
    "# Medir el tiempo de inicio\n",
    "start_time = time.perf_counter()\n",
    "\n",
    "# Calcular el determinante utilizando la función determinante_gauss\n",
    "det_A = determinante_gauss(A)\n",
    "\n",
    "# Medir el tiempo de finalización\n",
    "end_time = time.perf_counter()\n",
    "\n",
    "# Calcular el tiempo transcurrido\n",
    "elapsed_time_gauss = end_time - start_time\n",
    "\n",
    "print(f\"Determinante de A: {det_A}\")\n",
    "print(f\"Tiempo transcurrido: {elapsed_time_gauss} segundos\")"
   ]
  },
  {
   "attachments": {},
   "cell_type": "markdown",
   "metadata": {},
   "source": [
    "### Haciendo uso de la función preprogramada numpy.linalg.det"
   ]
  },
  {
   "cell_type": "code",
   "execution_count": 15,
   "metadata": {},
   "outputs": [
    {
     "name": "stdout",
     "output_type": "stream",
     "text": [
      "Determinante de A: 0.21116119481985882\n",
      "Tiempo transcurrido: 0.00010820000898092985 segundos\n"
     ]
    }
   ],
   "source": [
    "# Medir el tiempo de inicio\n",
    "start_time = time.perf_counter()\n",
    "\n",
    "# Calcular el determinante utilizando la función numpy.linalg.det\n",
    "det_A = np.linalg.det(A)\n",
    "\n",
    "# Medir el tiempo de finalización\n",
    "end_time = time.perf_counter()\n",
    "\n",
    "# Calcular el tiempo transcurrido\n",
    "elapsed_time_linalg = end_time - start_time\n",
    "\n",
    "print(f\"Determinante de A: {det_A}\")\n",
    "print(f\"Tiempo transcurrido: {elapsed_time_linalg} segundos\")"
   ]
  },
  {
   "attachments": {},
   "cell_type": "markdown",
   "metadata": {},
   "source": [
    "### GRÁFICO COMPARATIVO (TIEMPO DEPENDIENDO DE TAMAÑO DE MATRIZ)"
   ]
  },
  {
   "cell_type": "code",
   "execution_count": 16,
   "metadata": {},
   "outputs": [
    {
     "data": {
      "image/png": "[encoded data removed]",
      "text/plain": [
       "<Figure size 640x480 with 1 Axes>"
      ]
     },
     "metadata": {},
     "output_type": "display_data"
    }
   ],
   "source": [
    "import matplotlib.pyplot as plt\n",
    "# Crear una lista con los tamaños de las matrices para las que se quiere medir el tiempo transcurrido\n",
    "tamaños = range(2, 11)\n",
    "\n",
    "# Crear listas vacías para almacenar los tiempos transcurridos para cada método\n",
    "tiempos_recursivo = []\n",
    "tiempos_gauss = []\n",
    "tiempos_linalg = []\n",
    "\n",
    "# Medir el tiempo transcurrido para calcular el determinante de matrices de diferentes tamaños\n",
    "for n in tamaños:\n",
    "    # Crear una matriz aleatoria de tamaño nxn\n",
    "    A = np.random.rand(n, n)\n",
    "\n",
    "    # Medir el tiempo transcurrido para calcular el determinante utilizando la función determinante_recursivo\n",
    "    start_time = time.perf_counter()\n",
    "    det_A = determinante_recursivo(A)\n",
    "    end_time = time.perf_counter()\n",
    "    elapsed_time = end_time - start_time\n",
    "    tiempos_recursivo.append(elapsed_time)\n",
    "\n",
    "    # Medir el tiempo transcurrido para calcular el determinante utilizando la función determinante_gauss\n",
    "    start_time = time.perf_counter()\n",
    "    det_A = determinante_gauss(A)\n",
    "    end_time = time.perf_counter()\n",
    "    elapsed_time = end_time - start_time\n",
    "    tiempos_gauss.append(elapsed_time)\n",
    "\n",
    "    # Medir el tiempo transcurrido para calcular el determinante utilizando la función numpy.linalg.det\n",
    "    start_time = time.perf_counter()\n",
    "    det_A = np.linalg.det(A)\n",
    "    end_time = time.perf_counter()\n",
    "    elapsed_time = end_time - start_time\n",
    "    tiempos_linalg.append(elapsed_time)\n",
    "\n",
    "# Crear un gráfico que muestre cómo varía el tiempo transcurrido en función del tamaño de la matriz\n",
    "plt.plot(tamaños, tiempos_recursivo, label=\"Recursivo\")\n",
    "plt.plot(tamaños, tiempos_gauss, label=\"Gauss\")\n",
    "plt.plot(tamaños, tiempos_linalg, label=\"Numpy linalg.det\")\n",
    "plt.legend()\n",
    "plt.xlabel(\"Tamaño de la matriz (nxn)\")\n",
    "plt.ylabel(\"Tiempo transcurrido (segundos)\")\n",
    "plt.show()\n",
    "\n"
   ]
  },
  {
   "cell_type": "code",
   "execution_count": 17,
   "metadata": {},
   "outputs": [
    {
     "data": {
      "image/png": "[encoded data removed]",
      "text/plain": [
       "<Figure size 640x480 with 1 Axes>"
      ]
     },
     "metadata": {},
     "output_type": "display_data"
    }
   ],
   "source": [
    "# Gráfico que muestra sólo los tiempos transcurridos para los métodos de Gauss y numpy.linalg.det\n",
    "plt.plot(tamaños, tiempos_gauss, label=\"Gauss\")\n",
    "plt.plot(tamaños, tiempos_linalg, label=\"Numpy linalg.det\")\n",
    "plt.legend()\n",
    "plt.xlabel(\"Tamaño de la matriz (nxn)\")\n",
    "plt.ylabel(\"Tiempo transcurrido (segundos)\")\n",
    "plt.show()"
   ]
  },
  {
   "cell_type": "code",
   "execution_count": 18,
   "metadata": {},
   "outputs": [
    {
     "data": {
      "text/html": [
       "<div>\n",
       "<style scoped>\n",
       "    .dataframe tbody tr th:only-of-type {\n",
       "        vertical-align: middle;\n",
       "    }\n",
       "\n",
       "    .dataframe tbody tr th {\n",
       "        vertical-align: top;\n",
       "    }\n",
       "\n",
       "    .dataframe thead th {\n",
       "        text-align: right;\n",
       "    }\n",
       "</style>\n",
       "<table border=\"1\" class=\"dataframe\">\n",
       "  <thead>\n",
       "    <tr style=\"text-align: right;\">\n",
       "      <th></th>\n",
       "      <th>Tamaño</th>\n",
       "      <th>Recursivo</th>\n",
       "      <th>Gauss</th>\n",
       "      <th>Numpy linalg.det</th>\n",
       "    </tr>\n",
       "  </thead>\n",
       "  <tbody>\n",
       "    <tr>\n",
       "      <th>0</th>\n",
       "      <td>2</td>\n",
       "      <td>0.000008</td>\n",
       "      <td>0.000033</td>\n",
       "      <td>0.000041</td>\n",
       "    </tr>\n",
       "    <tr>\n",
       "      <th>1</th>\n",
       "      <td>3</td>\n",
       "      <td>0.000039</td>\n",
       "      <td>0.000052</td>\n",
       "      <td>0.000010</td>\n",
       "    </tr>\n",
       "    <tr>\n",
       "      <th>2</th>\n",
       "      <td>4</td>\n",
       "      <td>0.000124</td>\n",
       "      <td>0.000070</td>\n",
       "      <td>0.000018</td>\n",
       "    </tr>\n",
       "    <tr>\n",
       "      <th>3</th>\n",
       "      <td>5</td>\n",
       "      <td>0.000619</td>\n",
       "      <td>0.000090</td>\n",
       "      <td>0.000011</td>\n",
       "    </tr>\n",
       "    <tr>\n",
       "      <th>4</th>\n",
       "      <td>6</td>\n",
       "      <td>0.003715</td>\n",
       "      <td>0.000147</td>\n",
       "      <td>0.000011</td>\n",
       "    </tr>\n",
       "    <tr>\n",
       "      <th>5</th>\n",
       "      <td>7</td>\n",
       "      <td>0.025156</td>\n",
       "      <td>0.000213</td>\n",
       "      <td>0.000014</td>\n",
       "    </tr>\n",
       "    <tr>\n",
       "      <th>6</th>\n",
       "      <td>8</td>\n",
       "      <td>0.200692</td>\n",
       "      <td>0.000329</td>\n",
       "      <td>0.000046</td>\n",
       "    </tr>\n",
       "    <tr>\n",
       "      <th>7</th>\n",
       "      <td>9</td>\n",
       "      <td>1.847475</td>\n",
       "      <td>0.000432</td>\n",
       "      <td>0.000041</td>\n",
       "    </tr>\n",
       "    <tr>\n",
       "      <th>8</th>\n",
       "      <td>10</td>\n",
       "      <td>18.058860</td>\n",
       "      <td>0.000552</td>\n",
       "      <td>0.000042</td>\n",
       "    </tr>\n",
       "  </tbody>\n",
       "</table>\n",
       "</div>"
      ],
      "text/plain": [
       "   Tamaño  Recursivo     Gauss  Numpy linalg.det\n",
       "0       2   0.000008  0.000033          0.000041\n",
       "1       3   0.000039  0.000052          0.000010\n",
       "2       4   0.000124  0.000070          0.000018\n",
       "3       5   0.000619  0.000090          0.000011\n",
       "4       6   0.003715  0.000147          0.000011\n",
       "5       7   0.025156  0.000213          0.000014\n",
       "6       8   0.200692  0.000329          0.000046\n",
       "7       9   1.847475  0.000432          0.000041\n",
       "8      10  18.058860  0.000552          0.000042"
      ]
     },
     "metadata": {},
     "output_type": "display_data"
    }
   ],
   "source": [
    "# Crear un DataFrame con los datos\n",
    "data = {\n",
    "    \"Tamaño\": list(tamaños),\n",
    "    \"Recursivo\": tiempos_recursivo,\n",
    "    \"Gauss\": tiempos_gauss,\n",
    "    \"Numpy linalg.det\": tiempos_linalg\n",
    "}\n",
    "df = pd.DataFrame(data)\n",
    "\n",
    "# Mostrar el DataFrame\n",
    "display(df)"
   ]
  },
  {
   "cell_type": "code",
   "execution_count": 20,
   "metadata": {},
   "outputs": [
    {
     "name": "stdout",
     "output_type": "stream",
     "text": [
      "n=2 -> n=3\n",
      "Razón Recursivo: 4.68 (Esperado: 3.00)\n",
      "Razón Gauss: 1.56 (Esperado: 3.38)\n",
      "n=3 -> n=4\n",
      "Razón Recursivo: 3.15 (Esperado: 4.00)\n",
      "Razón Gauss: 1.34 (Esperado: 2.37)\n",
      "n=4 -> n=5\n",
      "Razón Recursivo: 5.00 (Esperado: 5.00)\n",
      "Razón Gauss: 1.28 (Esperado: 1.95)\n",
      "n=5 -> n=6\n",
      "Razón Recursivo: 6.00 (Esperado: 6.00)\n",
      "Razón Gauss: 1.63 (Esperado: 1.73)\n",
      "n=6 -> n=7\n",
      "Razón Recursivo: 6.77 (Esperado: 7.00)\n",
      "Razón Gauss: 1.45 (Esperado: 1.59)\n",
      "n=7 -> n=8\n",
      "Razón Recursivo: 7.98 (Esperado: 8.00)\n",
      "Razón Gauss: 1.54 (Esperado: 1.49)\n",
      "n=8 -> n=9\n",
      "Razón Recursivo: 9.21 (Esperado: 9.00)\n",
      "Razón Gauss: 1.31 (Esperado: 1.42)\n",
      "n=9 -> n=10\n",
      "Razón Recursivo: 9.77 (Esperado: 10.00)\n",
      "Razón Gauss: 1.28 (Esperado: 1.37)\n"
     ]
    }
   ],
   "source": [
    "# Calcula la razón entre los tiempos de ejecución para diferentes tamaños del problema\n",
    "for i in range(2, 10):\n",
    "    # Selecciona dos filas consecutivas del dataframe\n",
    "    row1 = df.loc[df['Tamaño'] == i]\n",
    "    row2 = df.loc[df['Tamaño'] == i+1]\n",
    "    \n",
    "    # Calcula la razón entre los tiempos de ejecución para el método Recursivo\n",
    "    ratio_recursive = row2['Recursivo'].values[0] / row1['Recursivo'].values[0]\n",
    "    \n",
    "    # Calcula la razón entre los tiempos de ejecución para el método Gauss\n",
    "    ratio_gauss = row2['Gauss'].values[0] / row1['Gauss'].values[0]\n",
    "    \n",
    "    # Calcula el valor esperado para un costo computacional de n!\n",
    "    expected_recursive = i+1\n",
    "    \n",
    "    # Calcula el valor esperado para un costo computacional de n^3\n",
    "    expected_gauss = ((i+1)/i)**3\n",
    "    \n",
    "    # Imprime los resultados\n",
    "    print(f\"n={i} -> n={i+1}\")\n",
    "    print(f\"Razón Recursivo: {ratio_recursive:.2f} (Esperado: {expected_recursive:.2f})\")\n",
    "    print(f\"Razón Gauss: {ratio_gauss:.2f} (Esperado: {expected_gauss:.2f})\")"
   ]
  }
 ],
 "metadata": {
  "kernelspec": {
   "display_name": "base",
   "language": "python",
   "name": "python3"
  },
  "language_info": {
   "codemirror_mode": {
    "name": "ipython",
    "version": 3
   },
   "file_extension": ".py",
   "mimetype": "text/x-python",
   "name": "python",
   "nbconvert_exporter": "python",
   "pygments_lexer": "ipython3",
   "version": "3.10.9"
  },
  "orig_nbformat": 4
 },
 "nbformat": 4,
 "nbformat_minor": 2
}
