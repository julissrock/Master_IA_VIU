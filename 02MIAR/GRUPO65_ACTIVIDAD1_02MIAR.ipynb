{
 "cells": [
  {
   "cell_type": "markdown",
   "id": "8b7846e7",
   "metadata": {},
   "source": [
    "# 02MIAR - Matemáticas para la Inteligencia Artificial\n",
    "## Actividad 1 - Grupo 65\n",
    "#### Integrantes\n",
    "- #### Jorge Quijano Díaz\n",
    "- #### José Belenguer Ballester\n",
    "- #### Esmarlin Julissa Moreno\n"
   ]
  },
  {
   "cell_type": "markdown",
   "id": "9a766107",
   "metadata": {},
   "source": [
    "# Ejercicio 1\n",
    "Tal y como ya hemos visto en clase, la variedad de herramientas proporcionadas por el álgebra lineal son cruciales para desarrollar y fundamentar las bases de una variedad de técnicas relacionadas con el aprendizaje automático. Con ella, podemos describir el proceso de propagación hacia adelante en una red neuronal, identificar mínimos locales en funciones multivariables (crucial para el proceso de retropropagación) o la descripción y empleo de métodos de reducción de la dimensionalidad, como el análisis de componentes principales (PCA), entre muchas otras aplicaciones. \n",
    "\n",
    "Cuando trabajamos en la práctica dentro de este ámbito, la cantidad de datos que manejamos puede ser muy grande, por lo que es especialmente importante emplear algoritmos eficientes y optimizados para reducir el coste computacional en la medida de lo posible. Por todo ello, el objetivo de este ejercicio es el de ilustrar las diferentes alternativas que pueden existir para realizar un proceso relacionado con el álgebra lineal y el impacto que puede tener cada variante en términos del coste computacional del mismo. En este caso en particular, y a modo de ilustración, nos centraremos en el cálculo del determinante de una matriz."
   ]
  },
  {
   "cell_type": "code",
   "execution_count": 1,
   "id": "33897133",
   "metadata": {},
   "outputs": [],
   "source": [
    "import numpy as np\n",
    "import random\n",
    "import time \n",
    "import pandas as pd"
   ]
  },
  {
   "cell_type": "markdown",
   "id": "c4554f77",
   "metadata": {},
   "source": [
    "### a) Implementa una funcion, determinante_recursivo, que obtenga el determinante de una matriz cuadrada utilizando la definicion recursiva de Laplace.\n"
   ]
  },
  {
   "cell_type": "markdown",
   "id": "20ecb943",
   "metadata": {},
   "source": [
    "\n",
    "La función **determinante_recursivo** calcula el determinante de una matriz cuadrada utilizando la definición recursiva de Laplace. \n",
    "\n",
    "Primero, la función verifica si la matriz es de 1x1 o de 2x2. Si es de 1x1, el determinante es el único elemento de la matriz. Si es de 2x2, el determinante se calcula directamente utilizando la fórmula matriz[0][0] * matriz[1][1] - matriz[0][1] * matriz[1][0].\n",
    "\n",
    "Si la matriz no es ni de 1x1 ni de 2x2, se aplica la **definición recursiva de Laplace** para calcular el determinante. Para ello, se inicializa una variable determinante en 0.\n",
    "\n",
    "Luego, se itera sobre cada columna i de la matriz. \n",
    "\n",
    "Para cada columna i, se crea una submatriz eliminando la primera fila y la columna i. Esto se hace utilizando la comprensión de listas \n",
    "\n",
    "<p style=\"text-align:center;\">[fila[:i] + fila[i+1:] for fila in matriz [1:]]\n",
    "\n",
    "\n",
    "Después, **se calcula el determinante** de la submatriz utilizando la función determinante_recursivo **recursivamente**.\n",
    "\n",
    "Finalmente, se suma o resta el determinante de la submatriz al determinante total según corresponda. \n",
    "\n",
    "- Si i es par, se suma \n",
    "- Si i es impar, se resta. \n",
    "\n",
    "Esto se hace multiplicando el elemento matriz[0][i] por el determinante de la submatriz y sumándolo o restando al determinante total.\n",
    "\n",
    "Una vez que se han iterado todas las columnas, se devuelve el valor del determinante calculado.\n",
    "\n",
    "Esta función utiliza la definición recursiva de Laplace para calcular el determinante de una matriz cuadrada. En cada llamada recursiva, se reduce el tamaño de la matriz hasta llegar a los casos base (matrices de 1x1 o 2x2), donde el determinante se puede calcular directamente.\n",
    "\n",
    "<p style=\"text-align:center;\"><strong><em> De esta manera, se puede calcular el determinante de cualquier matriz cuadrada. </em></strong></p>"
   ]
  },
  {
   "cell_type": "code",
   "execution_count": 2,
   "id": "43ee525d",
   "metadata": {},
   "outputs": [],
   "source": [
    "def determinante_recursivo(matriz):\n",
    "    # Caso base: si la matriz es de 1x1, el determinante es el único elemento de la matriz\n",
    "    if len(matriz) == 1:\n",
    "        return matriz[0][0]\n",
    "    # Caso base: si la matriz es de 2x2, el determinante se calcula directamente\n",
    "    elif len(matriz) == 2:\n",
    "        return matriz[0][0] * matriz[1][1] - matriz[0][1] * matriz[1][0]\n",
    "    else:\n",
    "        # Caso recursivo: se calcula el determinante utilizando la definición recursiva de Laplace\n",
    "        determinante = 0\n",
    "        for i in range(len(matriz)):\n",
    "            # Se crea una submatriz eliminando la primera fila y la columna i\n",
    "            submatriz = [np.concatenate((fila[:i], fila[i+1:])) for fila in matriz[1:]]\n",
    "            # Se calcula el determinante de la submatriz utilizando la función recursivamente\n",
    "            det_submatriz = determinante_recursivo(submatriz)\n",
    "            # Se suma o resta el determinante de la submatriz al determinante total según corresponda\n",
    "            if i % 2 == 0:\n",
    "                determinante += matriz[0][i] * det_submatriz\n",
    "            else:\n",
    "                determinante -= matriz[0][i] * det_submatriz\n",
    "        return determinante"
   ]
  },
  {
   "cell_type": "code",
   "execution_count": 3,
   "id": "84239bc7",
   "metadata": {},
   "outputs": [
    {
     "name": "stdout",
     "output_type": "stream",
     "text": [
      "El determinante de la matriz es: -7.0\n"
     ]
    }
   ],
   "source": [
    "# Definimos una matriz de 3x3\n",
    "matriz = [[3, 2, -3],\n",
    "          [7, -1, 0],\n",
    "          [2, -4, 5]]\n",
    "\n",
    "# Calculamos el determinante de la matriz utilizando la función determinante_recursivo\n",
    "determinante = determinante_recursivo(matriz)\n",
    "\n",
    "\n",
    "# Imprimimos el resultado\n",
    "print(f\"El determinante de la matriz es: {determinante}\")\n"
   ]
  },
  {
   "cell_type": "code",
   "execution_count": 4,
   "id": "719e371e",
   "metadata": {},
   "outputs": [
    {
     "name": "stdout",
     "output_type": "stream",
     "text": [
      "El determinante de la matriz es: -95.0\n"
     ]
    }
   ],
   "source": [
    "# Definimos una matriz de 4x4\n",
    "matriz = [[5, 3, 1, 0],\n",
    "          [-1, 2, 5, -2],\n",
    "          [3, -1, -2, 0],\n",
    "          [-5, 0, -3, 1]]\n",
    "\n",
    "# Calculamos el determinante de la matriz utilizando la función determinante_recursivo\n",
    "determinante = determinante_recursivo(matriz)\n",
    "\n",
    "# Imprimimos el resultado\n",
    "print(f\"El determinante de la matriz es: {determinante}\")"
   ]
  },
  {
   "cell_type": "markdown",
   "id": "b4a92896",
   "metadata": {},
   "source": [
    "### b) Si A es una matriz cuadrada n×n y triangular (superior o inferior, es decir, con entradas nulas por debajo o por encima de la diagonal, respectivamente), ¿existe alguna forma de calcular de forma directa y sencilla su determinante? Justifíquese la respuesta."
   ]
  },
  {
   "cell_type": "markdown",
   "id": "a2912cde",
   "metadata": {},
   "source": [
    "\n",
    "Supongamos que tenemos una matriz triangular superior `A` de tamaño `3x3` como la siguiente:\n",
    "\n",
    "$$\n",
    "A = \\begin{bmatrix}\n",
    "a & b & c \\\\\n",
    "0 & d & e \\\\\n",
    "0 & 0 & f\n",
    "\\end{bmatrix}\n",
    "$$\n",
    "\n",
    "Para calcular el determinante de esta matriz, podemos utilizar la **definición recursiva de Laplace** expandiendo por la primera fila. \n",
    "\n",
    "Esto nos da:\n",
    "\n",
    "$$\n",
    "\\det(A) = a \\det \\begin{bmatrix} d & e \\\\ 0 & f \\end{bmatrix} - b \\det \\begin{bmatrix} 0 & e \\\\ 0 & f \\end{bmatrix} + c \\det \\begin{bmatrix} 0 & d \\\\ 0 & 0 \\end{bmatrix}\n",
    "$$\n",
    "\n",
    "Si observamos las submatrices resultantes, podemos ver que **todas son matrices triangulares superiores.** \n",
    "También se observa la **segunda y tercera submatrices** tienen una fila de ceros, lo que significa que sus **determinantes son cero.** Por lo tanto, la ecuación anterior se simplifica a:\n",
    "\n",
    "$$\n",
    "\\det(A) = a \\det \\begin{bmatrix} d & e \\\\ 0 & f \\end{bmatrix}\n",
    "$$\n",
    "\n",
    "\n",
    "Ahora podemos calcular el determinante de la submatriz `2x2` utilizando la fórmula directa para matrices `2x2`:\n",
    "\n",
    "$$\n",
    "\\det(A) = a (df - 0e) = adf\n",
    "$$\n",
    "$$\n",
    "\\det(A) = a \\cdot d \\cdot f \n",
    "$$\n",
    "\n",
    "El determinante de la matriz `A` resulta ser el **producto de los elementos en su diagonal principal**: `a * d * f`.\n",
    "\n",
    "Este mismo razonamiento se puede aplicar a matrices triangulares superiores o inferiores de cualquier tamaño n×n.\n",
    "\n",
    "<p style=\"text-align:center;\"><strong><em> El determinante de una matriz triangular es igual al producto de los elementos en su diagonal principal.</em></strong></p>"
   ]
  },
  {
   "cell_type": "code",
   "execution_count": 5,
   "id": "464d6990",
   "metadata": {},
   "outputs": [
    {
     "name": "stdout",
     "output_type": "stream",
     "text": [
      "El determinante de la matriz es: 24.00\n"
     ]
    }
   ],
   "source": [
    "# Definimos una matriz triangular superior\n",
    "A = np.array([[1, 2, 3],\n",
    "              [0, 4, 5],\n",
    "              [0, 0, 6]])\n",
    "\n",
    "# Calculamos el determinante de la matriz utilizando la función np.linalg.det\n",
    "determinante = np.linalg.det(A)\n",
    "\n",
    "# Imprimimos el resultado\n",
    "print(f\"El determinante de la matriz es: {determinante:.2f}\")"
   ]
  },
  {
   "cell_type": "markdown",
   "id": "152214f3",
   "metadata": {},
   "source": [
    "### c) Determínese de forma justificada cómo alteran el determinante de una matriz n × n las dos operaciones elementales siguientes: \n",
    "\n"
   ]
  },
  {
   "cell_type": "markdown",
   "id": "d4bda715",
   "metadata": {},
   "source": [
    "### Intercambiar una fila (o columna) por otra fila (o columna): \n",
    "\n",
    "Si intercambiamos dos filas o dos columnas de una matriz, el determinante de la matriz resultante cambia de signo. Es decir, si el determinante original era D, después de intercambiar dos filas o dos columnas, el determinante será -D.\n"
   ]
  },
  {
   "cell_type": "markdown",
   "id": "d3e9adb8",
   "metadata": {},
   "source": [
    "El determinante de una matriz cuadrada se puede calcular utilizando la definición recursiva de Laplace. \n",
    "\n",
    "Esta definición implica expandir el determinante en términos de los **cofactores de una fila o columna**. Cada cofactor se calcula **multiplicando un elemento de la matriz por el determinante de una submatriz más pequeña** y aplicando un **signo alternante.**\n",
    "\n",
    "Cuando intercambiamos dos filas o dos columnas en una matriz, estamos cambiando la posición de los elementos en la matriz. Esto afecta el cálculo de los cofactores y, por lo tanto, el valor del determinante.\n",
    "\n",
    "Para entender mejor cómo funciona esto, consideremos el caso de una matriz 2x2:\n",
    "$$\n",
    "A = \\begin{bmatrix} a & b \\\\ c & d \\end{bmatrix}\n",
    "$$\n",
    "\n",
    "El determinante de esta matriz se puede calcular directamente utilizando la fórmula : \n",
    "$$\n",
    "a \\cdot d - b \\cdot c\n",
    "$$\n",
    "\n",
    "Ahora, si intercambiamos las dos filas de la matriz para obtener una nueva matriz B:\n",
    "$$\n",
    "B = \\begin{bmatrix} c & d \\\\ a & b \\end{bmatrix}\n",
    "$$\n",
    "\n",
    "\n",
    "El determinante de esta nueva matriz se puede calcular utilizando la misma fórmula:\n",
    "$$\n",
    "c \\cdot b - d \\cdot a\n",
    "$$\n",
    "\n",
    "Si comparamos este resultado con el determinante original de la matriz A, podemos ver que el signo ha cambiado:\n",
    "$$\n",
    "det(B)=c \\cdot b - d \\cdot a = - (a \\cdot d - b \\cdot c) = −det(A)\n",
    "$$\n",
    "\n",
    "\n",
    "Este mismo razonamiento se puede aplicar a matrices de cualquier tamaño. \n",
    "\n",
    "Cuando intercambiamos dos filas o dos columnas en una matriz, estamos **cambiando el signo de los cofactores y, por lo tanto, el signo del determinante.**\n",
    "\n",
    "En resumen, el intercambio de filas o columnas en una matriz cambia el signo del determinante debido a cómo se calculan los cofactores en la definición recursiva de Laplace. \n",
    "\n",
    "<p style=\"text-align:center;\"><strong><em> Si el determinante original era D, después del intercambio será -D.</em></strong></p>\n"
   ]
  },
  {
   "cell_type": "code",
   "execution_count": 6,
   "id": "8b69de27",
   "metadata": {},
   "outputs": [
    {
     "name": "stdout",
     "output_type": "stream",
     "text": [
      "El determinante de A es: -1.00000\n",
      "El determinante de B es: 1.00000\n"
     ]
    }
   ],
   "source": [
    "# COMPROBACIÓN\n",
    "A = np.array([[2, 1, -1],\n",
    "             [-3, -1, 2],\n",
    "             [-2, 1, 2]])\n",
    "\n",
    "det_A = np.linalg.det(A)\n",
    "form_det_A = format(det_A, \".5f\")\n",
    "print(f\"El determinante de A es: {form_det_A}\")\n",
    "\n",
    "\n",
    "B = np.array([[-3, -1, 2],\n",
    "              [2, 1, -1],             \n",
    "              [-2, 1, 2]])\n",
    "\n",
    "det_B = np.linalg.det(B)\n",
    "form_det_B = format(det_B, \".5f\")\n",
    "print(f\"El determinante de B es: {form_det_B}\")\n"
   ]
  },
  {
   "cell_type": "markdown",
   "id": "69b43259",
   "metadata": {},
   "source": [
    "### Sumar a una fila (o columna) otra fila (o columna) multiplicada por un escalar α.\n",
    "\n",
    "Si sumamos a una fila (o columna) otra fila (o columna) multiplicada por un escalar α, **el determinante de la matriz no cambia.** \n"
   ]
  },
  {
   "cell_type": "markdown",
   "id": "f87004b1",
   "metadata": {},
   "source": [
    "\n",
    "Esto se debe a que esta operación elemental es equivalente a sumar el determinante de dos matrices: la matriz original y otra matriz que tiene todas las filas (o columnas) iguales a la matriz original excepto la fila (o columna) que se está modificando, que es igual a la fila (o columna) multiplicada por el escalar α. \n",
    "\n",
    "Como esta segunda matriz tiene dos filas (o columnas) iguales, su determinante es cero. Por lo tanto, al sumar el determinante de la matriz original y el determinante de esta segunda matriz, obtenemos el mismo valor que el determinante original.\n",
    "\n",
    "Por ejemplo, si tenemos la matriz A:\n",
    "$$\n",
    "A = \\begin{bmatrix} a & b \\\\ c & d \\end{bmatrix}\n",
    "$$\n",
    "El determinante de A es \n",
    "$$\n",
    "a \\cdot d - b \\cdot c\n",
    "$$\n",
    "\n",
    "D=ad−bc. \n",
    "Si sumamos a la primera fila la segunda fila multiplicada por un escalar α para obtener la matriz B:\n",
    "$$\n",
    "B = \\begin{bmatrix} a + \\alpha\\cdot c  &  b + \\alpha\\cdot d\\\\ c & d \\end{bmatrix}\n",
    "$$\n",
    "El determinante de B es \n",
    "$$\n",
    "det(B) = (a + \\alpha\\cdot c) \\cdot d - ( b + \\alpha\\cdot d) \\cdot c = (a \\cdot d) + (\\alpha \\cdot c \\cdot d) - (b \\cdot c) - (\\alpha \\cdot d \\cdot c) = (a \\cdot d) - (b \\cdot c)\n",
    "$$\n",
    "$$\n",
    "det(B) =  (a \\cdot d) - (b \\cdot c)\n",
    "$$\n",
    "\n",
    "<p style=\"text-align:center;\"><strong><em> Es decir, si el determinante original era D, después de realizar esta operación elemental, el determinante seguirá siendo D.</em></strong></p>\n",
    "\n",
    "\n"
   ]
  },
  {
   "cell_type": "code",
   "execution_count": 7,
   "id": "805b8f59",
   "metadata": {},
   "outputs": [
    {
     "name": "stdout",
     "output_type": "stream",
     "text": [
      "El determinante de A es: -1.00000\n",
      "El determinante de B es: -1.00000\n"
     ]
    }
   ],
   "source": [
    "# COMPROBACIÓN\n",
    "\n",
    "A = np.array([[2, 1, -1],\n",
    "             [-3, -1, 2],\n",
    "             [-2, 1, 2]])\n",
    "\n",
    "det_A = np.linalg.det(A)\n",
    "form_det_A = format(det_A, \".5f\")\n",
    "print(f\"El determinante de A es: {form_det_A}\")\n",
    "\n",
    "\n",
    "# Como debe dar el mismo resultado, el valor de alpha puede ser aleatorio\n",
    "a=random.random()\n",
    "\n",
    "B = np.array([[2 + -3*a, 1 + -1*a, -1 + 2*a],\n",
    "              [-3, -1, 2],\n",
    "              [-2, 1, 2]])\n",
    "\n",
    "det_B = np.linalg.det(B)\n",
    "form_det_B = format(det_B, \".5f\")\n",
    "print(f\"El determinante de B es: {form_det_B}\")\n"
   ]
  },
  {
   "cell_type": "markdown",
   "id": "d8a05e11",
   "metadata": {},
   "source": [
    "### d) Investiga sobre el método de eliminación de Gauss con pivoteo parcial e impleméntalo para escalonar una matriz (es decir, convertirla en una matriz triangular inferior) a partir de las operaciones elementales descritas en el apartado anterior"
   ]
  },
  {
   "cell_type": "markdown",
   "id": "c1a104f6",
   "metadata": {},
   "source": [
    "El método de eliminación de Gauss con pivoteo parcial es un algoritmo para escalonar una matriz y convertirla en una matriz triangular inferior o superior utilizando operaciones elementales. \n",
    "- Seleccionar el elemento con el **valor absoluto más grande en la columna** actual como el **pivote**. Si es necesario, intercambiar la fila del pivote con la fila actual.\n",
    "- Hacer cero todos los elementos por encima del pivote en la columna actual restando múltiplos adecuados de la fila del pivote de las filas anteriores a ella.\n",
    "- Repetir los pasos 1 y 2 para cada columna hasta que se alcance la última columna."
   ]
  },
  {
   "cell_type": "markdown",
   "id": "f19b3f90",
   "metadata": {},
   "source": [
    "### Pivoteo parcial para convertir en una matriz triangular inferior"
   ]
  },
  {
   "cell_type": "markdown",
   "id": "19eeb1d5",
   "metadata": {},
   "source": [
    "Los pasos involucrados en la eliminación de Gauss con pivoteo parcial son los siguientes:\n",
    "\n",
    "\n",
    "Supongamos que tenemos la siguiente matriz cuadrada A: \n",
    "$$ \n",
    "A = \\begin{bmatrix} 2 & 1 & -1 \\\\ -3 & -1 & 2 \\\\ -2 & 1 & 2 \\end{bmatrix} \n",
    "$$ \n",
    "\n",
    "Primero,  **encontramos la fila con el valor absoluto más grande en la tercera columna** para intercambiarla por la tercera fila, en este caso puede ser la tercera fila por lo que no se hace intercambio. \n",
    "La matriz se queda igual:\n",
    "\n",
    "$$ \n",
    "A = \\begin{bmatrix} 2 & 1 & -1 \\\\ -3 & -1 & 2 \\\\ -2 & 1 & \\color{red}{2} \\end{bmatrix} \n",
    "$$ \n",
    "\n",
    "Buscamos **hacer cero todos los elementos encima del pivote** <span style=\"color:red;\">(2)</span>\n",
    " por lo que **restamos múltiplos** de la tercera fila de las otras filas \n",
    "\n",
    "En este caso para hacer cero el elemento en la segunda fila y tercera columna, restamos 1 vez la tercera fila a la segunda fila: \n",
    "\n",
    "$$ A= \\begin{bmatrix} 2 & 1 & -1 \\\\ -3 & -1 & 2 \\\\ -2 & 1 & \\color{red}{2} \\end{bmatrix}  \\rightarrow \\begin{bmatrix} 2 & 1 & -1 \\\\ -1 & -2 & 0 \\\\ -2 & 1 & \\color{red}{2} \\end{bmatrix}  \n",
    "$$ \n",
    "\n",
    "\n",
    "\n",
    "\n",
    "\n",
    "Para hacer cero el elemento en la primera fila y tercera columna, sumamos (1/2) veces la tercera fila a la primera fila: \n",
    "$$  A= \\begin{bmatrix} 2 & 1 & -1 \\\\ -1 & -2 & 0 \\\\ -2 & 1 & \\color{red}{2} \\end{bmatrix} \\rightarrow \\begin{bmatrix} 1 & 3/2 &0 \\\\-1 & -2 & 0 \\\\-2 & 1 & \\color{red}{2} \\end {bmatrix} $$ \n",
    "\n",
    "**Repetimos el proceso** con la submatriz que queda después de eliminar la primera fila y columna. \n",
    "\n",
    "**Encontramos la fila con el valor absoluto más grande** en la segunda columna, que en este caso es la segunda fila.\n",
    "\n",
    "**Intercambiamos**, en este caso puede ser la segunda fila por lo que no se hace intercambio. \n",
    "\n",
    "Queremos **hacer cero todos los elementos encima del pivote** <span style=\"color:red;\">(-2)</span> en la segunda columna . \n",
    "\n",
    "Para hacer cero el elemento en la primera fila y segunda columna, sumamos (3/4) veces la segunda fila a la primera fila: \n",
    "$$  A= \\begin{bmatrix} 1 & 3/2 &0 \\\\-1 & \\color{red}{-2} & 0 \\\\-2 & 1 & 2 \\end {bmatrix} \\rightarrow \\begin{bmatrix} 1/4 & 0 & 0 \\\\ -1 & \\color{red}{-2} & 0 \\\\ -2 & 1 & 2 \\end {bmatrix} $$ \n",
    "\n",
    "\n",
    "\n"
   ]
  },
  {
   "cell_type": "markdown",
   "id": "a495bdb8",
   "metadata": {},
   "source": [
    "### Pivoteo parcial para convertir en una matriz triangular superior"
   ]
  },
  {
   "cell_type": "markdown",
   "id": "8db5f02d",
   "metadata": {},
   "source": [
    "El método de eliminación de Gauss con pivoteo parcial también se puede utilizar para convertir una matriz en una matriz triangular superior. \n",
    "\n",
    "En este caso, en lugar de hacer cero todos los elementos debajo del pivote en cada columna, se hacen cero todos los elementos por encima del pivote. \n",
    "\n",
    "Esto se logra restando múltiplos de la fila del pivote de las filas anteriores.\n",
    "\n",
    "Supongamos que tenemos la siguiente matriz cuadrada A:\n",
    "\n",
    "$$ A = \\begin{bmatrix} 2 & 1 & -1 \\\\ -3 & -1 & 2 \\\\ -2 & 1 & 2 \\end{bmatrix} $$\n",
    "\n",
    "Primero, **encontramos la fila con el valor absoluto más grande en la primera columna**, que en este caso es la segunda fila. **Intercambiamos esta fila con la primera fila** para obtener:\n",
    "\n",
    "$$ A = \\begin{bmatrix} \\color{red}{-3} & -1 & 2 \\\\ 2 & 1 & -1 \\\\ -2 & 1 & 2 \\end{bmatrix} $$\n",
    "\n",
    "\n",
    "Buscamos **hacer cero todos los elementos debajo del pivote** <span style=\"color:red;\">(-3)</span> por lo que **restamos múltiplos de la primera fila de las otras filas**\n",
    "\n",
    "Para hacer cero el elemento en la segunda fila y primera columna, restamos 2/3 veces la primera fila de la segunda fila:\n",
    "\n",
    "$$ \\begin{bmatrix} \\color{red}{-3} & -1 & 2 \\\\ 2 & 1 & -1 \\\\ -2 & 1 & 2 \\end{bmatrix} \\rightarrow \\begin{bmatrix} \\color{red}{-3} & -1 & 2 \\\\ 0 & 1/3 & 1/3 \\\\ -2 & 1 & 2 \\end{bmatrix} $$\n",
    "\n",
    "Para hacer cero el elemento en la tercera fila y primera columna, sumamos 2/3 veces la primera fila a la tercera fila:\n",
    "\n",
    "$$ \\begin{bmatrix} \\color{red}{-3} & -1 & 2 \\\\ 0 & 1/3 & 1/3 \\\\ -2 & 1 & 2  \\end{bmatrix} \\rightarrow \\begin{bmatrix}  \\color{red}{-3} & -1 & 2\\\\ 0&1/3& 1/3\\\\ 0&5/3& 2/3 \\end{bmatrix} $$\n",
    "\n",
    "**Repetimos el proceso** con la submatriz que queda después de eliminar la primera fila y columna. **Encontramos** la fila con el valor absoluto más grande en la segunda columna, que en este caso es la tercera fila. **Intercambiamos** esta fila con la segunda fila para obtener:\n",
    "\n",
    "$$ A = \\begin{bmatrix} -3 & -1 & 2\\\\ 0&5/3&2/3\\\\ 0&1/3&-1/3 \\end{bmatrix} $$\n",
    "\n",
    "\n",
    "Queremos **hacer cero todos los elementos debajo del pivote**<span style=\"color:red;\">(5/3)</span> en la segunda columna . \n",
    "\n",
    "Para hacer cero el elemento en la tercera fila y segunda columna, sumamos (1/3) / (5/3) = 2/5 veces la segunda fila de la tercera fila:\n",
    "\n",
    "$$ A = \\begin{bmatrix} -3 & -1 & 2\\\\ 0&  \\color{red}{5/3}  &2/3\\\\ 0&1/3&-1/3 \\end{bmatrix} \\rightarrow \\begin{bmatrix} -3 & -1 & 2 \\\\ 0 & \\color{red}{5/3} & 2/3 \\\\ 0 & 0 & 2/5 \\end{bmatrix} $$\n",
    "\n",
    "\n",
    "\n",
    "\n",
    "\n",
    "\n",
    "\n"
   ]
  },
  {
   "cell_type": "markdown",
   "id": "ff454f43",
   "metadata": {},
   "source": [
    "### e) ¿Cómo se podría calcular el determinante de una matriz haciendo beneficio de la estrategia anterior y del efecto de aplicar las operaciones elementales pertinentes?\n",
    "\n"
   ]
  },
  {
   "cell_type": "markdown",
   "id": "0e6ce735",
   "metadata": {},
   "source": [
    "\n",
    "Como ya se ha visto anteriormente, el objetivo es encontrar la matriz triangular inferior o superior para poder multiplicar los elementos de la diagonal principal y así obtener el determinante.\n",
    "\n",
    "Para ello utilizamos: \n",
    "- **El intercambio de una fila (o columna) por otra fila (o columna)**\n",
    "- **la suma a una fila (o columna) otra fila (o columna) multiplicada por un escalar α.**"
   ]
  },
  {
   "cell_type": "code",
   "execution_count": 8,
   "id": "fb26dd55",
   "metadata": {},
   "outputs": [],
   "source": [
    "def determinante_gauss(matriz):\n",
    "    n = len(matriz) # Obtenemos el tamaño de la matriz\n",
    "    det = 1 # Inicializamos el determinante en 1\n",
    "    matriz = np.array(matriz, float) # Convertimos la matriz a una matriz de números flotantes\n",
    "    \n",
    "    for i in range(n-1,-1,-1): # Para cada columna de la matriz\n",
    "        max_row = i # Inicializamos la fila con el valor absoluto más grande en la columna actual\n",
    "        for j in range(i-1,-1,-1): # Para cada fila encima de la fila actual\n",
    "            if np.abs(matriz[j][i]) > np.abs(matriz[max_row][i]): # Si el valor absoluto del elemento en la fila actual es mayor que el valor absoluto del elemento en la fila con el valor absoluto más grande\n",
    "                max_row = j # Actualizamos la fila con el valor absoluto más grande\n",
    "        if max_row != i: # Si la fila con el valor absoluto más grande no es la fila actual\n",
    "            matriz[[i,max_row]] = matriz[[max_row,i]] # Intercambiamos las filas\n",
    "            det *= -1 # Multiplicamos el determinante por -1 ya que intercambiar dos filas cambia el signo del determinante\n",
    "        if np.abs(matriz[i][i]) < 1e-10: # Si el elemento de la diagonal es muy pequeño, el determinante es cero\n",
    "            return 0\n",
    "        det *= matriz[i][i] # Multiplicamos el determinante por el elemento de la diagonal\n",
    "        print(f'Elemento pivote: {matriz[i][i]}\\n')\n",
    "        for j in range(i-1,-1,-1): # Para cada fila encima de la fila actual\n",
    "            ratio = matriz[j][i]/matriz[i][i] # Calculamos el ratio para hacer cero el elemento encima del elemento de la diagonal\n",
    "            for k in range(n): # Para cada elemento en la fila\n",
    "                matriz[j][k] -= ratio * matriz[i][k] # Restamos el producto del ratio y el elemento correspondiente en la fila actual\n",
    "            print(f'Operación: Fila {j+1} - ({ratio}) * Fila {i+1}\\n')\n",
    "        print(f'Matriz después de la iteración {n-i-1}:\\n')\n",
    "        print(f'{matriz}\\n')\n",
    "    return det"
   ]
  },
  {
   "cell_type": "code",
   "execution_count": 9,
   "id": "edcb6535",
   "metadata": {},
   "outputs": [
    {
     "name": "stdout",
     "output_type": "stream",
     "text": [
      "Elemento pivote: 2.0\n",
      "\n",
      "Operación: Fila 2 - (1.0) * Fila 3\n",
      "\n",
      "Operación: Fila 1 - (-0.5) * Fila 3\n",
      "\n",
      "Matriz después de la iteración 0:\n",
      "\n",
      "[[ 1.   1.5  0. ]\n",
      " [-1.  -2.   0. ]\n",
      " [-2.   1.   2. ]]\n",
      "\n",
      "Elemento pivote: -2.0\n",
      "\n",
      "Operación: Fila 1 - (-0.75) * Fila 2\n",
      "\n",
      "Matriz después de la iteración 1:\n",
      "\n",
      "[[ 0.25  0.    0.  ]\n",
      " [-1.   -2.    0.  ]\n",
      " [-2.    1.    2.  ]]\n",
      "\n",
      "Elemento pivote: 0.25\n",
      "\n",
      "Matriz después de la iteración 2:\n",
      "\n",
      "[[ 0.25  0.    0.  ]\n",
      " [-1.   -2.    0.  ]\n",
      " [-2.    1.    2.  ]]\n",
      "\n"
     ]
    },
    {
     "data": {
      "text/plain": [
       "-1.0"
      ]
     },
     "execution_count": 9,
     "metadata": {},
     "output_type": "execute_result"
    }
   ],
   "source": [
    "# Definimos una matriz de 3x3\n",
    "matriz3x3 = [[2, 1, -1],\n",
    "             [-3, -1, 2],\n",
    "             [-2, 1, 2]]\n",
    "\n",
    "\n",
    "determinante_gauss(matriz3x3)"
   ]
  },
  {
   "cell_type": "code",
   "execution_count": 10,
   "id": "e4592316",
   "metadata": {},
   "outputs": [],
   "source": [
    "\n",
    "def determinante_gauss(matriz):\n",
    "    n = len(matriz) # Obtenemos el tamaño de la matriz\n",
    "    det = 1 # Inicializamos el determinante en 1\n",
    "    matriz = np.array(matriz, float) # Convertimos la matriz a una matriz de números flotantes\n",
    "    \n",
    "    for i in range(n): # Para cada columna de la matriz\n",
    "        max_row = i # Inicializamos la fila con el valor absoluto más grande en la columna actual\n",
    "        for j in range(i+1,n): # Para cada fila debajo de la fila actual\n",
    "            if np.abs(matriz[j][i]) > np.abs(matriz[max_row][i]): # Si el valor absoluto del elemento en la fila actual es mayor que el valor absoluto del elemento en la fila con el valor absoluto más grande\n",
    "                max_row = j # Actualizamos la fila con el valor absoluto más grande\n",
    "        if max_row != i: # Si la fila con el valor absoluto más grande no es la fila actual\n",
    "            matriz[[i,max_row]] = matriz[[max_row,i]] # Intercambiamos las filas\n",
    "            det *= -1 # Multiplicamos el determinante por -1 ya que intercambiar dos filas cambia el signo del determinante\n",
    "        if np.abs(matriz[i][i]) < 1e-10: # Si el elemento de la diagonal es muy pequeño, el determinante es cero\n",
    "            return 0\n",
    "        det *= matriz[i][i] # Multiplicamos el determinante por el elemento de la diagonal\n",
    "        print(f'Elemento pivote: {matriz[i][i]}\\n')\n",
    "        for j in range(i+1,n): # Para cada fila debajo de la fila actual\n",
    "            ratio = matriz[j][i]/matriz[i][i] # Calculamos el ratio para hacer cero el elemento debajo del elemento de la diagonal\n",
    "            for k in range(n): # Para cada elemento en la fila\n",
    "                matriz[j][k] -= ratio * matriz[i][k] # Restamos el producto del ratio y el elemento correspondiente en la fila actual\n",
    "            print(f'Operación: Fila {j+1} - ({ratio}) * Fila {i+1}\\n')\n",
    "        print(f'Matriz después de la iteración {i}:\\n')\n",
    "        print(f'{matriz}\\n')\n",
    "    return det\n",
    "\n"
   ]
  },
  {
   "cell_type": "code",
   "execution_count": 11,
   "id": "514a0e6c",
   "metadata": {},
   "outputs": [
    {
     "name": "stdout",
     "output_type": "stream",
     "text": [
      "Elemento pivote: -3.0\n",
      "\n",
      "Operación: Fila 2 - (-0.6666666666666666) * Fila 1\n",
      "\n",
      "Operación: Fila 3 - (0.6666666666666666) * Fila 1\n",
      "\n",
      "Matriz después de la iteración 0:\n",
      "\n",
      "[[-3.         -1.          2.        ]\n",
      " [ 0.          0.33333333  0.33333333]\n",
      " [ 0.          1.66666667  0.66666667]]\n",
      "\n",
      "Elemento pivote: 1.6666666666666665\n",
      "\n",
      "Operación: Fila 3 - (0.20000000000000004) * Fila 2\n",
      "\n",
      "Matriz después de la iteración 1:\n",
      "\n",
      "[[-3.         -1.          2.        ]\n",
      " [ 0.          1.66666667  0.66666667]\n",
      " [ 0.          0.          0.2       ]]\n",
      "\n",
      "Elemento pivote: 0.19999999999999987\n",
      "\n",
      "Matriz después de la iteración 2:\n",
      "\n",
      "[[-3.         -1.          2.        ]\n",
      " [ 0.          1.66666667  0.66666667]\n",
      " [ 0.          0.          0.2       ]]\n",
      "\n"
     ]
    },
    {
     "data": {
      "text/plain": [
       "-0.9999999999999993"
      ]
     },
     "execution_count": 11,
     "metadata": {},
     "output_type": "execute_result"
    }
   ],
   "source": [
    "# Definimos una matriz de 3x3\n",
    "matriz3x3 = [[2, 1, -1],\n",
    "             [-3, -1, 2],\n",
    "             [-2, 1, 2]]\n",
    "\n",
    "determinante_gauss(matriz3x3)"
   ]
  },
  {
   "cell_type": "markdown",
   "id": "7c79bed0",
   "metadata": {},
   "source": [
    "### f) Obtén la complejidad computacional asociada al cálculo del determinante con la definicion recursiva y con el método de eliminación de Gauss con pivoteo parcial."
   ]
  },
  {
   "cell_type": "markdown",
   "id": "ff112912",
   "metadata": {},
   "source": [
    "### Determinante con definicion recursiva"
   ]
  },
  {
   "cell_type": "markdown",
   "id": "1ef1b590",
   "metadata": {},
   "source": [
    "El determinante de una matriz cuadrada de orden n se calcula como la suma de los productos de los elementos de una fila o columna por sus respectivos adjuntos. Cada adjunto es el determinante de una submatriz de orden n-1 obtenida eliminando la fila y columna correspondiente al elemento.\n",
    "\n",
    "Para calcular el determinante de una matriz de orden n utilizando esta definición recursiva, se deben calcular n adjuntos. \n",
    "\n",
    "Cada adjunto requiere el cálculo del determinante de una submatriz de orden n-1. \n",
    "\n",
    "Esto significa que para calcular el determinante de una matriz de orden n, se deben calcular n determinantes de matrices de orden n-1. \n",
    "\n",
    "Este proceso se repite recursivamente hasta llegar a matrices de orden 1 cuyo determinante es el único elemento de la matriz.\n",
    "\n",
    "La complejidad computacional del cálculo del determinante utilizando esta definición recursiva se puede expresar como una función recursiva T(n) que representa el número de operaciones necesarias para calcular el determinante de una matriz de orden n. \n",
    "\n",
    "T(n) = n * T(n-1) + O(n)\n",
    "\n",
    "La primera parte de esta ecuación representa el costo de calcular los n adjuntos, cada uno requiriendo T(n-1) operaciones. La segunda parte representa el costo de sumar los productos de los elementos por sus respectivos adjuntos, lo que requiere O(n) operaciones.\n",
    "\n",
    "La solución a esta ecuación de recurrencia es **T(n) = O(n!).** \n",
    "\n",
    "Esto significa que el cálculo del determinante utilizando esta definición recursiva tiene una complejidad factorial, lo que lo hace **impracticable para matrices grandes.**\n"
   ]
  },
  {
   "cell_type": "markdown",
   "id": "4c34af0b",
   "metadata": {},
   "source": [
    "\n",
    "EJEMPLO\n",
    "\n",
    "Desde el punto de vista computacional, el cálculo del determinante de una matriz utilizando la expansión de menores implica un número creciente de operaciones a medida que aumenta el tamaño de la matriz. \n",
    "Por ejemplo, para calcular el determinante de una matriz 3x3, se calcularán 3 determinantes de matrices 2x2. \n",
    "\n",
    "\n",
    "Supongamos que tenemos la siguiente matriz A:\n",
    "$$\n",
    "A =\n",
    "\\begin{pmatrix}\n",
    "1 & 2 & 3 \\\\\n",
    "4 & 5 & 6 \\\\\n",
    "7 & 8 & 9\n",
    "\\end{pmatrix}\n",
    "$$\n",
    "Podemos calcular el determinante de A utilizando la expansión de menores a lo largo de la primera fila:\n",
    "$$\n",
    "\\det(A) = 1 \\cdot \\det(M_{11}) - 2 \\cdot \\det(M_{12}) + 3 \\cdot \\det(M_{13})\n",
    "$$\n",
    "donde M11​, M12​ y M13​ son los menores de la matriz A obtenidos eliminando la primera fila y las columnas 1, 2 y 3, respectivamente. Estos menores son:\n",
    "$$\n",
    "M_{11} =\n",
    "\\begin{pmatrix}\n",
    "5 & 6 \\\\\n",
    "8 & 9\n",
    "\\end{pmatrix},\n",
    "$$\n",
    "$$\n",
    "M_{12} =\n",
    "\\begin{pmatrix}\n",
    "4 & 6 \\\\\n",
    "7 & 9\n",
    "\\end{pmatrix},\n",
    "$$\n",
    "$$\n",
    "M_{13} =\n",
    "\\begin{pmatrix}\n",
    "4 & 5 \\\\\n",
    "7 & 8\n",
    "\\end{pmatrix}\n",
    "$$\n",
    "Ahora podemos calcular los determinantes de estos menores utilizando la fórmula para el determinante de una matriz 2x2:\n",
    "$$\n",
    "\\det(M_{11}) = (5)(9) - (6)(8) = -3 \\\n",
    "$$\n",
    "$$\n",
    "\\det(M_{12}) = (4)(9) - (6)(7) = -6 \\\n",
    "$$\n",
    "$$\n",
    "\\det(M_{13}) = (4)(8) - (5)(7) = -3\n",
    "\n",
    "$$\n",
    "Finalmente, podemos sustituir estos valores en la fórmula para el determinante de A:\n",
    "$$\n",
    "\\det(A) = 1 \\cdot (-3) - 2 \\cdot (-6) + 3 \\cdot (-3) = -3 + 12 -9 = 0\n",
    "$$\n",
    "\n",
    "Si en lugar de una matriz 3x3 tuviéramos una matriz 4x4, tendríamos que calcular 4 determinantes de matrices 3x3, y para cada uno de estos determinantes tendríamos que calcular 3 determinantes de matrices 2x2.\n",
    "\n",
    "En total, tendríamos que calcular 4 x 3 = 12 determinantes de matrices 2x2.\n",
    "\n",
    "En general, para calcular el determinante de una matriz n por n utilizando la expansión de menores, necesitamos calcular n determinantes de matrices (n-1) por (n-1). \n",
    "\n",
    "Para cada uno de estos determinantes, necesitamos calcular (n-1) determinantes de matrices (n-2) por (n-2), y así sucesivamente. En total, el número de operaciones necesarias para calcular el determinante utilizando la expansión de menores es proporcional a n! (n factorial).\n",
    "\n"
   ]
  },
  {
   "cell_type": "markdown",
   "id": "6e0e275e",
   "metadata": {},
   "source": [
    "### Método de eliminación de Gauss con pivoteo parcial"
   ]
  },
  {
   "cell_type": "markdown",
   "id": "5149bb87",
   "metadata": {},
   "source": [
    "El cálculo del determinante de una matriz utilizando el método de eliminación de Gauss con pivoteo parcial tiene una complejidad computacional mucho menor que el cálculo del determinante utilizando la definición recursiva. \n",
    "\n",
    "El método de eliminación de Gauss con pivoteo parcial se utiliza para transformar una matriz en una matriz triangular superior utilizando operaciones elementales en las filas. Una vez que la matriz se ha transformado en una matriz triangular superior, su determinante se puede calcular simplemente multiplicando los elementos en la diagonal principal.\n",
    "\n",
    "La razón por la que el método de eliminación de Gauss con pivoteo parcial tiene esta complejidad computacional es que se basa en la realización de operaciones elementales en las filas para transformar la matriz en una matriz triangular superior. \n",
    "\n",
    "El costo computacional del método de eliminación de Gauss con pivoteo parcial para llegar a la matriz triangular superior es del orden de O(n^3) debido a que el proceso consta de tres pasos principales que se repiten n veces:\n",
    "\n",
    "- Encontrar el elemento pivote: en cada iteración, se busca el elemento con el valor absoluto más grande en la columna actual para usarlo como pivote. Este paso tiene un costo computacional del orden de O(n).\n",
    "\n",
    "- Intercambiar filas: si el elemento pivote no está en la fila actual, se intercambia la fila actual con la fila que contiene el elemento pivote. Este paso tiene un costo computacional del orden de O(n).\n",
    "\n",
    "- Eliminar elementos por debajo del pivote: en cada iteración, se eliminan los elementos por debajo del pivote en la columna actual utilizando operaciones de fila. Este paso tiene un costo computacional del orden de O(n^2), ya que se deben realizar n operaciones en cada una de las n filas por debajo del pivote.\n",
    "\n",
    "Dado que estos tres pasos se repiten n veces, el costo computacional total del proceso es del orden de O(n * (n + n + n^2)).\n",
    "\n",
    "Solo nos interesa el término de mayor orden en la expresión, ya que este término domina el comportamiento asintótico de la función. \n",
    "\n",
    "En este caso, el término de mayor orden en la expresión n * (n + n + n^2) es n^3, por lo que podemos decir que el costo computacional es del orden de O(n^3).\n",
    "\n",
    "Una vez que la matriz se ha transformado en una matriz triangular superior, su determinante se puede calcular simplemente multiplicando los elementos en la diagonal principal.\n",
    "\n",
    "Esto significa que el cálculo del determinante utilizando este método tiene una complejidad cúbica, lo que lo hace mucho más eficiente que el cálculo del determinante utilizando la definición recursiva para matrices grandes."
   ]
  },
  {
   "cell_type": "markdown",
   "id": "f9d25794",
   "metadata": {},
   "source": [
    "### g) Utilizando numpy.random.rand, genera matrices cuadradas aleatorias de la forma An ∈ R n×n, para 2 ≤ n ≤ 10, y confecciona una tabla comparativa del tiempo de ejecución asociado a cada una de las variantes siguientes, interpretando los resultados:\n",
    "\n",
    "- Utilizando determinante recursivo.\n",
    "- Empleando determinante gauss.\n",
    "- Haciendo uso de la funci´on preprogramada numpy.linalg.det\n"
   ]
  },
  {
   "cell_type": "code",
   "execution_count": 12,
   "id": "7bd5a72d",
   "metadata": {},
   "outputs": [
    {
     "name": "stdout",
     "output_type": "stream",
     "text": [
      "Matriz aleatoria 10x10:\n",
      "[[0.21533249 0.40042852 0.66031535 0.01279839 0.46644426 0.82856414\n",
      "  0.96511538 0.94136981 0.22832469 0.94602824]\n",
      " [0.45191219 0.13266032 0.49750924 0.85310041 0.25455472 0.80040863\n",
      "  0.44345374 0.44976126 0.34415539 0.30095231]\n",
      " [0.26806274 0.51360963 0.54763046 0.31970735 0.07095019 0.74452358\n",
      "  0.23825468 0.1467061  0.25622076 0.62337584]\n",
      " [0.56941202 0.95400362 0.78884159 0.63016119 0.75254968 0.8164693\n",
      "  0.15059432 0.12090658 0.1741994  0.68532621]\n",
      " [0.90417399 0.80154955 0.43566588 0.11359392 0.01121704 0.70236954\n",
      "  0.91676715 0.10328418 0.0904515  0.86118067]\n",
      " [0.16808308 0.04669763 0.75720277 0.45546625 0.07390314 0.4788073\n",
      "  0.78311606 0.00484549 0.20729562 0.46776908]\n",
      " [0.17901125 0.57357356 0.95852953 0.73285739 0.01546955 0.49601855\n",
      "  0.48488927 0.36927866 0.72010424 0.0601006 ]\n",
      " [0.23593203 0.38530805 0.40797937 0.23663596 0.8396637  0.99416942\n",
      "  0.48186833 0.36248207 0.11218107 0.04552224]\n",
      " [0.56635283 0.46748157 0.1577309  0.00755298 0.00910937 0.63484855\n",
      "  0.72556708 0.38213082 0.28935266 0.31702792]\n",
      " [0.13466639 0.14634904 0.32714843 0.70473978 0.57949124 0.26307109\n",
      "  0.80086111 0.54543025 0.45795649 0.47562632]]\n"
     ]
    }
   ],
   "source": [
    "n = random.randint(2, 10) # especifica el tamaño de la matriz aleatorio entre 2 y 10 (inclusive)\n",
    "A = np.random.rand(n, n)\n",
    "print(f\"Matriz aleatoria {n}x{n}:\")\n",
    "print(A)"
   ]
  },
  {
   "cell_type": "markdown",
   "id": "b5808801",
   "metadata": {},
   "source": [
    "### Utilizando determinante recursivo."
   ]
  },
  {
   "cell_type": "code",
   "execution_count": 13,
   "id": "59a36a88",
   "metadata": {},
   "outputs": [
    {
     "name": "stdout",
     "output_type": "stream",
     "text": [
      "Determinante de A: 0.011014143942076261\n",
      "Tiempo transcurrido: 38.540300699998625 segundos\n"
     ]
    }
   ],
   "source": [
    "# Medir el tiempo de inicio\n",
    "start_time = time.perf_counter()\n",
    "\n",
    "# Calcular el determinante utilizando la función determinante_recursivo\n",
    "det_A = determinante_recursivo(A)\n",
    "\n",
    "# Medir el tiempo de finalización\n",
    "end_time = time.perf_counter()\n",
    "\n",
    "# Calcular el tiempo transcurrido\n",
    "elapsed_time_recursivo = end_time - start_time\n",
    "\n",
    "print(f\"Determinante de A: {det_A}\")\n",
    "print(f\"Tiempo transcurrido: {elapsed_time_recursivo} segundos\")"
   ]
  },
  {
   "cell_type": "markdown",
   "id": "67a30913",
   "metadata": {},
   "source": [
    "### Empleando determinante gauss.\n"
   ]
  },
  {
   "cell_type": "code",
   "execution_count": 14,
   "id": "3f43393a",
   "metadata": {},
   "outputs": [
    {
     "name": "stdout",
     "output_type": "stream",
     "text": [
      "Determinante de A: 0.011014143942076265\n",
      "Tiempo transcurrido: 0.0024908999985200353 segundos\n"
     ]
    }
   ],
   "source": [
    "#La vuelvo a definir para crear otra sin los prints que molestan al llamar a la función \n",
    "def determinante_gauss(matriz):\n",
    "    n = len(matriz) # Obtenemos el tamaño de la matriz\n",
    "    det = 1 # Inicializamos el determinante en 1\n",
    "    matriz = np.array(matriz, float) # Convertimos la matriz a una matriz de números flotantes\n",
    "    \n",
    "    for i in range(n): # Para cada columna de la matriz\n",
    "        max_row = i # Inicializamos la fila con el valor absoluto más grande en la columna actual\n",
    "        for j in range(i+1,n): # Para cada fila debajo de la fila actual\n",
    "            if np.abs(matriz[j][i]) > np.abs(matriz[max_row][i]): # Si el valor absoluto del elemento en la fila actual es mayor que el valor absoluto del elemento en la fila con el valor absoluto más grande\n",
    "                max_row = j # Actualizamos la fila con el valor absoluto más grande\n",
    "        if max_row != i: # Si la fila con el valor absoluto más grande no es la fila actual\n",
    "            matriz[[i,max_row]] = matriz[[max_row,i]] # Intercambiamos las filas\n",
    "            det *= -1 # Multiplicamos el determinante por -1 ya que intercambiar dos filas cambia el signo del determinante\n",
    "        if np.abs(matriz[i][i]) < 1e-10: # Si el elemento de la diagonal es muy pequeño, el determinante es cero\n",
    "            return 0\n",
    "        det *= matriz[i][i] # Multiplicamos el determinante por el elemento de la diagonal\n",
    "        for j in range(i+1,n): # Para cada fila debajo de la fila actual\n",
    "            ratio = matriz[j][i]/matriz[i][i] # Calculamos el ratio para hacer cero el elemento debajo del elemento de la diagonal\n",
    "            for k in range(n): # Para cada elemento en la fila\n",
    "                matriz[j][k] -= ratio * matriz[i][k] # Restamos el producto del ratio y el elemento correspondiente en la fila actual\n",
    "    return det\n",
    "\n",
    "\n",
    "# Medir el tiempo de inicio\n",
    "start_time = time.perf_counter()\n",
    "\n",
    "# Calcular el determinante utilizando la función determinante_gauss\n",
    "det_A = determinante_gauss(A)\n",
    "\n",
    "# Medir el tiempo de finalización\n",
    "end_time = time.perf_counter()\n",
    "\n",
    "# Calcular el tiempo transcurrido\n",
    "elapsed_time_gauss = end_time - start_time\n",
    "\n",
    "print(f\"Determinante de A: {det_A}\")\n",
    "print(f\"Tiempo transcurrido: {elapsed_time_gauss} segundos\")"
   ]
  },
  {
   "cell_type": "markdown",
   "id": "b02064e9",
   "metadata": {},
   "source": [
    "### Haciendo uso de la función preprogramada numpy.linalg.det"
   ]
  },
  {
   "cell_type": "code",
   "execution_count": 15,
   "id": "6e77c9ef",
   "metadata": {},
   "outputs": [
    {
     "name": "stdout",
     "output_type": "stream",
     "text": [
      "Determinante de A: 0.011014143942076258\n",
      "Tiempo transcurrido: 0.00031790000502951443 segundos\n"
     ]
    }
   ],
   "source": [
    "# Medir el tiempo de inicio\n",
    "start_time = time.perf_counter()\n",
    "\n",
    "# Calcular el determinante utilizando la función numpy.linalg.det\n",
    "det_A = np.linalg.det(A)\n",
    "\n",
    "# Medir el tiempo de finalización\n",
    "end_time = time.perf_counter()\n",
    "\n",
    "# Calcular el tiempo transcurrido\n",
    "elapsed_time_linalg = end_time - start_time\n",
    "\n",
    "print(f\"Determinante de A: {det_A}\")\n",
    "print(f\"Tiempo transcurrido: {elapsed_time_linalg} segundos\")"
   ]
  },
  {
   "cell_type": "markdown",
   "id": "718edcef",
   "metadata": {},
   "source": [
    "### GRÁFICO COMPARATIVO (TIEMPO DEPENDIENDO DE TAMAÑO DE MATRIZ)"
   ]
  },
  {
   "cell_type": "code",
   "execution_count": 16,
   "id": "6e8a88e7",
   "metadata": {},
   "outputs": [
    {
     "data": {
      "image/png": "[encoded data removed]",
      "text/plain": [
       "<Figure size 640x480 with 1 Axes>"
      ]
     },
     "metadata": {},
     "output_type": "display_data"
    }
   ],
   "source": [
    "import matplotlib.pyplot as plt\n",
    "# Crear una lista con los tamaños de las matrices para las que se quiere medir el tiempo transcurrido\n",
    "tamaños = range(2, 11)\n",
    "\n",
    "# Crear listas vacías para almacenar los tiempos transcurridos para cada método\n",
    "tiempos_recursivo = []\n",
    "tiempos_gauss = []\n",
    "tiempos_linalg = []\n",
    "\n",
    "# Medir el tiempo transcurrido para calcular el determinante de matrices de diferentes tamaños\n",
    "for n in tamaños:\n",
    "    # Crear una matriz aleatoria de tamaño nxn\n",
    "    A = np.random.rand(n, n)\n",
    "\n",
    "    # Medir el tiempo transcurrido para calcular el determinante utilizando la función determinante_recursivo\n",
    "    start_time = time.perf_counter()\n",
    "    det_A = determinante_recursivo(A)\n",
    "    end_time = time.perf_counter()\n",
    "    elapsed_time = end_time - start_time\n",
    "    tiempos_recursivo.append(elapsed_time)\n",
    "\n",
    "    # Medir el tiempo transcurrido para calcular el determinante utilizando la función determinante_gauss\n",
    "    start_time = time.perf_counter()\n",
    "    det_A = determinante_gauss(A)\n",
    "    end_time = time.perf_counter()\n",
    "    elapsed_time = end_time - start_time\n",
    "    tiempos_gauss.append(elapsed_time)\n",
    "\n",
    "    # Medir el tiempo transcurrido para calcular el determinante utilizando la función numpy.linalg.det\n",
    "    start_time = time.perf_counter()\n",
    "    det_A = np.linalg.det(A)\n",
    "    end_time = time.perf_counter()\n",
    "    elapsed_time = end_time - start_time\n",
    "    tiempos_linalg.append(elapsed_time)\n",
    "\n",
    "# Crear un gráfico que muestre cómo varía el tiempo transcurrido en función del tamaño de la matriz\n",
    "plt.plot(tamaños, tiempos_recursivo, label=\"Recursivo\")\n",
    "plt.plot(tamaños, tiempos_gauss, label=\"Gauss\")\n",
    "plt.plot(tamaños, tiempos_linalg, label=\"Numpy linalg.det\")\n",
    "plt.legend()\n",
    "plt.xlabel(\"Tamaño de la matriz (nxn)\")\n",
    "plt.ylabel(\"Tiempo transcurrido (segundos)\")\n",
    "plt.show()\n",
    "\n"
   ]
  },
  {
   "cell_type": "code",
   "execution_count": 17,
   "id": "a53c8c72",
   "metadata": {},
   "outputs": [
    {
     "data": {
      "image/png": "[encoded data removed]",
      "text/plain": [
       "<Figure size 640x480 with 1 Axes>"
      ]
     },
     "metadata": {},
     "output_type": "display_data"
    }
   ],
   "source": [
    "# Gráfico que muestra sólo los tiempos transcurridos para los métodos de Gauss y numpy.linalg.det\n",
    "plt.plot(tamaños, tiempos_gauss, label=\"Gauss\")\n",
    "plt.plot(tamaños, tiempos_linalg, label=\"Numpy linalg.det\")\n",
    "plt.legend()\n",
    "plt.xlabel(\"Tamaño de la matriz (nxn)\")\n",
    "plt.ylabel(\"Tiempo transcurrido (segundos)\")\n",
    "plt.show()"
   ]
  },
  {
   "cell_type": "code",
   "execution_count": 18,
   "id": "e62405af",
   "metadata": {},
   "outputs": [
    {
     "data": {
      "text/html": [
       "<div>\n",
       "<style scoped>\n",
       "    .dataframe tbody tr th:only-of-type {\n",
       "        vertical-align: middle;\n",
       "    }\n",
       "\n",
       "    .dataframe tbody tr th {\n",
       "        vertical-align: top;\n",
       "    }\n",
       "\n",
       "    .dataframe thead th {\n",
       "        text-align: right;\n",
       "    }\n",
       "</style>\n",
       "<table border=\"1\" class=\"dataframe\">\n",
       "  <thead>\n",
       "    <tr style=\"text-align: right;\">\n",
       "      <th></th>\n",
       "      <th>Tamaño</th>\n",
       "      <th>Recursivo</th>\n",
       "      <th>Gauss</th>\n",
       "      <th>Numpy linalg.det</th>\n",
       "    </tr>\n",
       "  </thead>\n",
       "  <tbody>\n",
       "    <tr>\n",
       "      <th>0</th>\n",
       "      <td>2</td>\n",
       "      <td>0.000013</td>\n",
       "      <td>0.000102</td>\n",
       "      <td>0.000062</td>\n",
       "    </tr>\n",
       "    <tr>\n",
       "      <th>1</th>\n",
       "      <td>3</td>\n",
       "      <td>0.000075</td>\n",
       "      <td>0.000074</td>\n",
       "      <td>0.000026</td>\n",
       "    </tr>\n",
       "    <tr>\n",
       "      <th>2</th>\n",
       "      <td>4</td>\n",
       "      <td>0.000235</td>\n",
       "      <td>0.000111</td>\n",
       "      <td>0.000036</td>\n",
       "    </tr>\n",
       "    <tr>\n",
       "      <th>3</th>\n",
       "      <td>5</td>\n",
       "      <td>0.001120</td>\n",
       "      <td>0.000180</td>\n",
       "      <td>0.000025</td>\n",
       "    </tr>\n",
       "    <tr>\n",
       "      <th>4</th>\n",
       "      <td>6</td>\n",
       "      <td>0.007387</td>\n",
       "      <td>0.000370</td>\n",
       "      <td>0.000057</td>\n",
       "    </tr>\n",
       "    <tr>\n",
       "      <th>5</th>\n",
       "      <td>7</td>\n",
       "      <td>0.055689</td>\n",
       "      <td>0.000542</td>\n",
       "      <td>0.000061</td>\n",
       "    </tr>\n",
       "    <tr>\n",
       "      <th>6</th>\n",
       "      <td>8</td>\n",
       "      <td>0.443662</td>\n",
       "      <td>0.000609</td>\n",
       "      <td>0.000063</td>\n",
       "    </tr>\n",
       "    <tr>\n",
       "      <th>7</th>\n",
       "      <td>9</td>\n",
       "      <td>4.135762</td>\n",
       "      <td>0.001263</td>\n",
       "      <td>0.000127</td>\n",
       "    </tr>\n",
       "    <tr>\n",
       "      <th>8</th>\n",
       "      <td>10</td>\n",
       "      <td>41.254616</td>\n",
       "      <td>0.001322</td>\n",
       "      <td>0.000074</td>\n",
       "    </tr>\n",
       "  </tbody>\n",
       "</table>\n",
       "</div>"
      ],
      "text/plain": [
       "   Tamaño  Recursivo     Gauss  Numpy linalg.det\n",
       "0       2   0.000013  0.000102          0.000062\n",
       "1       3   0.000075  0.000074          0.000026\n",
       "2       4   0.000235  0.000111          0.000036\n",
       "3       5   0.001120  0.000180          0.000025\n",
       "4       6   0.007387  0.000370          0.000057\n",
       "5       7   0.055689  0.000542          0.000061\n",
       "6       8   0.443662  0.000609          0.000063\n",
       "7       9   4.135762  0.001263          0.000127\n",
       "8      10  41.254616  0.001322          0.000074"
      ]
     },
     "metadata": {},
     "output_type": "display_data"
    }
   ],
   "source": [
    "# Crear un DataFrame con los datos\n",
    "data = {\n",
    "    \"Tamaño\": list(tamaños),\n",
    "    \"Recursivo\": tiempos_recursivo,\n",
    "    \"Gauss\": tiempos_gauss,\n",
    "    \"Numpy linalg.det\": tiempos_linalg\n",
    "}\n",
    "df = pd.DataFrame(data)\n",
    "\n",
    "# Mostrar el DataFrame\n",
    "display(df)"
   ]
  },
  {
   "cell_type": "code",
   "execution_count": 19,
   "id": "45f1b5bb",
   "metadata": {},
   "outputs": [
    {
     "name": "stdout",
     "output_type": "stream",
     "text": [
      "n=2 -> n=3\n",
      "Razón Recursivo: 5.62 (Esperado: 3.00)\n",
      "Razón Gauss: 0.73 (Esperado: 3.38)\n",
      "n=3 -> n=4\n",
      "Razón Recursivo: 3.12 (Esperado: 4.00)\n",
      "Razón Gauss: 1.49 (Esperado: 2.37)\n",
      "n=4 -> n=5\n",
      "Razón Recursivo: 4.77 (Esperado: 5.00)\n",
      "Razón Gauss: 1.63 (Esperado: 1.95)\n",
      "n=5 -> n=6\n",
      "Razón Recursivo: 6.60 (Esperado: 6.00)\n",
      "Razón Gauss: 2.05 (Esperado: 1.73)\n",
      "n=6 -> n=7\n",
      "Razón Recursivo: 7.54 (Esperado: 7.00)\n",
      "Razón Gauss: 1.46 (Esperado: 1.59)\n",
      "n=7 -> n=8\n",
      "Razón Recursivo: 7.97 (Esperado: 8.00)\n",
      "Razón Gauss: 1.12 (Esperado: 1.49)\n",
      "n=8 -> n=9\n",
      "Razón Recursivo: 9.32 (Esperado: 9.00)\n",
      "Razón Gauss: 2.07 (Esperado: 1.42)\n",
      "n=9 -> n=10\n",
      "Razón Recursivo: 9.98 (Esperado: 10.00)\n",
      "Razón Gauss: 1.05 (Esperado: 1.37)\n"
     ]
    }
   ],
   "source": [
    "# Calcula la razón entre los tiempos de ejecución para diferentes tamaños del problema\n",
    "for i in range(2, 10):\n",
    "    # Selecciona dos filas consecutivas del dataframe\n",
    "    row1 = df.loc[df['Tamaño'] == i]\n",
    "    row2 = df.loc[df['Tamaño'] == i+1]\n",
    "    \n",
    "    # Calcula la razón entre los tiempos de ejecución para el método Recursivo\n",
    "    ratio_recursive = row2['Recursivo'].values[0] / row1['Recursivo'].values[0]\n",
    "    \n",
    "    # Calcula la razón entre los tiempos de ejecución para el método Gauss\n",
    "    ratio_gauss = row2['Gauss'].values[0] / row1['Gauss'].values[0]\n",
    "    \n",
    "    # Calcula el valor esperado para un costo computacional de n!\n",
    "    expected_recursive = i+1\n",
    "    \n",
    "    # Calcula el valor esperado para un costo computacional de n^3\n",
    "    expected_gauss = ((i+1)/i)**3\n",
    "    \n",
    "    # Imprime los resultados\n",
    "    print(f\"n={i} -> n={i+1}\")\n",
    "    print(f\"Razón Recursivo: {ratio_recursive:.2f} (Esperado: {expected_recursive:.2f})\")\n",
    "    print(f\"Razón Gauss: {ratio_gauss:.2f} (Esperado: {expected_gauss:.2f})\")"
   ]
  },
  {
   "cell_type": "markdown",
   "id": "ed3122ab",
   "metadata": {},
   "source": [
    "# Ejercicio 2"
   ]
  },
  {
   "cell_type": "markdown",
   "id": "c0791f8c",
   "metadata": {},
   "source": [
    "### 2.\tEn este ejercicio trabajaremos con el método de descenso de gradiente, el cual constituye otra herramienta crucial, en esta ocasión de la rama del cálculo, para el proceso de retropropagación asociado al entrenamiento de una red neuronal.\n",
    "a) Prográmese en Python el método de descenso de gradiente para funciones de *n* variables. La función deberá tener como parámetros de entradas:\n",
    "- El gradiente de la función que se desea minimizar $∇f$ (puede venir dada como otra función previamente implementada, grad_f, con entrada un vector, representando el punto donde se quiere calcular el gradiente, y salida otro vector, representando\n",
    "el gradiente de f en dicho punto).\n",
    "- Un valor inicial $x0 ∈ R^n$ (almacenado en un vector de n componentes). El ratio de aprendizaje γ (que se asume constante para cada iteración).\n",
    "- Un parámetro de tolerancia tol (con el que finalizar el proceso cuando $∥∇f (x)∥$<sub>2</sub> $< tol$\n",
    "\n",
    "- Un número máximo de iteraciones maxit (con el fin de evitar ejecuciones indefinidas en caso de divergencia o convergencia muy lenta).\n",
    "- La salida de la función deberá ser la aproximación del x que cumple $f ′(x) ≈ 0$, correspondiente a la última iteración realizada en el método.\n"
   ]
  },
  {
   "cell_type": "code",
   "execution_count": 20,
   "id": "0adea971",
   "metadata": {},
   "outputs": [],
   "source": [
    "import numpy as np\n",
    "\n",
    "def gradient_descent(grad_f, x0, gamma, tol, max_it):\n",
    "    x = x0\n",
    "    for i in range(int(max_it)):\n",
    "        gradient = grad_f(x)\n",
    "        norm_gradient = np.linalg.norm(gradient, 2)\n",
    "        if norm_gradient < tol:\n",
    "            break\n",
    "        x = x - gamma * gradient\n",
    "       \n",
    "    print(\"La iteración en la que finaliza el proceso es:\", i)\n",
    "    print(\"La aproximación alcanzada ha sido:\", norm_gradient)\n",
    "    return x"
   ]
  },
  {
   "cell_type": "markdown",
   "id": "5552f5ef",
   "metadata": {},
   "source": [
    "### b)\tSea la función $ f : ℝ ⟶ ℝ $ dada por $ f (x) = 3x^4 + 4x^3 − 12x^2 + 7$\n"
   ]
  },
  {
   "cell_type": "markdown",
   "id": "7d701ee7",
   "metadata": {},
   "source": [
    "#### 2.b.1. Aplica el método sobre $ f(x)$ con:\n",
    "$$\n",
    "x0 = 3$$\n",
    "$$ γ = 0.001 $$\n",
    "$$ tol = 1e-12 $$\n",
    "$$ maxit = 1e5\n",
    "$$"
   ]
  },
  {
   "cell_type": "code",
   "execution_count": 21,
   "id": "dee21ac4",
   "metadata": {},
   "outputs": [
    {
     "name": "stdout",
     "output_type": "stream",
     "text": [
      "La iteración en la que finaliza el proceso es: 831\n",
      "La aproximación alcanzada ha sido: 9.912071163853398e-13\n",
      "Resultado 2b1: [1.]\n"
     ]
    }
   ],
   "source": [
    "# Definir la función objetivo de n variables\n",
    "def objective_function(x):\n",
    "    return 3*x[0]**4 + 4*x[0]**3 - 12*x[0]**2 + 7\n",
    "\n",
    "# Definir la función gradiente de n variables\n",
    "def grad_f(x):\n",
    "    return np.array([12 * x[0]**3 + 12*x[0]**2 - 24*x[0]])\n",
    "\n",
    "# Aplicar el método sobre f(x) con x0 = 3, γ = 0.001, tol=1e-12, maxit=1e5:\n",
    "x0 = np.array([3.0])\n",
    "gamma = 0.001\n",
    "tol = 1e-12\n",
    "max_it = 1e5\n",
    "\n",
    "result2b1 = gradient_descent(grad_f, x0, gamma, tol, max_it)\n",
    "print(\"Resultado 2b1:\", result2b1)\n"
   ]
  },
  {
   "cell_type": "markdown",
   "id": "18379cd3",
   "metadata": {},
   "source": [
    "### 2.b.2. Aplicar el método sobre $ f(x)$ con:\n",
    "$$\n",
    "x0 = 3$$\n",
    "$$ γ = 0.01 $$\n",
    "$$ tol = 1e-12 $$\n",
    "$$ maxit = 1e5\n",
    "$$"
   ]
  },
  {
   "cell_type": "code",
   "execution_count": 22,
   "id": "200edb82",
   "metadata": {},
   "outputs": [
    {
     "name": "stdout",
     "output_type": "stream",
     "text": [
      "La iteración en la que finaliza el proceso es: 31\n",
      "La aproximación alcanzada ha sido: 8.384404281969182e-13\n",
      "Resultado 2b2: [-2.]\n"
     ]
    }
   ],
   "source": [
    "x0 = np.array([3.0])\n",
    "gamma = 0.01\n",
    "tol = 1e-12\n",
    "max_it = 1e5\n",
    "\n",
    "result2b2 = gradient_descent(grad_f, x0, gamma, tol, max_it)\n",
    "print(\"Resultado 2b2:\", result2b2)"
   ]
  },
  {
   "cell_type": "markdown",
   "id": "5b6b2794",
   "metadata": {},
   "source": [
    "### 2.b.3. Contraste e interpretación de los resultados obtenidos en los apartados anteriores y comparación con los mínimos locales obtenidos analíticamente:"
   ]
  },
  {
   "cell_type": "markdown",
   "id": "ff2e0c54",
   "metadata": {},
   "source": [
    "La función $f(x)$ dada es una función polinómica de una variable. Para calcular sus puntos críticos deberemos buscar las soluciones a la derivada de la función una vez igualada a cero, $f'(x) = 0$.\n",
    "\n",
    "Una vez obtenidos los puntos críticos de esta forma deberemos determinar si se tratan de un mínimo local, un máximo local o un punto de silla (o punto de inflexión en funciones de una variable). Este análisis se hará sustituyendo los puntos críticos encontrados en la función derivada segunda, de tal manera que:\n",
    "    $$ si f''(x0) < 0$$, entonces x0 es un máximo.\n",
    "    $$ si f''(x0) > 0$$, entonces x0 es un mínimo.\n",
    "    $$ si f''(x0) = 0$$, entonces x0 es un punto de silla (punto de inflexión).\n",
    "\n",
    "$$\n",
    "f'(x) = 0\n",
    "$$\n",
    "$$\n",
    "12x^3 + 12x^2 - 24x = 0\n",
    "$$\n",
    "$$\n",
    "x(x^2 + x - 2) = 0\n",
    "$$\n",
    "\n",
    "Esto nos da tres posibles soluciones: \n",
    "$$\n",
    "x1 = 0, x2 = -2, x3 = 1.\n",
    "$$\n",
    "\n",
    "Ahora calculamos la segunda derivada de la función, $f''(x):$\n",
    "\n",
    "$$\n",
    "f''(x) = 36x^2 + 24x - 24 = 12(3x^2 + 2x - 2)\n",
    "\n",
    "$$\n",
    "\n",
    "Y analizamos el valor de esta derivada segunda para cada uno de los puntos críticos: \n",
    "$$\n",
    "f''(0) = - 24 < 0, \n",
    "$$\n",
    "por lo tanto x1 = 0 es máximo\n",
    "$$\n",
    "f''(-2) = 72 > 0, \n",
    "$$\n",
    "por lo tanto x2 = -2 es mínimo\n",
    "$$\n",
    "f''(-1) = 36 > 0, \n",
    "$$\n",
    "por lo tanto x3 = 1 es mínimo\n",
    "\n",
    "En el resultado del apartado 2.b.1 obtenido mediante la función gradient_descent(), utilizando x0 = 3 y γ = 0.001, se ha obtenido la aproximación a uno de los mínimos locales obtenidos analíticamente, concretamente al punto crítico x3 = 1. En este caso, al partir de una tasa de aprendizaje baja, γ = 0.001, la función ha necesitado de 831 iteraciones para obtener el valor mínimo con la tolerancia exigida.\n",
    "\n",
    "En el resultado del apartado 2.b.2, utilizando  x0 = 3 γ = 0.01, se ha obtenido una aproximación a otro de los mínimos locales obtenidos analíticamente, en este caso al punto crítico x2 = -2. Al partir de una tasa de aprendizaje mayor respecto al resultado 2.b.1, se espera una convergencia más rápida en la dirección del gradiente descendente hacia el mínimo local. Efectivamente, en este caso concreto, podemos comprobar que la función ha necesitado de sólo 31 iteraciones para alcanzar este mínimo local con la tolerancia exigida. "
   ]
  },
  {
   "cell_type": "markdown",
   "id": "0882f5be",
   "metadata": {},
   "source": [
    "#### 2.b.4. Aplicar nuevamente el método sobre $ f(x)$  e interpreta el resultado, con:\n",
    "$$\n",
    "x0 = 3$$\n",
    "$$ γ = 0.1 $$\n",
    "$$ tol = 1e-12 $$\n",
    "$$ maxit = 1e5\n",
    "$$"
   ]
  },
  {
   "cell_type": "code",
   "execution_count": 23,
   "id": "cc350231",
   "metadata": {},
   "outputs": [
    {
     "name": "stderr",
     "output_type": "stream",
     "text": [
      "C:\\Users\\julis\\AppData\\Local\\Temp\\ipykernel_28280\\4197698118.py:7: RuntimeWarning: overflow encountered in double_scalars\n",
      "  return np.array([12 * x[0]**3 + 12*x[0]**2 - 24*x[0]])\n",
      "C:\\Users\\julis\\AppData\\Local\\Temp\\ipykernel_28280\\4197698118.py:7: RuntimeWarning: invalid value encountered in double_scalars\n",
      "  return np.array([12 * x[0]**3 + 12*x[0]**2 - 24*x[0]])\n"
     ]
    },
    {
     "name": "stdout",
     "output_type": "stream",
     "text": [
      "La iteración en la que finaliza el proceso es: 99999\n",
      "La aproximación alcanzada ha sido: nan\n",
      "Resultado 2b4: [nan]\n"
     ]
    }
   ],
   "source": [
    "x0 = np.array([3.0])\n",
    "gamma = 0.1\n",
    "tol = 1e-12\n",
    "max_it = 1e5\n",
    "\n",
    "result2b4 = gradient_descent(grad_f, x0, gamma, tol, max_it)\n",
    "print(\"Resultado 2b4:\", result2b4)"
   ]
  },
  {
   "cell_type": "markdown",
   "id": "72f36ba2",
   "metadata": {},
   "source": [
    "El resultado obtenido nos muestra que con una tasa de aprendizaje de γ = 0.1 el proceso no converge, alcanzándose el máximo número de iteraciones establecido. En este apartado, se ha empleado una tasa da aprendizaje demasiado grande, lo que hace que el descenso del gradiente vaya oscilando alrededor del mínimo y no se alcance nunca la convergencia o que ésta se alcance muy lentamente.\n",
    "\n",
    "Este resultado pone de manifiesto la importancia de elegir correctamente el valor de la tasa de aprendizaje , ya que si partimos de una demasiado baja el proceso convergerá lentamente necesitándose un elevado número de iteraciones para alcanzar el mínimo de la función (apartado 2.b.1). Si partimos de una tasa de aprendizaje demasiado alta puede ocurrir que no se alcance nunca la convergencia por lo ya argumentado (apartado 2.b.4).\n",
    "\n"
   ]
  },
  {
   "cell_type": "markdown",
   "id": "2ad521cf",
   "metadata": {},
   "source": [
    "### 2.b.5. Finalmente, aplica nuevamente el método sobre $f(x)$ e interpreta el resultado, con:\n",
    "$$x0 = 0$$\n",
    "$$ γ = 0.001 $$\n",
    "$$ tol = 1e-12 $$\n",
    "$$ maxit = 1e5 $$\n",
    "#### Interpreta el resultado y compáralo con el estudio analítico de f. Se trata de un resultado deseable? Por qué? A qué se debe este fenómeno?"
   ]
  },
  {
   "cell_type": "code",
   "execution_count": 24,
   "id": "d0ff86df",
   "metadata": {},
   "outputs": [
    {
     "name": "stdout",
     "output_type": "stream",
     "text": [
      "La iteración en la que finaliza el proceso es: 0\n",
      "La aproximación alcanzada ha sido: 0.0\n",
      "Resultado 2b5: [0.]\n"
     ]
    }
   ],
   "source": [
    "x0 = np.array([0.0])\n",
    "gamma = 0.001\n",
    "tol = 1e-12\n",
    "max_it = 1e5\n",
    "\n",
    "result2b5 = gradient_descent(grad_f, x0, gamma, tol, max_it)\n",
    "print(\"Resultado 2b5:\", result2b5)"
   ]
  },
  {
   "cell_type": "markdown",
   "id": "c00cb64b",
   "metadata": {},
   "source": [
    "En este caso vemos que la función no se ha ejecutado (proceso finalizado en iteración 0). El motivo es que el punto de origen seleccionado para inicializar el proceso iterativo del descenso del gradiente, x0, se trata de un punto crítico de la función. Conforme vimos en el apartado 2.b.3 referente al cálculo analítico de los puntos críticos, el punto x= 0 se corresponde con el punto crítico x1 del estudio analítico y ya concluimos que se trataba de un máximo local. \n",
    "\n",
    "Al tratarse de un punto crítico, eso significa que el gradiente en este punto es 0, con lo que grad_f(x) de la función es 0. A su vez, la norma  2 del vector gradiente será también 0, con lo que se cumple la condición de que este valor es menora la tolerancia establecia y, por lo tanto, no hay ninguna iteración y no se llega a realizar ningún cálculo en la función.\n",
    "\n",
    "Esto se trata de un resultado indeseable ya que al intentar iniciar la función en un punto crítico de la misma el algoritmo del descenso del gradiente no se puede inicializar para determinar los mínimos al no producirse ninguna variación incremental. \n",
    "\n",
    "Para tratar de solucionar esta posible situación, se podría modificar el código para que antes de comenzar a iterar se calculase si el gradiente en el punto de inicio es 0. En caso de que esto ocurra, se podría variar ligeramente el punto x0 para alejarlo levemente del punto crítico (sumándole o restándole una pequeña cantidad) y que de este modo el algoritmo pueda inicializar el proceso iterativo de cálculo. \n",
    "\n",
    "A continuación se representa el código mejorado, en el que dependiendo del valor incremental que le demos, nos llevará a uno de los mínimos de la función. En este caso hemos optado por establecer un valor incremental de +0,1 respecto al x0 original y esto nos lleva al mínimo local x=1."
   ]
  },
  {
   "cell_type": "code",
   "execution_count": 25,
   "id": "91aadefc",
   "metadata": {},
   "outputs": [
    {
     "name": "stdout",
     "output_type": "stream",
     "text": [
      "La iteración en la que finaliza el proceso es: 941\n",
      "La aproximación alcanzada ha sido: 9.947598300641403e-13\n",
      "Resultado 2b5mod: [1.]\n"
     ]
    }
   ],
   "source": [
    "def gradient_descent_v2(grad_f, x0, gamma, tol, max_it):\n",
    "    norma_inic = np.linalg.norm(grad_f(x0), 2)\n",
    "    if norma_inic == 0:\n",
    "        for j in range(len(x0)):\n",
    "            x0[j] = x0[j] + 0.1\n",
    "    xv2 = x0\n",
    "    for i in range(int(max_it)):\n",
    "        gradient = grad_f(xv2)\n",
    "        norm_gradient = np.linalg.norm(gradient, 2)\n",
    "        if norm_gradient < tol:\n",
    "            break\n",
    "        xv2 = xv2 - gamma * gradient\n",
    "\n",
    "    print(\"La iteración en la que finaliza el proceso es:\", i)\n",
    "    print(\"La aproximación alcanzada ha sido:\", norm_gradient)\n",
    "    return xv2\n",
    "\n",
    "x0 = np.array([0.0])\n",
    "gamma = 0.001\n",
    "tol = 1e-12\n",
    "max_it = 1e5\n",
    "\n",
    "result2b5mod = gradient_descent_v2(grad_f, x0, gamma, tol, max_it)\n",
    "print(\"Resultado 2b5mod:\", result2b5mod)"
   ]
  },
  {
   "cell_type": "markdown",
   "id": "508965c0",
   "metadata": {},
   "source": [
    "### 2.c. Sea la función $g: ℝ² ⟶ ℝ$  dada por $ g(x,y) = x^2 + y^3 + 3xy + 1 $\n"
   ]
  },
  {
   "cell_type": "markdown",
   "id": "da969669",
   "metadata": {},
   "source": [
    "#### 2.c.1 Aplíquese el método sobre $g(x, y)$ con \n",
    "$$\n",
    "x0 = (-1, 1) $$\n",
    "$$ γ = 0.01 $$\n",
    "$$ tol = 1e-12 $$\n",
    "$$ maxit = 1e5\n",
    "$$\n"
   ]
  },
  {
   "cell_type": "code",
   "execution_count": 26,
   "id": "e04dbe09",
   "metadata": {},
   "outputs": [
    {
     "name": "stdout",
     "output_type": "stream",
     "text": [
      "La iteración en la que finaliza el proceso es: 31559\n",
      "La aproximación alcanzada ha sido: 9.99485293480103e-13\n",
      "Resultado 2c1: [-2.25  1.5 ]\n"
     ]
    }
   ],
   "source": [
    "# Definir la función objetivo de n variables\n",
    "def objective_function(x):\n",
    "    return x[0]**2 + x[1]**3 + 3*x[0]*x[1] + 1\n",
    "\n",
    "# Definir la función gradiente de n variables\n",
    "def grad_f(x):\n",
    "    return np.array([2 * x[0] + 3*x[1], 3*x[1]**2 + 3*x[0]])\n",
    "\n",
    "x0 = np.array([-1.0, 1.0])\n",
    "gamma = 0.001\n",
    "tol = 1e-12\n",
    "max_it = 1e5\n",
    "\n",
    "result2c1 = gradient_descent(grad_f, x0, gamma, tol, max_it)\n",
    "print(\"Resultado 2c1:\", result2c1)"
   ]
  },
  {
   "cell_type": "markdown",
   "id": "92b13e10",
   "metadata": {},
   "source": [
    "#### 2.c.2 Qué ocurre si ahora partimos de $x0 = (0,0)$? Se obtiene el resultado deseable?\n"
   ]
  },
  {
   "cell_type": "code",
   "execution_count": 27,
   "id": "f26bba0f",
   "metadata": {},
   "outputs": [
    {
     "name": "stdout",
     "output_type": "stream",
     "text": [
      "La iteración en la que finaliza el proceso es: 0\n",
      "La aproximación alcanzada ha sido: 0.0\n",
      "Resultado 2c2: [0. 0.]\n"
     ]
    }
   ],
   "source": [
    "x0 = np.array([0.0, 0.0])\n",
    "gamma = 0.001\n",
    "tol = 1e-12\n",
    "max_it = 1e5\n",
    "\n",
    "result2c2 = gradient_descent(grad_f, x0, gamma, tol, max_it)\n",
    "print(\"Resultado 2c2:\", result2c2)"
   ]
  },
  {
   "cell_type": "markdown",
   "id": "1471ae06",
   "metadata": {},
   "source": [
    "No se obtienen los resultados deseables porque nos encontramos en el mismo caso que el punto 2.b.5. Al tratarse el punto (0,0) de un punto crítico, la función de gradiente descendiente no puede comenzar a iterar porque su gradiente es el vector 0.\n",
    "\n",
    "Esto se soluciona implementando la función gradient_descen_v2 pero adaptada a varias variables ya que la variación incremental se tiene que dar a todas las variables de la función."
   ]
  },
  {
   "cell_type": "code",
   "execution_count": 28,
   "id": "40a96920",
   "metadata": {},
   "outputs": [
    {
     "name": "stdout",
     "output_type": "stream",
     "text": [
      "La iteración en la que finaliza el proceso es: 34273\n",
      "La aproximación alcanzada ha sido: 9.99485293480103e-13\n",
      "Resultado 2c2mod: [-2.25  1.5 ]\n"
     ]
    }
   ],
   "source": [
    "x0 = np.array([0.0, 0.0])\n",
    "gamma = 0.001\n",
    "tol = 1e-12\n",
    "max_it = 1e5\n",
    "\n",
    "result2c2mod = gradient_descent_v2(grad_f, x0, gamma, tol, max_it)\n",
    "print(\"Resultado 2c2mod:\", result2c2mod)\n"
   ]
  },
  {
   "cell_type": "markdown",
   "id": "bfd98c1c",
   "metadata": {},
   "source": [
    "#### 2.c.3 Realícese el estudio analítico de la función y utilícese para explicar y contrastar los resultados obtenidos en los dos apartados anteriores."
   ]
  },
  {
   "cell_type": "markdown",
   "id": "95ed09aa",
   "metadata": {},
   "source": [
    "La función $g(x,y)$ dada es una función de dos variables. Para calcular sus puntos críticos deberemos calcular las derivadas parciales respecto a cada variable e igualarlas a 0: $(\\frac{\\partial g}{\\partial x}, \\frac{\\partial g}{\\partial y})\n",
    " = (0,0)$.\n",
    " Con esto obtendremos los puntos críticos de la función $g(x,y)$\n",
    "\n",
    "Una vez obtenidos los puntos críticos deberemos determinar si se tratan de un mínimo local, un máximo local o un punto de silla. Este análisis se hará calculando la matriz Hessiana (matriz de derivadas parciales segundas):\n",
    "$$\n",
    "H = \\begin{bmatrix} \\frac{\\partial^2 g}{\\partial x^2} & \\frac{\\partial^2 g}{\\partial x  \\partial y} \\\\ \\frac{\\partial^2 g}{\\partial x  \\partial y} & \\frac{\\partial^2 g}{\\partial y^2} \\end{bmatrix}\n",
    "$$\n",
    "Posteriormente se calculará el valor del determinante de la Hessiana y analizaremos las distintas posibilidades según éste sea mayor, menor o igual a 0. \n",
    "\n",
    "En nuestro caso tenemos que:\n",
    "$$ (\\frac{\\partial g}{\\partial x}, \\frac{\\partial g}{\\partial y})\n",
    " = (2x + 3y , 3 y^2 + 3 x)=(0,0)$$\n",
    "Con lo que resolviendo el sistema de 2 ecuaciones con 2 incógnitas obtenemos los siguientes puntos críticos:\n",
    "$$\n",
    "(x0, y0) = (0,0)\n",
    "$$\n",
    "$$\n",
    "(x1, y1) = (2.25, 1.5)\n",
    "$$\n",
    "\n",
    "Ahora calculamos la matriz Hessiana definida anteriormente y obtenemos:\n",
    "\n",
    "$$\n",
    "H = \\begin{bmatrix} 2 & 3 \\\\ 3  & 6y \\end{bmatrix}\n",
    "$$\n",
    "Y calculamos el valor del determinante de la Hessiana para cada punto crítico obtenido:\n",
    " $$\n",
    "\n",
    "det(H(x0,y0)) = -9 < 0\n",
    "$$\n",
    "\n",
    "\n",
    "$$\n",
    "det(H(x1,y1)) = 9 > 0\n",
    "$$\n",
    "Por lo tanto, para el punto crítico $(x0,y0)=(0,0)$, tenemos que el det de la Hessiana en este punto es < 0, con lo que el punto $(x0, y0)=(0,0) $ es un punto de silla.\n",
    "\n",
    "Por otro lado, en el otro punto crítico $(x1, y1)$ tenemos que el det de la Hessiana es > 0, por lo que el punto $(x1, y1) = (2.25, 1.5)$ es un mínimo local, al ser el valor del primer elemento de la matriz Hessiana h11 > 0\n",
    "\n",
    "Comparando estos resultados con los obtenidos mediante la función gradient_descent implementada comprobamos que todo concuerda perfectamente. \n",
    "\n",
    "En el apartado 2.c.1. se calculó numéricamente el punto crítico $(x1, y1)$ dando como resultado $(2.25, 1.5)$ , coincidente con el resultado analítico. En este caso, la función necesitó de 31.559 iteraciones para alcanzar el resultado con la tolerancia exigida.\n",
    "\n",
    "En el apartado 2.c.2. se vió como al intentar inicializar la función en el punto $(x0, y0) = ( 0, 0)$ se produjo el efecto indeseado relativo a que la función no pudo arrancar por ser un punto crítico. En efecto, el cálculo analítico realizado anteriormente demostró que este punto crítico se corresponde con un punto de silla de la función. También vimos en el apartado 2.c.2. como utilizando la función gradient_descent_v2 (versión mejorada de la original implementada en el apartado 2.b.5.) se conseguía corregir este efecto indeseado al inicializar la función en un punto cercano al punto crítico.\n",
    " \n",
    "\n"
   ]
  }
 ],
 "metadata": {
  "kernelspec": {
   "display_name": "Python 3 (ipykernel)",
   "language": "python",
   "name": "python3"
  },
  "language_info": {
   "codemirror_mode": {
    "name": "ipython",
    "version": 3
   },
   "file_extension": ".py",
   "mimetype": "text/x-python",
   "name": "python",
   "nbconvert_exporter": "python",
   "pygments_lexer": "ipython3",
   "version": "3.10.9"
  }
 },
 "nbformat": 4,
 "nbformat_minor": 5
}
