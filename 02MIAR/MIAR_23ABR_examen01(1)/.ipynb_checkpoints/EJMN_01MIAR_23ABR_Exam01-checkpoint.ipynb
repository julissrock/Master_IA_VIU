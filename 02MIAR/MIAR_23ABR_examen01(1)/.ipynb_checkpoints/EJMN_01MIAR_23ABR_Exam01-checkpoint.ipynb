{
 "cells": [
  {
   "cell_type": "markdown",
   "id": "43115e44-f75d-465a-ad62-9b2be737a6e6",
   "metadata": {},
   "source": [
    "# Examen Primera Convocatoria"
   ]
  },
  {
   "cell_type": "code",
   "execution_count": 1,
   "id": "eb8ba270-b03c-49f8-b092-8de37baa3bfe",
   "metadata": {},
   "outputs": [],
   "source": [
    "# Autor: Esmarlin Moreno"
   ]
  },
  {
   "cell_type": "markdown",
   "id": "2206adbd-c8e0-4665-a20b-bb6a1503d388",
   "metadata": {
    "tags": []
   },
   "source": [
    "## 01 - 1 pt\n",
    "- Dado un array de elementos, escribir una función, que reciba dicho array como parámetro de entrada y devuelva el elemento repetido. Usando plain Python, sin ninguna librería."
   ]
  },
  {
   "cell_type": "code",
   "execution_count": 7,
   "id": "748595ea-d6b6-4f35-a824-ea3631d7e15a",
   "metadata": {},
   "outputs": [],
   "source": [
    "array_src = [4, 8, 0, 3, 6, 2, 1, 5, 3, 9, 7]\n",
    "expected_rep_element = 3\n",
    "rep_element = repeated_element(array_src) # This calls your function repeated_element\n",
    "assert(expected_rep_element == rep_element)  # This will fail if the element is not found correctly"
   ]
  },
  {
   "cell_type": "code",
   "execution_count": 1,
   "id": "3b6d4855-e751-4f45-8382-1291885aef0c",
   "metadata": {},
   "outputs": [
    {
     "data": {
      "text/plain": [
       "3"
      ]
     },
     "execution_count": 1,
     "metadata": {},
     "output_type": "execute_result"
    }
   ],
   "source": [
    "array_src = [4, 8, 0, 3, 6, 2, 1, 5, 3, 9, 7]\n",
    "\n",
    "def repeated_element(array_src): #Declaramos la función\n",
    "    \n",
    "    #El bucle for recorrera el array en busca del elemento que se repita dentro de la misma, y nos devolverá cual es dicho elemento\n",
    "    for element in array_src:\n",
    "        if array_src.count(element) > 1: break\n",
    "    return element\n",
    "\n",
    "repeated_element(array_src) #Llamamos a la función"
   ]
  },
  {
   "cell_type": "markdown",
   "id": "5161decf-e061-44a9-a413-8d3921a10058",
   "metadata": {
    "tags": []
   },
   "source": [
    "## 02 - 1pt\n",
    "- Genera una matriz con valores aleatorios de 0 a 100 de dimensiones 16x16\n",
    "- Calcula los siguentes estadísticos en la matriz anterior, por fila (el resultado de cada uno debe ser un array de dimensiones 1x16)\n",
    "  - Suma de los elementos de cada fila\n",
    "  - Media de los elementos de cada fila\n",
    "  - Valores mínimos de cada fila\n",
    "  - Valores máximos de cada fila"
   ]
  },
  {
   "cell_type": "code",
   "execution_count": 2,
   "id": "2e7bfe3c-253f-4287-8d85-fb7e5163e6c0",
   "metadata": {},
   "outputs": [
    {
     "name": "stdout",
     "output_type": "stream",
     "text": [
      "Suma: [694 884 830 749 712 854 820 652 708 764 640 826 689 775 705 536]\n",
      "Media: [43.375  55.25   51.875  46.8125 44.5    53.375  51.25   40.75   44.25\n",
      " 47.75   40.     51.625  43.0625 48.4375 44.0625 33.5   ]\n",
      "Mínimo: [ 7  1  2  0  7  7 11  1  2  9  4  5  5  1  5  1]\n",
      "Máximo: [ 98  99  98  98  87 100  89  81  99  97  93  97  96  98  76  71]\n"
     ]
    }
   ],
   "source": [
    "import numpy as np\n",
    "\n",
    "matriz_aleatoria = np.random.randint(101, size = (16, 16)) #Creamos la matriz\n",
    "\n",
    "suma, media, minimos, maximos = [], [], [], [] #Declaramos cuatro variables que contendran las filas con los resultados de las operaciones solicitadas\n",
    "#hacemos un for\n",
    "for element in matriz_aleatoria:\n",
    "    suma.append(element.sum())\n",
    "    media.append(element.mean())\n",
    "    minimos.append(element.min())\n",
    "    maximos.append(element.max())\n",
    "    \n",
    "#Mostramos los resultados    \n",
    "print(f'Suma: {np.array(suma)}') \n",
    "print(f'Media: {np.array(media)}') \n",
    "print(f'Mínimo: {np.array(minimos)}') \n",
    "print(f'Máximo: {np.array(maximos)}') "
   ]
  },
  {
   "cell_type": "markdown",
   "id": "9986c32f-299d-4ce7-809e-db01ee851764",
   "metadata": {
    "tags": []
   },
   "source": [
    "## 03 - 1pt\n",
    "\n",
    "- Generar un dataframe de 3x4 dimensiones con valores númericos aleatorios [0,10]\n",
    "- Darle un índice semántico alfanumérico\n",
    "- Aplicarle una función lambda que obtenga la diferencia entre el máximo y mínimo de cada fila"
   ]
  },
  {
   "cell_type": "code",
   "execution_count": 15,
   "id": "18ff9dbf-9ba4-4513-8a73-d0328b689dc9",
   "metadata": {},
   "outputs": [
    {
     "name": "stdout",
     "output_type": "stream",
     "text": [
      "Resultado de función lambda: [3, 9, 7]\n",
      "    A  B  C  D\n",
      "1   5  7  4  7\n",
      "2   0  9  6  6\n",
      "3  10  4  3  6\n"
     ]
    }
   ],
   "source": [
    "import pandas as pd\n",
    "import numpy as np\n",
    "\n",
    "df = pd.DataFrame(np.random.randint(11, size = (3, 4)), index = ('1', '2', '3'), columns = ('A', 'B', 'C', 'D'))\n",
    "print(f'Resultado de función lambda: {list(map(lambda x: df.loc[x].max() - df.loc[x].min(), df.index))}')\n",
    "\n",
    "print(df)"
   ]
  },
  {
   "cell_type": "markdown",
   "id": "1dc73e21-7283-4cd5-92e8-3a7e1e70fd02",
   "metadata": {
    "tags": []
   },
   "source": [
    "## 04 - 1pt\n",
    "- Crear un array de NumPy de dimensiones 8x5, con números enteros aleatorios en el rango [-100, 100]\n",
    "- Ejecutar en este orden\n",
    "\n",
    "  1. Reemplazar los valores de todos aquellos números múltiplos de 5 por 100\n",
    "  2. Reemplazar los valores de todos aquellos números múltiplos de 3 por Nan\n",
    "   \n",
    "  2. Averiguar cuantos elementos tienen Nan por fila\n",
    "  3. Reemplazar los valores de Nan por 0"
   ]
  },
  {
   "cell_type": "code",
   "execution_count": 16,
   "id": "2fd83be4-8626-4eaa-9ead-6f951d5ebbfb",
   "metadata": {},
   "outputs": [
    {
     "data": {
      "text/plain": [
       "array([[-12, -75,  27, -76, -58],\n",
       "       [-16, -91, -22,  58, -77],\n",
       "       [ 88,  81, -27, -73,  68],\n",
       "       [ 77,  67, -47, -33, -21],\n",
       "       [ 62, -67, -17,  32, -18],\n",
       "       [-41, -14,  87,  67, -92],\n",
       "       [ 37,  -4, -85, -59,  99],\n",
       "       [ 51, -73,  69,  68,  64]])"
      ]
     },
     "metadata": {},
     "output_type": "display_data"
    }
   ],
   "source": [
    "#Crear un array de NumPy de dimensiones 8x5, con números enteros aleatorios en el rango [-100, 100]\n",
    "np_array = np.random.randint(-100, 101, size = (8, 5))\n",
    "display(np_array)"
   ]
  },
  {
   "cell_type": "code",
   "execution_count": 21,
   "id": "02891c90",
   "metadata": {},
   "outputs": [
    {
     "data": {
      "text/plain": [
       "array([[-12, 100,  27, -76, -58],\n",
       "       [-16, -91, -22,  58, -77],\n",
       "       [ 88,  81, -27, -73,  68],\n",
       "       [ 77,  67, -47, -33, -21],\n",
       "       [ 62, -67, -17,  32, -18],\n",
       "       [-41, -14,  87,  67, -92],\n",
       "       [ 37,  -4, 100, -59,  99],\n",
       "       [ 51, -73,  69,  68,  64]])"
      ]
     },
     "metadata": {},
     "output_type": "display_data"
    }
   ],
   "source": [
    "#Reemplazar los valores de todos aquellos números múltiplos de 5 por 100\n",
    "np_array[np_array % 5 == 0] = 100\n",
    "display(np_array)"
   ]
  },
  {
   "cell_type": "code",
   "execution_count": 30,
   "id": "3fe14582",
   "metadata": {},
   "outputs": [
    {
     "data": {
      "text/html": [
       "<div>\n",
       "<style scoped>\n",
       "    .dataframe tbody tr th:only-of-type {\n",
       "        vertical-align: middle;\n",
       "    }\n",
       "\n",
       "    .dataframe tbody tr th {\n",
       "        vertical-align: top;\n",
       "    }\n",
       "\n",
       "    .dataframe thead th {\n",
       "        text-align: right;\n",
       "    }\n",
       "</style>\n",
       "<table border=\"1\" class=\"dataframe\">\n",
       "  <thead>\n",
       "    <tr style=\"text-align: right;\">\n",
       "      <th></th>\n",
       "      <th>0</th>\n",
       "      <th>1</th>\n",
       "      <th>2</th>\n",
       "      <th>3</th>\n",
       "      <th>4</th>\n",
       "    </tr>\n",
       "  </thead>\n",
       "  <tbody>\n",
       "    <tr>\n",
       "      <th>0</th>\n",
       "      <td>NaN</td>\n",
       "      <td>100.0</td>\n",
       "      <td>NaN</td>\n",
       "      <td>-76.0</td>\n",
       "      <td>-58.0</td>\n",
       "    </tr>\n",
       "    <tr>\n",
       "      <th>1</th>\n",
       "      <td>-16.0</td>\n",
       "      <td>-91.0</td>\n",
       "      <td>-22.0</td>\n",
       "      <td>58.0</td>\n",
       "      <td>-77.0</td>\n",
       "    </tr>\n",
       "    <tr>\n",
       "      <th>2</th>\n",
       "      <td>88.0</td>\n",
       "      <td>NaN</td>\n",
       "      <td>NaN</td>\n",
       "      <td>-73.0</td>\n",
       "      <td>68.0</td>\n",
       "    </tr>\n",
       "    <tr>\n",
       "      <th>3</th>\n",
       "      <td>77.0</td>\n",
       "      <td>67.0</td>\n",
       "      <td>-47.0</td>\n",
       "      <td>NaN</td>\n",
       "      <td>NaN</td>\n",
       "    </tr>\n",
       "    <tr>\n",
       "      <th>4</th>\n",
       "      <td>62.0</td>\n",
       "      <td>-67.0</td>\n",
       "      <td>-17.0</td>\n",
       "      <td>32.0</td>\n",
       "      <td>NaN</td>\n",
       "    </tr>\n",
       "    <tr>\n",
       "      <th>5</th>\n",
       "      <td>-41.0</td>\n",
       "      <td>-14.0</td>\n",
       "      <td>NaN</td>\n",
       "      <td>67.0</td>\n",
       "      <td>-92.0</td>\n",
       "    </tr>\n",
       "    <tr>\n",
       "      <th>6</th>\n",
       "      <td>37.0</td>\n",
       "      <td>-4.0</td>\n",
       "      <td>100.0</td>\n",
       "      <td>-59.0</td>\n",
       "      <td>NaN</td>\n",
       "    </tr>\n",
       "    <tr>\n",
       "      <th>7</th>\n",
       "      <td>NaN</td>\n",
       "      <td>-73.0</td>\n",
       "      <td>NaN</td>\n",
       "      <td>68.0</td>\n",
       "      <td>64.0</td>\n",
       "    </tr>\n",
       "  </tbody>\n",
       "</table>\n",
       "</div>"
      ],
      "text/plain": [
       "      0      1      2     3     4\n",
       "0   NaN  100.0    NaN -76.0 -58.0\n",
       "1 -16.0  -91.0  -22.0  58.0 -77.0\n",
       "2  88.0    NaN    NaN -73.0  68.0\n",
       "3  77.0   67.0  -47.0   NaN   NaN\n",
       "4  62.0  -67.0  -17.0  32.0   NaN\n",
       "5 -41.0  -14.0    NaN  67.0 -92.0\n",
       "6  37.0   -4.0  100.0 -59.0   NaN\n",
       "7   NaN  -73.0    NaN  68.0  64.0"
      ]
     },
     "metadata": {},
     "output_type": "display_data"
    }
   ],
   "source": [
    "#Averiguar cuantos elementos tienen Nan por fila\n",
    "np_array_new = pd.DataFrame(np_array)\n",
    "np_array_new[np_array_new % 3 ==0] = np.nan\n",
    "display(np_array_new)"
   ]
  },
  {
   "cell_type": "code",
   "execution_count": 31,
   "id": "7488045a",
   "metadata": {},
   "outputs": [
    {
     "data": {
      "text/plain": [
       "array([[  0., 100.,   0., -76., -58.],\n",
       "       [-16., -91., -22.,  58., -77.],\n",
       "       [ 88.,   0.,   0., -73.,  68.],\n",
       "       [ 77.,  67., -47.,   0.,   0.],\n",
       "       [ 62., -67., -17.,  32.,   0.],\n",
       "       [-41., -14.,   0.,  67., -92.],\n",
       "       [ 37.,  -4., 100., -59.,   0.],\n",
       "       [  0., -73.,   0.,  68.,  64.]])"
      ]
     },
     "execution_count": 31,
     "metadata": {},
     "output_type": "execute_result"
    }
   ],
   "source": [
    "#Reemplazar los valores de Nan por 0\n",
    "np.where(np.isnan(np_array_new), 0, np_array_new)"
   ]
  },
  {
   "cell_type": "markdown",
   "id": "45fe9b96-168d-4bdc-a472-fb41c9031c0d",
   "metadata": {
    "tags": []
   },
   "source": [
    "## 05 - 1pt\n",
    "- Crear una función que reciba una lista de strings y devuelva una serie de pandas, y convierta el primer y último carácter de la palabra de cada elemento de la serie a mayúsculas"
   ]
  },
  {
   "cell_type": "code",
   "execution_count": 39,
   "id": "19fab47f-5fbe-4baa-93af-fc6776d748d1",
   "metadata": {},
   "outputs": [],
   "source": [
    "languages = ['python', 'php', 'java', 'javascript', 'c++', 'sql']\n",
    "expected_output = pd.Series(['PythoN', 'PhP', 'JavA', 'JavascripT', 'C++', 'SqL'])\n",
    "output = first_last_uppercase(languages)  # This calls your function first_last_uppercase\n",
    "assert(expected_output.equals(output))  # This will fail if the two lists are different"
   ]
  },
  {
   "cell_type": "code",
   "execution_count": 38,
   "id": "b6b5696b-71fd-4dc4-8536-18eb2d69a8fa",
   "metadata": {},
   "outputs": [
    {
     "data": {
      "text/plain": [
       "0        PythoN\n",
       "1           PhP\n",
       "2          JavA\n",
       "3    JavascripT\n",
       "4           C++\n",
       "5           SqL\n",
       "dtype: object"
      ]
     },
     "execution_count": 38,
     "metadata": {},
     "output_type": "execute_result"
    }
   ],
   "source": [
    "languages = ['python', 'php', 'java', 'javascript', 'c++', 'sql']\n",
    "def first_last_uppercase(languages):\n",
    "    return pd.Series(map(lambda language: ''.join([language[0].capitalize(), language[1:-1], language[-1].capitalize()]), languages))\n",
    "first_last_uppercase(languages)"
   ]
  },
  {
   "cell_type": "markdown",
   "id": "a6e10a57-8a63-4c16-900e-0278fc80a2eb",
   "metadata": {},
   "source": [
    "## 06 - 3 pt\n",
    "- Adjunto al notebook se puede encontrar un fichero 'ine_paro_exam.csv' que contiene datos del INE referentes al paro en España\n",
    "- Las columnas son las siguientes:\n",
    "  - Sexo, los datos de esa fila se refieren a hombres, mujeres o ambos sexos\n",
    "  - Provincias, los datos de esa fila son totales para todo el pais, o de alguna provincia en particular\n",
    "  - Tasas, que tipo de tasa representa el valor de la fila, es de actividad, paro o empleo\n",
    "  - Periodo, a que periodo de tiempo aplica el dato, año y trimestre\n",
    "  - Total, el dato de la tasa\n",
    "\n",
    "Se pide lo siguiente:\n",
    "  - Cargar los datos en un dataframe de Pandas y analizar los atributos\n",
    "  - ¿Cuantos valores nulos hay por columna? Eliminar las filas que tienen nulo en la columna \"Total\"\n",
    "  - Obtener la media anual de la tasa de paro, para ambos sexos y para el total nacional\n",
    "  - Mostrar un resumen, donde en las filas aparezcan las provincias, y las tres tasas posibles (actividad, paro, empleo) en las columnas (obteniendo la media). Ordenar dicho resumen por la media de la tasa de paro ascendentemente\n",
    "  - Representar graficamente una figura, sobre los datos para el total nacional, de las tres diferentes tasas, cada tasa en una subfigura, de manera que en cada subfigura se represente la evolución por trimestre de cada año (cada año se considera una linea con un color diferente)\n",
    "  - ![logo](plot.png)"
   ]
  },
  {
   "cell_type": "code",
   "execution_count": 16,
   "id": "95b15246-4019-4073-ae6c-6c32321cb5dd",
   "metadata": {},
   "outputs": [
    {
     "ename": "SyntaxError",
     "evalue": "(unicode error) 'unicodeescape' codec can't decode bytes in position 2-3: truncated \\UXXXXXXXX escape (1270597115.py, line 2)",
     "output_type": "error",
     "traceback": [
      "\u001b[1;36m  Cell \u001b[1;32mIn[16], line 2\u001b[1;36m\u001b[0m\n\u001b[1;33m    df_paro = pd.read_csv(\"C:\\Users\\julis\\One Drive - United Nations\\OneDrive - United Nations\\Master AI\\Python\\MIAR_23ABR_examen01(1)\\ine_paro_exam.csv\") # cargamos el dataset\u001b[0m\n\u001b[1;37m                                                                                                                                                         ^\u001b[0m\n\u001b[1;31mSyntaxError\u001b[0m\u001b[1;31m:\u001b[0m (unicode error) 'unicodeescape' codec can't decode bytes in position 2-3: truncated \\UXXXXXXXX escape\n"
     ]
    }
   ],
   "source": [
    "import pandas as pd\n",
    "df_paro = pd.read_csv(\"C:\\Users\\julis\\One Drive - United Nations\\OneDrive - United Nations\\Master AI\\Python\\MIAR_23ABR_examen01(1)\\ine_paro_exam.csv\") # cargamos el dataset\n",
    "print(df_paro.head()) #Comprobamos que se ha cargado correctamente\n",
    "\n",
    "\n",
    "# Aplicar la función eliminar_filas_nan en la columna total\n",
    "def eliminar_filas_nan(dataframes):\n",
    "    for df in dataframes:\n",
    "        df.dropna(subset=['Total'], inplace=True)\n",
    "    return dataframes\n",
    "\n",
    "dataframes_sin_nan = eliminar_filas_nan([df_paro])\n"
   ]
  },
  {
   "cell_type": "markdown",
   "id": "d037ca2d-d40e-4fe2-8f9a-8088e927a911",
   "metadata": {
    "tags": []
   },
   "source": [
    "## 07\n",
    "- La serie de Fibonacci es una sucesión de números, en la cual cada número es la suma de los dos anteriores. Los dos primeros son siempre 0 y 1.\n",
    "  - $F_0 = 0$\n",
    "  - $F_1 = 1$\n",
    "  - $F_n = F_{n-1} + F_{n-2}$\n",
    "- Crear un generador infinito de números de Fibonacci."
   ]
  },
  {
   "cell_type": "code",
   "execution_count": null,
   "id": "4020e4a6-263f-4d35-a01f-c56d4b6c1336",
   "metadata": {},
   "outputs": [],
   "source": [
    "fibo = [0,1,1,2,3,5,8,13,21,34,55,89,144,233,377,610,987,1597]\n",
    "g = fibonacci_generator()  # This calls tour function fibonacci_generator\n",
    "expected_output = [next(g) for n in range(len(fibo))]\n",
    "assert(fibo == expected_output)  # This will fail if the output is not as expected"
   ]
  },
  {
   "cell_type": "code",
   "execution_count": 6,
   "id": "3ae135db",
   "metadata": {},
   "outputs": [
    {
     "data": {
      "text/plain": [
       "<generator object fibonacci_generator at 0x000002252B7A60A0>"
      ]
     },
     "execution_count": 6,
     "metadata": {},
     "output_type": "execute_result"
    }
   ],
   "source": [
    "#Solución 1:\n",
    "def fibonacci_generator():\n",
    "    n_2 = 0\n",
    "    n_1 = 1\n",
    "    while True:\n",
    "        yield n_2\n",
    "        n_2, n_1 = n_1, n_2 + n_1"
   ]
  },
  {
   "cell_type": "code",
   "execution_count": null,
   "id": "e60e9a0f",
   "metadata": {},
   "outputs": [],
   "source": [
    "#Otra propuesta\n",
    "def fibonacci_generator(n):\n",
    "    a, b = 0, 1\n",
    "    for _ in range(n):\n",
    "        yield a\n",
    "        a, b = b, a + b\n",
    "#Solicitamos el rango de la serie fibonacci\n",
    "n= int(input (\"Qué rango de numeros fibonacci quieres?\\n\"))\n",
    "print(\"Los numeros fibonacci generados son:\")\n",
    "generador = fibonacci_generator(n)\n",
    "for numero in generador:\n",
    "    print(numero)"
   ]
  },
  {
   "cell_type": "markdown",
   "id": "202c6c38-649d-4991-b118-12e6364d8ab0",
   "metadata": {},
   "source": [
    "## 08 - 1pt\n",
    "- Crear una lista de meses de Enero a Diciembre (eje X)\n",
    "- Generar datos aleatorios para el eje Y, hacerlo 3 veces distintas (Y0, Y1 e Y2)\n",
    "- Representar las 3 secuencias de datos aleatorios en una sola figura usando matplotlib\n",
    "- Añadir una leyenda para poder identificar cada secuencia\n",
    "- Nombrar las 3 secuencias de la siguiente manera (\"Facebook\", \"Twitter\", \"Instagram\")\n",
    "- Añadir un título y nombres a los dos ejes\n",
    "- Añadir una anotación (texto y flecha) a uno de los gráficos"
   ]
  },
  {
   "cell_type": "code",
   "execution_count": 11,
   "id": "b0dfefef-66a5-4804-af34-810fcaf25b5e",
   "metadata": {},
   "outputs": [
    {
     "data": {
      "image/png": "[encoded data removed]",
      "text/plain": [
       "<Figure size 640x480 with 1 Axes>"
      ]
     },
     "metadata": {},
     "output_type": "display_data"
    }
   ],
   "source": [
    "import matplotlib.pyplot as plt\n",
    "import numpy as np\n",
    "\n",
    "meses= ['Enero', 'Febrero', 'Marzo', 'Abril', 'Mayo', 'Junio', 'Julio', 'Agosto', 'Septiembre', 'Octubre', 'Noviembre', 'Diciembre']\n",
    "Y0, Y1, Y2 = [np.random.randint(12, size = (12)) for _ in range(3)]\n",
    "\n",
    "fig, axis = plt.subplots(1,1)\n",
    "\n",
    "axis.plot(meses, Y0, label = 'Facebook')\n",
    "axis.plot(meses, Y1, label = 'Twitter')\n",
    "axis.plot(meses, Y2, label = 'Instagram')\n",
    "\n",
    "\n",
    "axis.set_title('Uso de redes sociales por meses')\n",
    "axis.set_xlabel('Meses')\n",
    "axis.set_ylabel('Usuarios')\n",
    "plt.xticks(rotation=90)\n",
    "fig.autofmt_xdate()\n",
    "\n",
    "\n",
    "plt.show() \n"
   ]
  },
  {
   "cell_type": "code",
   "execution_count": null,
   "id": "e8dcc998",
   "metadata": {},
   "outputs": [],
   "source": []
  },
  {
   "cell_type": "code",
   "execution_count": null,
   "id": "a6b13008",
   "metadata": {},
   "outputs": [],
   "source": []
  }
 ],
 "metadata": {
  "kernelspec": {
   "display_name": "Python 3 (ipykernel)",
   "language": "python",
   "name": "python3"
  },
  "language_info": {
   "codemirror_mode": {
    "name": "ipython",
    "version": 3
   },
   "file_extension": ".py",
   "mimetype": "text/x-python",
   "name": "python",
   "nbconvert_exporter": "python",
   "pygments_lexer": "ipython3",
   "version": "3.10.9"
  }
 },
 "nbformat": 4,
 "nbformat_minor": 5
}
