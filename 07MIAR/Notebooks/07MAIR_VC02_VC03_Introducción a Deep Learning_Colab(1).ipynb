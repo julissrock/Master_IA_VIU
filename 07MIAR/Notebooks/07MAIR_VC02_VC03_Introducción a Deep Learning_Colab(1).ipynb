{
  "cells": [
    {
      "cell_type": "markdown",
      "metadata": {
        "id": "e-Xr73DZ8CGE"
      },
      "source": [
        "## **NUESTRA PRIMERA RED NEURONAL: MNIST DATASET**"
      ]
    },
    {
      "cell_type": "code",
      "execution_count": 67,
      "metadata": {
        "id": "AMjhP1vDde1e"
      },
      "outputs": [
        {
          "name": "stdout",
          "output_type": "stream",
          "text": [
            "absl-py==2.0.0\n",
            "aiobotocore @ file:///C:/b/abs_1c1a_vjay2/croot/aiobotocore_1682537737724/work\n",
            "aiofiles @ file:///C:/b/abs_9ex6mi6b56/croot/aiofiles_1683773603390/work\n",
            "aiohttp @ file:///C:/b/abs_b78zt6vo64/croot/aiohttp_1694181126607/work\n",
            "aioitertools @ file:///tmp/build/80754af9/aioitertools_1607109665762/work\n",
            "aiosignal @ file:///tmp/build/80754af9/aiosignal_1637843061372/work\n",
            "aiosqlite @ file:///C:/b/abs_9djc_0pyi3/croot/aiosqlite_1683773915844/work\n",
            "alabaster @ file:///home/ktietz/src/ci/alabaster_1611921544520/work\n",
            "anaconda-anon-usage @ file:///C:/b/abs_f4tsjyl9va/croot/anaconda-anon-usage_1695310457827/work\n",
            "anaconda-catalogs @ file:///C:/b/abs_8btyy0o8s8/croot/anaconda-catalogs_1685727315626/work\n",
            "anaconda-client @ file:///C:/b/abs_80wttmgui4/croot/anaconda-client_1694625288614/work\n",
            "anaconda-cloud-auth @ file:///C:/b/abs_5cjpnu6wjb/croot/anaconda-cloud-auth_1694462130037/work\n",
            "anaconda-navigator @ file:///C:/b/abs_ab00e0_u7e/croot/anaconda-navigator_1695238210954/work\n",
            "anaconda-project @ file:///C:/ci_311/anaconda-project_1676458365912/work\n",
            "anyio @ file:///C:/ci_311/anyio_1676425491996/work/dist\n",
            "appdirs==1.4.4\n",
            "argon2-cffi @ file:///opt/conda/conda-bld/argon2-cffi_1645000214183/work\n",
            "argon2-cffi-bindings @ file:///C:/ci_311/argon2-cffi-bindings_1676424443321/work\n",
            "arrow @ file:///C:/ci_311/arrow_1678249767083/work\n",
            "astroid @ file:///C:/ci_311/astroid_1678740610167/work\n",
            "astropy @ file:///C:/ci_311_rebuilds/astropy_1678996071858/work\n",
            "asttokens @ file:///opt/conda/conda-bld/asttokens_1646925590279/work\n",
            "astunparse==1.6.3\n",
            "async-timeout @ file:///C:/ci_311/async-timeout_1676431518331/work\n",
            "atomicwrites==1.4.0\n",
            "attrs @ file:///C:/b/abs_35n0jusce8/croot/attrs_1695717880170/work\n",
            "Automat @ file:///tmp/build/80754af9/automat_1600298431173/work\n",
            "autopep8 @ file:///opt/conda/conda-bld/autopep8_1650463822033/work\n",
            "Babel @ file:///C:/ci_311/babel_1676427169844/work\n",
            "backcall @ file:///home/ktietz/src/ci/backcall_1611930011877/work\n",
            "backports.functools-lru-cache @ file:///tmp/build/80754af9/backports.functools_lru_cache_1618170165463/work\n",
            "backports.tempfile @ file:///home/linux1/recipes/ci/backports.tempfile_1610991236607/work\n",
            "backports.weakref==1.0.post1\n",
            "bcrypt @ file:///C:/ci_311/bcrypt_1676435170049/work\n",
            "beautifulsoup4 @ file:///C:/b/abs_0agyz1wsr4/croot/beautifulsoup4-split_1681493048687/work\n",
            "binaryornot @ file:///tmp/build/80754af9/binaryornot_1617751525010/work\n",
            "black @ file:///C:/b/abs_620t6ndje8/croot/black_1680737261963/work\n",
            "bleach @ file:///opt/conda/conda-bld/bleach_1641577558959/work\n",
            "bokeh @ file:///C:/b/abs_e5qs_0dl2w/croot/bokeh_1690546119144/work\n",
            "boltons @ file:///C:/ci_311/boltons_1677729932371/work\n",
            "botocore @ file:///C:/b/abs_01gwdn34ju/croot/botocore_1682528022942/work\n",
            "Bottleneck @ file:///C:/ci_311/bottleneck_1676500016583/work\n",
            "brotlipy==0.7.0\n",
            "cachetools==5.3.1\n",
            "certifi==2023.7.22\n",
            "cffi @ file:///C:/ci_311/cffi_1676423759166/work\n",
            "chardet @ file:///C:/ci_311/chardet_1676436134885/work\n",
            "charset-normalizer @ file:///tmp/build/80754af9/charset-normalizer_1630003229654/work\n",
            "click @ file:///C:/ci_311/click_1676433091657/work\n",
            "cloudpickle @ file:///C:/b/abs_3796yxesic/croot/cloudpickle_1683040098851/work\n",
            "clyent==1.2.2\n",
            "colorama @ file:///C:/ci_311/colorama_1676422310965/work\n",
            "colorcet @ file:///C:/ci_311/colorcet_1676440389947/work\n",
            "comm @ file:///C:/ci_311/comm_1678376562840/work\n",
            "conda @ file:///D:/bld/conda_1696225975401/work\n",
            "conda-build @ file:///C:/b/abs_12an5olbjr/croot/conda-build_1696257552201/work\n",
            "conda-content-trust @ file:///C:/b/abs_e3bcpyv7sw/croot/conda-content-trust_1693490654398/work\n",
            "conda-libmamba-solver @ file:///C:/b/abs_016p0csqp7/croot/conda-libmamba-solver_1691418958509/work/src\n",
            "conda-pack @ file:///tmp/build/80754af9/conda-pack_1611163042455/work\n",
            "conda-package-handling @ file:///C:/b/abs_b9wp3lr1gn/croot/conda-package-handling_1691008700066/work\n",
            "conda-repo-cli==1.0.75\n",
            "conda-token @ file:///Users/paulyim/miniconda3/envs/c3i/conda-bld/conda-token_1662660369760/work\n",
            "conda-verify==3.4.2\n",
            "conda_index @ file:///C:/b/abs_50towt3zan/croot/conda-index_1695311135992/work\n",
            "conda_package_streaming @ file:///C:/b/abs_6c28n38aaj/croot/conda-package-streaming_1690988019210/work\n",
            "constantly==15.1.0\n",
            "contourpy @ file:///C:/ci_311/contourpy_1676431756017/work\n",
            "cookiecutter @ file:///opt/conda/conda-bld/cookiecutter_1649151442564/work\n",
            "cryptography @ file:///C:/b/abs_f4do8t8jfs/croot/cryptography_1694444424531/work\n",
            "cssselect==1.1.0\n",
            "cycler @ file:///tmp/build/80754af9/cycler_1637851556182/work\n",
            "cytoolz @ file:///C:/ci_311/cytoolz_1676436342770/work\n",
            "daal4py==2023.1.1\n",
            "dask @ file:///C:/b/abs_23lvfodys3/croot/dask-core_1686782960052/work\n",
            "datasets @ file:///C:/b/abs_a3jy4vrfuo/croot/datasets_1684484478038/work\n",
            "datashader @ file:///C:/b/abs_8323862uxi/croot/datashader_1692372298149/work\n",
            "datashape==0.5.4\n",
            "debugpy @ file:///C:/b/abs_c0y1fjipt2/croot/debugpy_1690906864587/work\n",
            "decorator @ file:///opt/conda/conda-bld/decorator_1643638310831/work\n",
            "defusedxml @ file:///tmp/build/80754af9/defusedxml_1615228127516/work\n",
            "diff-match-patch @ file:///Users/ktietz/demo/mc3/conda-bld/diff-match-patch_1630511840874/work\n",
            "dill @ file:///C:/ci_311/dill_1676433323862/work\n",
            "distributed @ file:///C:/b/abs_7509xfv227/croot/distributed_1686866088894/work\n",
            "docstring-to-markdown @ file:///C:/ci_311/docstring-to-markdown_1677742566583/work\n",
            "docutils @ file:///C:/ci_311/docutils_1676428078664/work\n",
            "entrypoints @ file:///C:/ci_311/entrypoints_1676423328987/work\n",
            "et-xmlfile==1.1.0\n",
            "executing @ file:///opt/conda/conda-bld/executing_1646925071911/work\n",
            "fastjsonschema @ file:///C:/ci_311/python-fastjsonschema_1679500568724/work\n",
            "filelock @ file:///C:/ci_311/filelock_1676427284139/work\n",
            "flake8 @ file:///C:/ci_311/flake8_1678376624746/work\n",
            "Flask @ file:///C:/ci_311/flask_1676436667658/work\n",
            "flatbuffers==23.5.26\n",
            "fonttools==4.25.0\n",
            "frozenlist @ file:///C:/ci_311/frozenlist_1676428131576/work\n",
            "fsspec @ file:///C:/b/abs_f9arcwflp9/croot/fsspec_1682526006955/work\n",
            "future @ file:///C:/ci_311_rebuilds/future_1678998246262/work\n",
            "gast==0.5.4\n",
            "gensim @ file:///C:/ci_311/gensim_1677743037820/work\n",
            "google-auth==2.23.3\n",
            "google-auth-oauthlib==1.0.0\n",
            "google-pasta==0.2.0\n",
            "greenlet @ file:///C:/ci_311/greenlet_1676436788118/work\n",
            "grpcio==1.59.0\n",
            "h5py @ file:///C:/b/abs_17fav01gwy/croot/h5py_1691589733413/work\n",
            "HeapDict @ file:///Users/ktietz/demo/mc3/conda-bld/heapdict_1630598515714/work\n",
            "holoviews @ file:///C:/b/abs_fa7afixkhc/croot/holoviews_1693378101313/work\n",
            "huggingface-hub @ file:///C:/b/abs_4ctezi_86v/croot/huggingface_hub_1696885915256/work\n",
            "hvplot @ file:///C:/b/abs_2b13wifauw/croot/hvplot_1685998632349/work\n",
            "hyperlink @ file:///tmp/build/80754af9/hyperlink_1610130746837/work\n",
            "idna @ file:///C:/ci_311/idna_1676424932545/work\n",
            "imagecodecs @ file:///C:/b/abs_e2g5zbs1q0/croot/imagecodecs_1695065012000/work\n",
            "imageio @ file:///C:/b/abs_3eijmwdodc/croot/imageio_1695996500830/work\n",
            "imagesize @ file:///C:/ci_311/imagesize_1676431905616/work\n",
            "imbalanced-learn @ file:///C:/b/abs_275a0acaq2/croot/imbalanced-learn_1685025644593/work\n",
            "importlib-metadata @ file:///C:/b/abs_20ndzb2j6v/croot/importlib-metadata_1678997085534/work\n",
            "incremental @ file:///tmp/build/80754af9/incremental_1636629750599/work\n",
            "inflection==0.5.1\n",
            "iniconfig @ file:///home/linux1/recipes/ci/iniconfig_1610983019677/work\n",
            "intake @ file:///C:/ci_311_rebuilds/intake_1678999914269/work\n",
            "intervaltree @ file:///Users/ktietz/demo/mc3/conda-bld/intervaltree_1630511889664/work\n",
            "ipykernel @ file:///C:/b/abs_07rkft_vaz/croot/ipykernel_1691121700587/work\n",
            "ipython @ file:///C:/b/abs_e5729i179y/croot/ipython_1694181400005/work\n",
            "ipython-genutils @ file:///tmp/build/80754af9/ipython_genutils_1606773439826/work\n",
            "ipywidgets @ file:///C:/b/abs_5awapknmz_/croot/ipywidgets_1679394824767/work\n",
            "isort @ file:///tmp/build/80754af9/isort_1628603791788/work\n",
            "itemadapter @ file:///tmp/build/80754af9/itemadapter_1626442940632/work\n",
            "itemloaders @ file:///opt/conda/conda-bld/itemloaders_1646805235997/work\n",
            "itsdangerous @ file:///tmp/build/80754af9/itsdangerous_1621432558163/work\n",
            "jaraco.classes @ file:///tmp/build/80754af9/jaraco.classes_1620983179379/work\n",
            "jedi @ file:///C:/ci_311/jedi_1679427407646/work\n",
            "jellyfish @ file:///C:/b/abs_50kgvtnrbj/croot/jellyfish_1695193564091/work\n",
            "Jinja2 @ file:///C:/ci_311/jinja2_1676424968965/work\n",
            "jinja2-time @ file:///opt/conda/conda-bld/jinja2-time_1649251842261/work\n",
            "jmespath @ file:///Users/ktietz/demo/mc3/conda-bld/jmespath_1630583964805/work\n",
            "joblib @ file:///C:/b/abs_1anqjntpan/croot/joblib_1685113317150/work\n",
            "json5 @ file:///tmp/build/80754af9/json5_1624432770122/work\n",
            "jsonpatch @ file:///tmp/build/80754af9/jsonpatch_1615747632069/work\n",
            "jsonpointer==2.1\n",
            "jsonschema @ file:///C:/b/abs_d40z05b6r1/croot/jsonschema_1678983446576/work\n",
            "jupyter @ file:///C:/ci_311/jupyter_1678249952587/work\n",
            "jupyter-console @ file:///C:/b/abs_82xaa6i2y4/croot/jupyter_console_1680000189372/work\n",
            "jupyter-events @ file:///C:/b/abs_4cak_28ewz/croot/jupyter_events_1684268050893/work\n",
            "jupyter-server @ file:///C:/ci_311/jupyter_server_1678228762759/work\n",
            "jupyter-ydoc @ file:///C:/b/abs_e7m6nh5lao/croot/jupyter_ydoc_1683747253535/work\n",
            "jupyter_client @ file:///C:/ci_311/jupyter_client_1676424009414/work\n",
            "jupyter_core @ file:///C:/b/abs_9d0ttho3bs/croot/jupyter_core_1679906581955/work\n",
            "jupyter_server_fileid @ file:///C:/b/abs_f1yjnmiq_6/croot/jupyter_server_fileid_1684273602142/work\n",
            "jupyter_server_ydoc @ file:///C:/b/abs_8ai39bligw/croot/jupyter_server_ydoc_1686767445888/work\n",
            "jupyterlab @ file:///C:/b/abs_c1msr8zz3y/croot/jupyterlab_1686179674844/work\n",
            "jupyterlab-pygments @ file:///tmp/build/80754af9/jupyterlab_pygments_1601490720602/work\n",
            "jupyterlab-widgets @ file:///C:/b/abs_38ad427jkz/croot/jupyterlab_widgets_1679055289211/work\n",
            "jupyterlab_server @ file:///C:/b/abs_e0qqsihjvl/croot/jupyterlab_server_1680792526136/work\n",
            "kaleido @ file:///C:/b/abs_60smvjz1os/croot/python-kaleido_1689927138239/work\n",
            "keras==2.14.0\n",
            "keyring @ file:///C:/b/abs_dbjc7g0dh2/croot/keyring_1678999228878/work\n",
            "kiwisolver @ file:///C:/ci_311/kiwisolver_1676431979301/work\n",
            "lazy-object-proxy @ file:///C:/ci_311/lazy-object-proxy_1676432050939/work\n",
            "lazy_loader @ file:///C:/b/abs_3bn4_r4g42/croot/lazy_loader_1695850158046/work\n",
            "libarchive-c @ file:///tmp/build/80754af9/python-libarchive-c_1617780486945/work\n",
            "libclang==16.0.6\n",
            "libmambapy @ file:///C:/b/abs_71g8gec0dd/croot/mamba-split_1694187821755/work/libmambapy\n",
            "linkify-it-py @ file:///C:/ci_311/linkify-it-py_1676474436187/work\n",
            "llvmlite @ file:///C:/b/abs_10nm_yz5ni/croot/llvmlite_1697030415722/work\n",
            "lmdb @ file:///C:/b/abs_556ronuvb2/croot/python-lmdb_1682522366268/work\n",
            "locket @ file:///C:/ci_311/locket_1676428325082/work\n",
            "lxml @ file:///C:/b/abs_9e7tpg2vv9/croot/lxml_1695058219431/work\n",
            "lz4 @ file:///C:/b/abs_064u6aszy3/croot/lz4_1686057967376/work\n",
            "Markdown @ file:///C:/ci_311/markdown_1676437912393/work\n",
            "markdown-it-py @ file:///C:/b/abs_a5bfngz6fu/croot/markdown-it-py_1684279915556/work\n",
            "MarkupSafe @ file:///C:/ci_311/markupsafe_1676424152318/work\n",
            "matplotlib @ file:///C:/b/abs_085jhivdha/croot/matplotlib-suite_1693812524572/work\n",
            "matplotlib-inline @ file:///C:/ci_311/matplotlib-inline_1676425798036/work\n",
            "mccabe @ file:///opt/conda/conda-bld/mccabe_1644221741721/work\n",
            "mdit-py-plugins @ file:///C:/ci_311/mdit-py-plugins_1676481827414/work\n",
            "mdurl @ file:///C:/ci_311/mdurl_1676442676678/work\n",
            "menuinst @ file:///C:/ci_311/menuinst_1678730372782/work\n",
            "mistune @ file:///C:/ci_311/mistune_1676425149302/work\n",
            "mkl-fft @ file:///C:/b/abs_19i1y8ykas/croot/mkl_fft_1695058226480/work\n",
            "mkl-random @ file:///C:/b/abs_edwkj1_o69/croot/mkl_random_1695059866750/work\n",
            "mkl-service==2.4.0\n",
            "ml-dtypes==0.2.0\n",
            "more-itertools @ file:///tmp/build/80754af9/more-itertools_1637733554872/work\n",
            "mpmath @ file:///C:/b/abs_7833jrbiox/croot/mpmath_1690848321154/work\n",
            "msgpack @ file:///C:/ci_311/msgpack-python_1676427482892/work\n",
            "multidict @ file:///C:/ci_311/multidict_1676428396308/work\n",
            "multipledispatch @ file:///C:/ci_311/multipledispatch_1676442767760/work\n",
            "multiprocess @ file:///C:/ci_311/multiprocess_1676442808395/work\n",
            "munkres==1.1.4\n",
            "mypy-extensions @ file:///C:/b/abs_8f7xiidjya/croot/mypy_extensions_1695131051147/work\n",
            "navigator-updater @ file:///C:/b/abs_895otdwmo9/croot/navigator-updater_1695210220239/work\n",
            "nbclassic @ file:///C:/b/abs_c8_rs7b3zw/croot/nbclassic_1681756186106/work\n",
            "nbclient @ file:///C:/ci_311/nbclient_1676425195918/work\n",
            "nbconvert @ file:///C:/ci_311/nbconvert_1676425836196/work\n",
            "nbformat @ file:///C:/b/abs_5a2nea1iu2/croot/nbformat_1694616866197/work\n",
            "nest-asyncio @ file:///C:/ci_311/nest-asyncio_1676423519896/work\n",
            "networkx @ file:///C:/b/abs_e6gi1go5op/croot/networkx_1690562046966/work\n",
            "nltk @ file:///C:/b/abs_a638z6l1z0/croot/nltk_1688114186909/work\n",
            "notebook @ file:///C:/b/abs_e2qn6c85jb/croot/notebook_1690985290943/work\n",
            "notebook_shim @ file:///C:/ci_311/notebook-shim_1678144850856/work\n",
            "numba @ file:///C:/b/abs_00f2z7znbq/croot/numba_1690878309825/work\n",
            "numexpr @ file:///C:/b/abs_5fucrty5dc/croot/numexpr_1696515448831/work\n",
            "numpy @ file:///C:/Users/dev-admin/mkl/numpy_and_numpy_base_1682982345978/work\n",
            "numpydoc @ file:///C:/ci_311/numpydoc_1676453412027/work\n",
            "oauthlib==3.2.2\n",
            "openpyxl==3.0.10\n",
            "opt-einsum==3.3.0\n",
            "packaging @ file:///C:/b/abs_28t5mcoltc/croot/packaging_1693575224052/work\n",
            "pandas @ file:///C:/miniconda3/conda-bld/pandas_1692298018988/work\n",
            "pandocfilters @ file:///opt/conda/conda-bld/pandocfilters_1643405455980/work\n",
            "panel @ file:///C:/b/abs_a4rd7zrkc6/croot/panel_1695145945642/work\n",
            "param @ file:///C:/b/abs_f5xzp6ism6/croot/param_1684915326009/work\n",
            "paramiko @ file:///opt/conda/conda-bld/paramiko_1640109032755/work\n",
            "parsel @ file:///C:/ci_311/parsel_1676443327188/work\n",
            "parso @ file:///opt/conda/conda-bld/parso_1641458642106/work\n",
            "partd @ file:///C:/b/abs_4e2m_ds81n/croot/partd_1693937921136/work\n",
            "pathlib @ file:///Users/ktietz/demo/mc3/conda-bld/pathlib_1629713961906/work\n",
            "pathspec @ file:///C:/ci_311/pathspec_1679427644142/work\n",
            "patsy==0.5.3\n",
            "pep8==1.7.1\n",
            "pexpect @ file:///tmp/build/80754af9/pexpect_1605563209008/work\n",
            "pickleshare @ file:///tmp/build/80754af9/pickleshare_1606932040724/work\n",
            "Pillow @ file:///C:/b/abs_20ztcm8lgk/croot/pillow_1696580089746/work\n",
            "pkce @ file:///C:/b/abs_d0z4444tb0/croot/pkce_1690384879799/work\n",
            "pkginfo @ file:///C:/b/abs_d18srtr68x/croot/pkginfo_1679431192239/work\n",
            "platformdirs @ file:///C:/b/abs_b6z_yqw_ii/croot/platformdirs_1692205479426/work\n",
            "plotly @ file:///C:/ci_311/plotly_1676443558683/work\n",
            "pluggy @ file:///C:/ci_311/pluggy_1676422178143/work\n",
            "ply==3.11\n",
            "poyo @ file:///tmp/build/80754af9/poyo_1617751526755/work\n",
            "prometheus-client @ file:///C:/ci_311/prometheus_client_1679591942558/work\n",
            "prompt-toolkit @ file:///C:/ci_311/prompt-toolkit_1676425940920/work\n",
            "Protego @ file:///tmp/build/80754af9/protego_1598657180827/work\n",
            "protobuf==4.24.4\n",
            "psutil @ file:///C:/ci_311_rebuilds/psutil_1679005906571/work\n",
            "ptyprocess @ file:///tmp/build/80754af9/ptyprocess_1609355006118/work/dist/ptyprocess-0.7.0-py2.py3-none-any.whl\n",
            "pure-eval @ file:///opt/conda/conda-bld/pure_eval_1646925070566/work\n",
            "py-cpuinfo @ file:///Users/ktietz/demo/mc3/conda-bld/py-cpuinfo_1629480366017/work\n",
            "pyarrow==11.0.0\n",
            "pyasn1 @ file:///Users/ktietz/demo/mc3/conda-bld/pyasn1_1629708007385/work\n",
            "pyasn1-modules==0.2.8\n",
            "pycodestyle @ file:///C:/ci_311/pycodestyle_1678376707834/work\n",
            "pycosat @ file:///C:/b/abs_31zywn1be3/croot/pycosat_1696537126223/work\n",
            "pycparser @ file:///tmp/build/80754af9/pycparser_1636541352034/work\n",
            "pyct @ file:///C:/ci_311/pyct_1676438538057/work\n",
            "pycurl==7.45.2\n",
            "pydantic @ file:///C:/b/abs_9byjrk31gl/croot/pydantic_1695798904828/work\n",
            "PyDispatcher==2.0.5\n",
            "pydocstyle @ file:///C:/ci_311/pydocstyle_1678402028085/work\n",
            "pyerfa @ file:///C:/ci_311/pyerfa_1676503994641/work\n",
            "pyflakes @ file:///C:/ci_311/pyflakes_1678402101687/work\n",
            "Pygments @ file:///C:/b/abs_fay9dpq4n_/croot/pygments_1684279990574/work\n",
            "PyJWT @ file:///C:/ci_311/pyjwt_1676438890509/work\n",
            "pylint @ file:///C:/ci_311/pylint_1678740302984/work\n",
            "pylint-venv @ file:///C:/ci_311/pylint-venv_1678402170638/work\n",
            "pyls-spyder==0.4.0\n",
            "PyNaCl @ file:///C:/ci_311/pynacl_1676445861112/work\n",
            "pyodbc @ file:///C:/b/abs_75yeqoz5wj/croot/pyodbc_1696937020956/work\n",
            "pyOpenSSL @ file:///C:/b/abs_08f38zyck4/croot/pyopenssl_1690225407403/work\n",
            "pyparsing @ file:///C:/ci_311/pyparsing_1678502182533/work\n",
            "PyQt5==5.15.7\n",
            "PyQt5-sip @ file:///C:/ci_311/pyqt-split_1676428895938/work/pyqt_sip\n",
            "PyQtWebEngine==5.15.4\n",
            "pyrsistent @ file:///C:/ci_311/pyrsistent_1676422695500/work\n",
            "PySocks @ file:///C:/ci_311/pysocks_1676425991111/work\n",
            "pytest @ file:///C:/b/abs_48heoo_k8y/croot/pytest_1690475385915/work\n",
            "python-dateutil @ file:///tmp/build/80754af9/python-dateutil_1626374649649/work\n",
            "python-dotenv @ file:///C:/ci_311/python-dotenv_1676455170580/work\n",
            "python-json-logger @ file:///C:/b/abs_cblnsm6puj/croot/python-json-logger_1683824130469/work\n",
            "python-lsp-black @ file:///C:/ci_311/python-lsp-black_1678721855627/work\n",
            "python-lsp-jsonrpc==1.0.0\n",
            "python-lsp-server @ file:///C:/b/abs_catecj7fv1/croot/python-lsp-server_1681930405912/work\n",
            "python-slugify @ file:///tmp/build/80754af9/python-slugify_1620405669636/work\n",
            "python-snappy @ file:///C:/ci_311/python-snappy_1676446060182/work\n",
            "pytoolconfig @ file:///C:/ci_311/pytoolconfig_1678402262175/work\n",
            "pytz @ file:///C:/b/abs_19q3ljkez4/croot/pytz_1695131651401/work\n",
            "pyviz-comms @ file:///C:/b/abs_6cq38vhwa5/croot/pyviz_comms_1685030740344/work\n",
            "PyWavelets @ file:///C:/ci_311/pywavelets_1676504105729/work\n",
            "pywin32==305.1\n",
            "pywin32-ctypes @ file:///C:/ci_311/pywin32-ctypes_1676427747089/work\n",
            "pywinpty @ file:///C:/ci_311/pywinpty_1677707791185/work/target/wheels/pywinpty-2.0.10-cp311-none-win_amd64.whl\n",
            "PyYAML @ file:///C:/ci_311/pyyaml_1676432488822/work\n",
            "pyzmq @ file:///C:/ci_311/pyzmq_1676423601304/work\n",
            "QDarkStyle @ file:///tmp/build/80754af9/qdarkstyle_1617386714626/work\n",
            "qstylizer @ file:///C:/ci_311/qstylizer_1678502012152/work/dist/qstylizer-0.2.2-py2.py3-none-any.whl\n",
            "QtAwesome @ file:///C:/ci_311/qtawesome_1678402331535/work\n",
            "qtconsole @ file:///C:/b/abs_eb4u9jg07y/croot/qtconsole_1681402843494/work\n",
            "QtPy @ file:///C:/ci_311/qtpy_1676432558504/work\n",
            "queuelib @ file:///C:/b/abs_563lpxcne9/croot/queuelib_1696951148213/work\n",
            "regex @ file:///C:/b/abs_d5e2e5uqmr/croot/regex_1696515472506/work\n",
            "requests @ file:///C:/b/abs_316c2inijk/croot/requests_1690400295842/work\n",
            "requests-file @ file:///Users/ktietz/demo/mc3/conda-bld/requests-file_1629455781986/work\n",
            "requests-oauthlib==1.3.1\n",
            "requests-toolbelt @ file:///C:/b/abs_2fsmts66wp/croot/requests-toolbelt_1690874051210/work\n",
            "responses @ file:///tmp/build/80754af9/responses_1619800270522/work\n",
            "rfc3339-validator @ file:///C:/b/abs_ddfmseb_vm/croot/rfc3339-validator_1683077054906/work\n",
            "rfc3986-validator @ file:///C:/b/abs_6e9azihr8o/croot/rfc3986-validator_1683059049737/work\n",
            "rope @ file:///C:/ci_311/rope_1678402524346/work\n",
            "rsa==4.9\n",
            "Rtree @ file:///C:/ci_311/rtree_1676455758391/work\n",
            "ruamel-yaml-conda @ file:///C:/ci_311/ruamel_yaml_1676455799258/work\n",
            "ruamel.yaml @ file:///C:/ci_311/ruamel.yaml_1676439214109/work\n",
            "s3fs @ file:///C:/b/abs_adfhcfx438/croot/s3fs_1682551489845/work\n",
            "safetensors @ file:///C:/b/abs_a8nnkwknpv/croot/safetensors_1692949064285/work\n",
            "scikit-image @ file:///C:/b/abs_2075zg1pia/croot/scikit-image_1682528361447/work\n",
            "scikit-learn @ file:///C:/b/abs_55olq_4gzc/croot/scikit-learn_1690978955123/work\n",
            "scikit-learn-intelex==20230426.121932\n",
            "scipy==1.11.3\n",
            "Scrapy @ file:///C:/ci_311/scrapy_1678502587780/work\n",
            "seaborn @ file:///C:/ci_311/seaborn_1676446547861/work\n",
            "Send2Trash @ file:///tmp/build/80754af9/send2trash_1632406701022/work\n",
            "service-identity @ file:///Users/ktietz/demo/mc3/conda-bld/service_identity_1629460757137/work\n",
            "sip @ file:///C:/ci_311/sip_1676427825172/work\n",
            "six @ file:///tmp/build/80754af9/six_1644875935023/work\n",
            "smart-open @ file:///C:/ci_311/smart_open_1676439339434/work\n",
            "sniffio @ file:///C:/ci_311/sniffio_1676425339093/work\n",
            "snowballstemmer @ file:///tmp/build/80754af9/snowballstemmer_1637937080595/work\n",
            "sortedcontainers @ file:///tmp/build/80754af9/sortedcontainers_1623949099177/work\n",
            "soupsieve @ file:///C:/b/abs_bbsvy9t4pl/croot/soupsieve_1696347611357/work\n",
            "Sphinx @ file:///C:/ci_311/sphinx_1676434546244/work\n",
            "sphinxcontrib-applehelp @ file:///home/ktietz/src/ci/sphinxcontrib-applehelp_1611920841464/work\n",
            "sphinxcontrib-devhelp @ file:///home/ktietz/src/ci/sphinxcontrib-devhelp_1611920923094/work\n",
            "sphinxcontrib-htmlhelp @ file:///tmp/build/80754af9/sphinxcontrib-htmlhelp_1623945626792/work\n",
            "sphinxcontrib-jsmath @ file:///home/ktietz/src/ci/sphinxcontrib-jsmath_1611920942228/work\n",
            "sphinxcontrib-qthelp @ file:///home/ktietz/src/ci/sphinxcontrib-qthelp_1611921055322/work\n",
            "sphinxcontrib-serializinghtml @ file:///tmp/build/80754af9/sphinxcontrib-serializinghtml_1624451540180/work\n",
            "spyder @ file:///C:/b/abs_e99kl7d8t0/croot/spyder_1681934304813/work\n",
            "spyder-kernels @ file:///C:/b/abs_e788a8_4y9/croot/spyder-kernels_1691599588437/work\n",
            "SQLAlchemy @ file:///C:/b/abs_d3tao6jnck/croot/sqlalchemy_1695720955292/work\n",
            "stack-data @ file:///opt/conda/conda-bld/stack_data_1646927590127/work\n",
            "statsmodels @ file:///C:/b/abs_7bth810rna/croot/statsmodels_1689937298619/work\n",
            "sympy @ file:///C:/ci_311_rebuilds/sympy_1679009400182/work\n",
            "tables @ file:///C:/b/abs_0626auep9v/croot/pytables_1691623892917/work\n",
            "tabulate @ file:///C:/ci_311/tabulate_1676494503192/work\n",
            "TBB==0.2\n",
            "tblib @ file:///Users/ktietz/demo/mc3/conda-bld/tblib_1629402031467/work\n",
            "tenacity @ file:///C:/b/abs_ddkoa9nju6/croot/tenacity_1682972298929/work\n",
            "tensorboard==2.14.1\n",
            "tensorboard-data-server==0.7.1\n",
            "tensorflow==2.14.0\n",
            "tensorflow-estimator==2.14.0\n",
            "tensorflow-intel==2.14.0\n",
            "tensorflow-io-gcs-filesystem==0.31.0\n",
            "termcolor==2.3.0\n",
            "terminado @ file:///C:/ci_311/terminado_1678228513830/work\n",
            "text-unidecode @ file:///Users/ktietz/demo/mc3/conda-bld/text-unidecode_1629401354553/work\n",
            "textdistance @ file:///tmp/build/80754af9/textdistance_1612461398012/work\n",
            "threadpoolctl @ file:///Users/ktietz/demo/mc3/conda-bld/threadpoolctl_1629802263681/work\n",
            "three-merge @ file:///tmp/build/80754af9/three-merge_1607553261110/work\n",
            "tifffile @ file:///C:/b/abs_45o5chuqwt/croot/tifffile_1695107511025/work\n",
            "tinycss2 @ file:///C:/ci_311/tinycss2_1676425376744/work\n",
            "tldextract @ file:///opt/conda/conda-bld/tldextract_1646638314385/work\n",
            "tokenizers @ file:///C:/b/abs_f5dw_02o_w/croot/tokenizers_1696540928010/work\n",
            "toml @ file:///tmp/build/80754af9/toml_1616166611790/work\n",
            "tomlkit @ file:///C:/ci_311/tomlkit_1676425418821/work\n",
            "toolz @ file:///C:/ci_311/toolz_1676431406517/work\n",
            "tornado @ file:///C:/b/abs_0cbrstidzg/croot/tornado_1696937003724/work\n",
            "tqdm @ file:///C:/b/abs_f76j9hg7pv/croot/tqdm_1679561871187/work\n",
            "traitlets @ file:///C:/ci_311/traitlets_1676423290727/work\n",
            "transformers @ file:///C:/b/abs_375hgbdwge/croot/transformers_1693308365188/work\n",
            "truststore @ file:///C:/b/abs_55z7b3r045/croot/truststore_1695245455435/work\n",
            "Twisted @ file:///C:/b/abs_f1pc_rieoy/croot/twisted_1683796899561/work\n",
            "twisted-iocpsupport @ file:///C:/ci_311/twisted-iocpsupport_1676447612160/work\n",
            "typing_extensions @ file:///C:/b/abs_213vg2cd1l/croot/typing_extensions_1690297804941/work\n",
            "tzdata @ file:///croot/python-tzdata_1690578112552/work\n",
            "uc-micro-py @ file:///C:/ci_311/uc-micro-py_1676457695423/work\n",
            "ujson @ file:///C:/ci_311/ujson_1676434714224/work\n",
            "Unidecode @ file:///tmp/build/80754af9/unidecode_1614712377438/work\n",
            "urllib3 @ file:///C:/b/abs_889_loyqv4/croot/urllib3_1686163174463/work\n",
            "w3lib @ file:///Users/ktietz/demo/mc3/conda-bld/w3lib_1629359764703/work\n",
            "watchdog @ file:///C:/ci_311/watchdog_1676457923624/work\n",
            "wcwidth @ file:///Users/ktietz/demo/mc3/conda-bld/wcwidth_1629357192024/work\n",
            "webencodings==0.5.1\n",
            "websocket-client @ file:///C:/ci_311/websocket-client_1676426063281/work\n",
            "Werkzeug @ file:///C:/b/abs_8578rs2ra_/croot/werkzeug_1679489759009/work\n",
            "whatthepatch @ file:///C:/ci_311/whatthepatch_1678402578113/work\n",
            "widgetsnbextension @ file:///C:/b/abs_882k4_4kdf/croot/widgetsnbextension_1679313880295/work\n",
            "win-inet-pton @ file:///C:/ci_311/win_inet_pton_1676425458225/work\n",
            "wrapt @ file:///C:/ci_311/wrapt_1676432805090/work\n",
            "xarray @ file:///C:/b/abs_5bkjiynp4e/croot/xarray_1689041498548/work\n",
            "xlwings @ file:///C:/ci_311_rebuilds/xlwings_1679013429160/work\n",
            "xxhash @ file:///C:/ci_311/python-xxhash_1676446168786/work\n",
            "xyzservices @ file:///C:/ci_311/xyzservices_1676434829315/work\n",
            "y-py @ file:///C:/b/abs_b7f5go6r0j/croot/y-py_1683662173571/work\n",
            "yapf @ file:///tmp/build/80754af9/yapf_1615749224965/work\n",
            "yarl @ file:///C:/ci_311/yarl_1676432870023/work\n",
            "ypy-websocket @ file:///C:/b/abs_4e65ywlnv8/croot/ypy-websocket_1684172103529/work\n",
            "zict @ file:///C:/b/abs_780gyydtbp/croot/zict_1695832899404/work\n",
            "zipp @ file:///C:/ci_311/zipp_1676426100491/work\n",
            "zope.interface @ file:///C:/ci_311/zope.interface_1676439868776/work\n",
            "zstandard==0.19.0\n",
            "Note: you may need to restart the kernel to use updated packages.\n"
          ]
        }
      ],
      "source": [
        "pip freeze"
      ]
    },
    {
      "cell_type": "code",
      "execution_count": 68,
      "metadata": {
        "id": "76L_IBAfwr5y"
      },
      "outputs": [
        {
          "data": {
            "text/plain": [
              "'2.14.0'"
            ]
          },
          "execution_count": 68,
          "metadata": {},
          "output_type": "execute_result"
        }
      ],
      "source": [
        "#Importemos TensorFlow 2.X y Numpy\n",
        "# TensorFlow 2.X embebe Keras, por lo que no es necesario importarlo por separado\n",
        "import numpy as np\n",
        "import tensorflow as tf\n",
        "tf.__version__"
      ]
    },
    {
      "cell_type": "markdown",
      "metadata": {
        "id": "Cm6TBi8k8pnq"
      },
      "source": [
        "#### **- Cargando el conjunto de datos**"
      ]
    },
    {
      "cell_type": "code",
      "execution_count": 69,
      "metadata": {
        "id": "Q97EgDoewMWu"
      },
      "outputs": [
        {
          "name": "stdout",
          "output_type": "stream",
          "text": [
            "(60000, 28, 28)\n",
            "(60000,)\n",
            "(10000, 28, 28)\n",
            "(10000,)\n"
          ]
        }
      ],
      "source": [
        "# Importamos el dataset MNIST y cargamos los datos\n",
        "mnist = tf.keras.datasets.mnist #Con este comando estamos cargando el dataset MNIST en la variable mnist. MNIST es un dataset de imagenes de numeros escritos a mano, este dataset esta disponible en Keras y es muy utilizado para probar algoritmos de Deep Learning\n",
        "(x_train, y_train), (x_test, y_test) = mnist.load_data() #Cargamos los datos de entrenamiento y de testeo, el comando mnist.load_data() devuelve los datos de entrenamiento y de testeo en dos tuplas, la primera tupla contiene los datos de entrenamiento y la segunda tupla contiene los datos de testeo, cada tupla contiene dos arreglos, el primer arreglo contiene las imagenes y el segundo arreglo contiene las etiquetas de las imagenes\n",
        "print(x_train.shape) #Imprimimos la forma de los datos de entrenamiento\n",
        "print(y_train.shape) #Imprimimos la forma de los datos de testeo\n",
        "print(x_test.shape) #Imprimimos la forma de los datos de entrenamiento\n",
        "print(y_test.shape)    #Imprimimos la forma de los datos de testeo"
      ]
    },
    {
      "cell_type": "markdown",
      "metadata": {
        "id": "UHWTjTJe80h7"
      },
      "source": [
        "#### **- Inspeccionando el conjunto de datos**"
      ]
    },
    {
      "cell_type": "code",
      "execution_count": 70,
      "metadata": {
        "id": "yQydjXExS1hI"
      },
      "outputs": [
        {
          "data": {
            "image/png": "[encoded data removed]",
            "text/plain": [
              "<Figure size 640x480 with 1 Axes>"
            ]
          },
          "metadata": {},
          "output_type": "display_data"
        },
        {
          "data": {
            "image/png": "[encoded data removed]",
            "text/plain": [
              "<Figure size 640x480 with 1 Axes>"
            ]
          },
          "metadata": {},
          "output_type": "display_data"
        },
        {
          "data": {
            "image/png": "[encoded data removed]",
            "text/plain": [
              "<Figure size 640x480 with 1 Axes>"
            ]
          },
          "metadata": {},
          "output_type": "display_data"
        }
      ],
      "source": [
        "import matplotlib.pyplot as plt\n",
        "# Función auxiliar para visualizar datos de entrenamiento de manera aleatoria\n",
        "def display_digit(num):\n",
        "  # Seleccionar la imagen num de mnist.train.images y hacer un reshape al tamaño de la imagen\n",
        "  image = x_train[num,:,:]\n",
        "  # Seleccionar el target num de mnist.train.labels\n",
        "  label = y_train[num]\n",
        "  # Mostrar\n",
        "  plt.title('Example: %d  Label: %d' % (num, label))\n",
        "  plt.imshow(image, cmap=plt.get_cmap('gray_r'))\n",
        "  plt.show()\n",
        "\n",
        "# Mostramos algunos ejemplos\n",
        "display_digit(np.random.randint(0, x_train.shape[0]))\n",
        "display_digit(np.random.randint(0, x_train.shape[0]))\n",
        "display_digit(np.random.randint(0, x_train.shape[0]))"
      ]
    },
    {
      "cell_type": "markdown",
      "metadata": {
        "id": "meo3FjAr85We"
      },
      "source": [
        "#### **- Acondicionando el conjunto de datos**"
      ]
    },
    {
      "cell_type": "code",
      "execution_count": 71,
      "metadata": {
        "id": "PrtVcOxow_JA"
      },
      "outputs": [
        {
          "name": "stdout",
          "output_type": "stream",
          "text": [
            "(60000, 10)\n",
            "(54000, 10)\n"
          ]
        }
      ],
      "source": [
        "# Pre-procesado obligatorio cuando trabajo con redes neuronales\n",
        "from tensorflow.keras.utils import to_categorical\n",
        "from sklearn.model_selection import train_test_split\n",
        "\n",
        "x_train, x_te = x_train / 255.0, x_test / 255.0 #Cambio al rango 0-1 -> Disminuyo CC\n",
        "y_train = to_categorical(y_train, num_classes=10) #One-hot encoding para minimizar error\n",
        "print(y_train.shape)\n",
        "y_te = to_categorical(y_test, num_classes=10)\n",
        "x_tr, x_val, y_tr, y_val = train_test_split(x_train, y_train, test_size=0.1, random_state=42) # 3 subconjuntos es de vital importancia\n",
        "print(y_tr.shape)\n",
        "# print(y_tr[0])"
      ]
    },
    {
      "cell_type": "code",
      "execution_count": 72,
      "metadata": {
        "id": "erZKA-oWj85E"
      },
      "outputs": [
        {
          "name": "stdout",
          "output_type": "stream",
          "text": [
            "[0. 0. 0. 0. 1. 0. 0. 0. 0. 0.]\n"
          ]
        }
      ],
      "source": [
        "print(y_tr[5214])"
      ]
    },
    {
      "cell_type": "code",
      "execution_count": 73,
      "metadata": {
        "id": "q010WRGbLI5P"
      },
      "outputs": [
        {
          "name": "stdout",
          "output_type": "stream",
          "text": [
            "4\n"
          ]
        }
      ],
      "source": [
        "print(y_tr[5214].argmax(axis=0))"
      ]
    },
    {
      "cell_type": "markdown",
      "metadata": {
        "id": "YBO56FZh89P3"
      },
      "source": [
        "#### **- Creando la topología de Red Neuronal (MLP) y entrenándola**"
      ]
    },
    {
      "cell_type": "code",
      "execution_count": 74,
      "metadata": {
        "id": "7O8gSDXgyo4-"
      },
      "outputs": [],
      "source": [
        "# Voy a necesitar importar una serie de modulos para programar mi red neuronal\n",
        "from tensorflow.keras.models import Sequential  # Para crear modelos de redes neuronales secuenciales\n",
        "from tensorflow.keras.layers import Dense, Flatten # Para crear capas densas y capas de aplanamiento\n",
        "# Vamos a codificar la topología de nuestra primera red neuronal!!!\n",
        "model = Sequential() #Creo un modelo secuencial con Keras usando una variable vacia llamada model. Esto genera una estructura de tipo arbol donde se pueden ir agregando capas de manera secuencial\n",
        "model.add(Flatten(input_shape=(28,28))) #Agrego la primera capa de aplanamiento a mi modelo. Esta capa no tiene parametros, solo transforma la imagen de 28x28 a un vector de 784 elementos\n",
        "model.add(Dense(512, input_shape=(28*28,), activation=\"relu\")) #Agrego la segunda capa de 512 neuronas con activación relu. Esta capa tiene 401920 parametros (784*512 + 512)\n",
        "model.add(Dense(10, activation=\"softmax\")) #Capa salida -> Mismo número de neuronas que de clases objetivo\n",
        "\n",
        "# Ahí tenemos nuestro primer MLP con una única capa oculta de 512 neuronas"
      ]
    },
    {
      "cell_type": "code",
      "execution_count": 75,
      "metadata": {
        "id": "y0x4icp30SGE"
      },
      "outputs": [],
      "source": [
        "#Traigamos nuestro optimizador\n",
        "from tensorflow.keras.optimizers import SGD\n",
        "# Ahora que tengo definida la arquitectura, la compilo\n",
        "model.compile(loss=\"categorical_crossentropy\", optimizer=SGD(0.005), metrics=[\"accuracy\"])"
      ]
    },
    {
      "cell_type": "code",
      "execution_count": 76,
      "metadata": {
        "id": "YYBCKpA-x2oW"
      },
      "outputs": [
        {
          "name": "stdout",
          "output_type": "stream",
          "text": [
            "Model: \"sequential_8\"\n",
            "_________________________________________________________________\n",
            " Layer (type)                Output Shape              Param #   \n",
            "=================================================================\n",
            " flatten_4 (Flatten)         (None, 784)               0         \n",
            "                                                                 \n",
            " dense_20 (Dense)            (None, 512)               401920    \n",
            "                                                                 \n",
            " dense_21 (Dense)            (None, 10)                5130      \n",
            "                                                                 \n",
            "=================================================================\n",
            "Total params: 407050 (1.55 MB)\n",
            "Trainable params: 407050 (1.55 MB)\n",
            "Non-trainable params: 0 (0.00 Byte)\n",
            "_________________________________________________________________\n",
            "None\n"
          ]
        }
      ],
      "source": [
        "print(model.summary())"
      ]
    },
    {
      "cell_type": "code",
      "execution_count": 77,
      "metadata": {
        "id": "iSWwUUWM1W7a"
      },
      "outputs": [
        {
          "name": "stdout",
          "output_type": "stream",
          "text": [
            "[INFO]: Entrenando red neuronal...\n",
            "Epoch 1/50\n",
            "422/422 [==============================] - 2s 4ms/step - loss: 1.4670 - accuracy: 0.6864 - val_loss: 0.9633 - val_accuracy: 0.8167\n",
            "Epoch 2/50\n",
            "422/422 [==============================] - 1s 3ms/step - loss: 0.7694 - accuracy: 0.8444 - val_loss: 0.6480 - val_accuracy: 0.8573\n",
            "Epoch 3/50\n",
            "422/422 [==============================] - 1s 3ms/step - loss: 0.5786 - accuracy: 0.8666 - val_loss: 0.5296 - val_accuracy: 0.8757\n",
            "Epoch 4/50\n",
            "422/422 [==============================] - 1s 3ms/step - loss: 0.4949 - accuracy: 0.8783 - val_loss: 0.4683 - val_accuracy: 0.8845\n",
            "Epoch 5/50\n",
            "422/422 [==============================] - 1s 3ms/step - loss: 0.4471 - accuracy: 0.8864 - val_loss: 0.4294 - val_accuracy: 0.8898\n",
            "Epoch 6/50\n",
            "422/422 [==============================] - 1s 3ms/step - loss: 0.4156 - accuracy: 0.8917 - val_loss: 0.4021 - val_accuracy: 0.8938\n",
            "Epoch 7/50\n",
            "422/422 [==============================] - 2s 4ms/step - loss: 0.3927 - accuracy: 0.8962 - val_loss: 0.3821 - val_accuracy: 0.8963\n",
            "Epoch 8/50\n",
            "422/422 [==============================] - 1s 4ms/step - loss: 0.3751 - accuracy: 0.8993 - val_loss: 0.3664 - val_accuracy: 0.9008\n",
            "Epoch 9/50\n",
            "422/422 [==============================] - 1s 3ms/step - loss: 0.3610 - accuracy: 0.9022 - val_loss: 0.3533 - val_accuracy: 0.9038\n",
            "Epoch 10/50\n",
            "422/422 [==============================] - 1s 3ms/step - loss: 0.3493 - accuracy: 0.9049 - val_loss: 0.3435 - val_accuracy: 0.9055\n",
            "Epoch 11/50\n",
            "422/422 [==============================] - 1s 3ms/step - loss: 0.3394 - accuracy: 0.9071 - val_loss: 0.3336 - val_accuracy: 0.9092\n",
            "Epoch 12/50\n",
            "422/422 [==============================] - 1s 3ms/step - loss: 0.3307 - accuracy: 0.9088 - val_loss: 0.3256 - val_accuracy: 0.9122\n",
            "Epoch 13/50\n",
            "422/422 [==============================] - 1s 3ms/step - loss: 0.3231 - accuracy: 0.9110 - val_loss: 0.3178 - val_accuracy: 0.9135\n",
            "Epoch 14/50\n",
            "422/422 [==============================] - 1s 3ms/step - loss: 0.3161 - accuracy: 0.9124 - val_loss: 0.3114 - val_accuracy: 0.9140\n",
            "Epoch 15/50\n",
            "422/422 [==============================] - 2s 4ms/step - loss: 0.3097 - accuracy: 0.9140 - val_loss: 0.3054 - val_accuracy: 0.9177\n",
            "Epoch 16/50\n",
            "422/422 [==============================] - 1s 3ms/step - loss: 0.3038 - accuracy: 0.9154 - val_loss: 0.3002 - val_accuracy: 0.9178\n",
            "Epoch 17/50\n",
            "422/422 [==============================] - 1s 3ms/step - loss: 0.2984 - accuracy: 0.9173 - val_loss: 0.2944 - val_accuracy: 0.9203\n",
            "Epoch 18/50\n",
            "422/422 [==============================] - 1s 3ms/step - loss: 0.2934 - accuracy: 0.9188 - val_loss: 0.2895 - val_accuracy: 0.9205\n",
            "Epoch 19/50\n",
            "422/422 [==============================] - 2s 4ms/step - loss: 0.2885 - accuracy: 0.9203 - val_loss: 0.2855 - val_accuracy: 0.9228\n",
            "Epoch 20/50\n",
            "422/422 [==============================] - 2s 4ms/step - loss: 0.2841 - accuracy: 0.9213 - val_loss: 0.2810 - val_accuracy: 0.9215\n",
            "Epoch 21/50\n",
            "422/422 [==============================] - 2s 4ms/step - loss: 0.2797 - accuracy: 0.9226 - val_loss: 0.2769 - val_accuracy: 0.9235\n",
            "Epoch 22/50\n",
            "422/422 [==============================] - 1s 3ms/step - loss: 0.2756 - accuracy: 0.9240 - val_loss: 0.2731 - val_accuracy: 0.9243\n",
            "Epoch 23/50\n",
            "422/422 [==============================] - 2s 4ms/step - loss: 0.2717 - accuracy: 0.9251 - val_loss: 0.2693 - val_accuracy: 0.9253\n",
            "Epoch 24/50\n",
            "422/422 [==============================] - 2s 4ms/step - loss: 0.2679 - accuracy: 0.9258 - val_loss: 0.2657 - val_accuracy: 0.9277\n",
            "Epoch 25/50\n",
            "422/422 [==============================] - 2s 4ms/step - loss: 0.2642 - accuracy: 0.9270 - val_loss: 0.2625 - val_accuracy: 0.9285\n",
            "Epoch 26/50\n",
            "422/422 [==============================] - 2s 4ms/step - loss: 0.2608 - accuracy: 0.9282 - val_loss: 0.2592 - val_accuracy: 0.9297\n",
            "Epoch 27/50\n",
            "422/422 [==============================] - 2s 4ms/step - loss: 0.2574 - accuracy: 0.9291 - val_loss: 0.2564 - val_accuracy: 0.9305\n",
            "Epoch 28/50\n",
            "422/422 [==============================] - 2s 4ms/step - loss: 0.2542 - accuracy: 0.9301 - val_loss: 0.2530 - val_accuracy: 0.9313\n",
            "Epoch 29/50\n",
            "422/422 [==============================] - 2s 4ms/step - loss: 0.2510 - accuracy: 0.9306 - val_loss: 0.2500 - val_accuracy: 0.9322\n",
            "Epoch 30/50\n",
            "422/422 [==============================] - 2s 4ms/step - loss: 0.2479 - accuracy: 0.9317 - val_loss: 0.2470 - val_accuracy: 0.9337\n",
            "Epoch 31/50\n",
            "422/422 [==============================] - 1s 3ms/step - loss: 0.2449 - accuracy: 0.9328 - val_loss: 0.2442 - val_accuracy: 0.9338\n",
            "Epoch 32/50\n",
            "422/422 [==============================] - 2s 4ms/step - loss: 0.2420 - accuracy: 0.9335 - val_loss: 0.2423 - val_accuracy: 0.9347\n",
            "Epoch 33/50\n",
            "422/422 [==============================] - 1s 4ms/step - loss: 0.2392 - accuracy: 0.9344 - val_loss: 0.2392 - val_accuracy: 0.9347\n",
            "Epoch 34/50\n",
            "422/422 [==============================] - 2s 4ms/step - loss: 0.2364 - accuracy: 0.9348 - val_loss: 0.2370 - val_accuracy: 0.9365\n",
            "Epoch 35/50\n",
            "422/422 [==============================] - 2s 4ms/step - loss: 0.2338 - accuracy: 0.9356 - val_loss: 0.2341 - val_accuracy: 0.9363\n",
            "Epoch 36/50\n",
            "422/422 [==============================] - 2s 4ms/step - loss: 0.2311 - accuracy: 0.9364 - val_loss: 0.2314 - val_accuracy: 0.9373\n",
            "Epoch 37/50\n",
            "422/422 [==============================] - 2s 4ms/step - loss: 0.2286 - accuracy: 0.9367 - val_loss: 0.2297 - val_accuracy: 0.9382\n",
            "Epoch 38/50\n",
            "422/422 [==============================] - 2s 4ms/step - loss: 0.2261 - accuracy: 0.9376 - val_loss: 0.2271 - val_accuracy: 0.9377\n",
            "Epoch 39/50\n",
            "422/422 [==============================] - 1s 4ms/step - loss: 0.2236 - accuracy: 0.9386 - val_loss: 0.2249 - val_accuracy: 0.9390\n",
            "Epoch 40/50\n",
            "422/422 [==============================] - 2s 4ms/step - loss: 0.2213 - accuracy: 0.9389 - val_loss: 0.2228 - val_accuracy: 0.9398\n",
            "Epoch 41/50\n",
            "422/422 [==============================] - 2s 4ms/step - loss: 0.2189 - accuracy: 0.9399 - val_loss: 0.2209 - val_accuracy: 0.9405\n",
            "Epoch 42/50\n",
            "422/422 [==============================] - 2s 4ms/step - loss: 0.2167 - accuracy: 0.9404 - val_loss: 0.2192 - val_accuracy: 0.9417\n",
            "Epoch 43/50\n",
            "422/422 [==============================] - 2s 4ms/step - loss: 0.2144 - accuracy: 0.9413 - val_loss: 0.2163 - val_accuracy: 0.9412\n",
            "Epoch 44/50\n",
            "422/422 [==============================] - 1s 4ms/step - loss: 0.2122 - accuracy: 0.9421 - val_loss: 0.2146 - val_accuracy: 0.9418\n",
            "Epoch 45/50\n",
            "422/422 [==============================] - 1s 3ms/step - loss: 0.2101 - accuracy: 0.9428 - val_loss: 0.2128 - val_accuracy: 0.9425\n",
            "Epoch 46/50\n",
            "422/422 [==============================] - 1s 3ms/step - loss: 0.2079 - accuracy: 0.9435 - val_loss: 0.2107 - val_accuracy: 0.9422\n",
            "Epoch 47/50\n",
            "422/422 [==============================] - 1s 3ms/step - loss: 0.2059 - accuracy: 0.9440 - val_loss: 0.2090 - val_accuracy: 0.9427\n",
            "Epoch 48/50\n",
            "422/422 [==============================] - 1s 3ms/step - loss: 0.2038 - accuracy: 0.9444 - val_loss: 0.2068 - val_accuracy: 0.9432\n",
            "Epoch 49/50\n",
            "422/422 [==============================] - 1s 4ms/step - loss: 0.2018 - accuracy: 0.9448 - val_loss: 0.2052 - val_accuracy: 0.9435\n",
            "Epoch 50/50\n",
            "422/422 [==============================] - 1s 3ms/step - loss: 0.1999 - accuracy: 0.9456 - val_loss: 0.2036 - val_accuracy: 0.9442\n"
          ]
        }
      ],
      "source": [
        "# Por fin podemos entrenar nuestra primera red neuronal\n",
        "print(\"[INFO]: Entrenando red neuronal...\") #Imprimo en pantalla que voy a entrenar mi red neuronal\n",
        "H = model.fit(x_tr, y_tr, validation_data=(x_val, y_val), epochs=50, batch_size=128) #Entreno mi red neuronal con los datos de entrenamiento y de validación, durante 50 épocas, con un tamaño de batch de 128"
      ]
    },
    {
      "cell_type": "markdown",
      "metadata": {
        "id": "EtR8fpxq9JRG"
      },
      "source": [
        "#### **- Observando el proceso de entrenamiento para tomar decisiones**"
      ]
    },
    {
      "cell_type": "code",
      "execution_count": 78,
      "metadata": {
        "id": "R7OoJts-122A"
      },
      "outputs": [
        {
          "data": {
            "text/plain": [
              "<matplotlib.legend.Legend at 0x26388276b90>"
            ]
          },
          "execution_count": 78,
          "metadata": {},
          "output_type": "execute_result"
        },
        {
          "data": {
            "image/png": "[encoded data removed]",
            "text/plain": [
              "<Figure size 640x480 with 1 Axes>"
            ]
          },
          "metadata": {},
          "output_type": "display_data"
        }
      ],
      "source": [
        "# Muestro gráfica de accuracy y losses, siempre que hagamos un modelo de deep learning, debemos plotear estas gráficas para ver si el modelo esta aprendiendo o no\n",
        "plt.style.use(\"ggplot\") #Estilo de la gráfica\n",
        "plt.figure() #Creo una figura\n",
        "plt.plot(np.arange(0, 50), H.history[\"loss\"], label=\"train_loss\") #Grafico la pérdida de entrenamiento\n",
        "plt.plot(np.arange(0, 50), H.history[\"val_loss\"], label=\"val_loss\") #Grafico la pérdida de validación\n",
        "plt.plot(np.arange(0, 50), H.history[\"accuracy\"], label=\"train_acc\") #Grafico la precisión de entrenamiento\n",
        "plt.plot(np.arange(0, 50), H.history[\"val_accuracy\"], label=\"val_acc\") #Grafico la precisión de validación\n",
        "plt.title(\"Training Loss and Accuracy\") #Titulo de la gráfica\n",
        "plt.xlabel(\"Epoch #\") #Etiqueta del eje x\n",
        "plt.ylabel(\"Loss/Accuracy\") #Etiqueta del eje y\n",
        "plt.legend() #Muestro la leyenda"
      ]
    },
    {
      "cell_type": "markdown",
      "metadata": {
        "id": "7ll4EzHI9Of5"
      },
      "source": [
        "#### **- Probando el conjunto de datos en el subset de test y evaluando el performance del modelo**"
      ]
    },
    {
      "cell_type": "code",
      "execution_count": 79,
      "metadata": {
        "id": "7J38sfBN742h"
      },
      "outputs": [
        {
          "name": "stdout",
          "output_type": "stream",
          "text": [
            "[INFO]: Evaluando red neuronal...\n"
          ]
        },
        {
          "name": "stdout",
          "output_type": "stream",
          "text": [
            "79/79 [==============================] - 0s 3ms/step\n",
            "              precision    recall  f1-score   support\n",
            "\n",
            "           0       0.95      0.98      0.97       980\n",
            "           1       0.98      0.98      0.98      1135\n",
            "           2       0.95      0.93      0.94      1032\n",
            "           3       0.93      0.94      0.93      1010\n",
            "           4       0.94      0.95      0.94       982\n",
            "           5       0.94      0.92      0.93       892\n",
            "           6       0.95      0.95      0.95       958\n",
            "           7       0.95      0.93      0.94      1028\n",
            "           8       0.93      0.93      0.93       974\n",
            "           9       0.93      0.92      0.93      1009\n",
            "\n",
            "    accuracy                           0.94     10000\n",
            "   macro avg       0.94      0.94      0.94     10000\n",
            "weighted avg       0.94      0.94      0.94     10000\n",
            "\n"
          ]
        }
      ],
      "source": [
        "from sklearn.metrics import classification_report\n",
        "# Evaluando el modelo de predicción con las imágenes de test\n",
        "print(\"[INFO]: Evaluando red neuronal...\")\n",
        "predictions = model.predict(x_te, batch_size=128)\n",
        "#print(y_te[0])\n",
        "#print(predictions[0])\n",
        "print(classification_report(y_te.argmax(axis=1), predictions.argmax(axis=1)))"
      ]
    },
    {
      "cell_type": "code",
      "execution_count": 80,
      "metadata": {
        "id": "H9oFBRUQ0rsF"
      },
      "outputs": [
        {
          "data": {
            "text/plain": [
              "7"
            ]
          },
          "execution_count": 80,
          "metadata": {},
          "output_type": "execute_result"
        }
      ],
      "source": [
        "predictions[0].argmax(axis=0)"
      ]
    },
    {
      "cell_type": "code",
      "execution_count": 81,
      "metadata": {
        "id": "u0rEj7Vx09sc"
      },
      "outputs": [
        {
          "data": {
            "text/plain": [
              "7"
            ]
          },
          "execution_count": 81,
          "metadata": {},
          "output_type": "execute_result"
        }
      ],
      "source": [
        "y_te[0].argmax(axis=0)"
      ]
    },
    {
      "cell_type": "code",
      "execution_count": 82,
      "metadata": {
        "id": "jnH0BudjoWag"
      },
      "outputs": [
        {
          "name": "stdout",
          "output_type": "stream",
          "text": [
            "Model: \"sequential_8\"\n",
            "_________________________________________________________________\n",
            " Layer (type)                Output Shape              Param #   \n",
            "=================================================================\n",
            " flatten_4 (Flatten)         (None, 784)               0         \n",
            "                                                                 \n",
            " dense_20 (Dense)            (None, 512)               401920    \n",
            "                                                                 \n",
            " dense_21 (Dense)            (None, 10)                5130      \n",
            "                                                                 \n",
            "=================================================================\n",
            "Total params: 407050 (1.55 MB)\n",
            "Trainable params: 407050 (1.55 MB)\n",
            "Non-trainable params: 0 (0.00 Byte)\n",
            "_________________________________________________________________\n",
            "None\n"
          ]
        }
      ],
      "source": [
        "print(model.summary())"
      ]
    },
    {
      "cell_type": "markdown",
      "metadata": {
        "id": "zQ5iYaP4-TdJ"
      },
      "source": [
        "--------------------------------------------------------------------------"
      ]
    },
    {
      "cell_type": "markdown",
      "metadata": {
        "id": "gkAfYEmB-KGU"
      },
      "source": [
        "## **MLP APLICADO A TEXTO: EJEMPLO REUTERS**"
      ]
    },
    {
      "cell_type": "markdown",
      "metadata": {
        "id": "rtdAIq1JQPNA"
      },
      "source": [
        "#### **- Cargando el conjunto de datos**"
      ]
    },
    {
      "cell_type": "code",
      "execution_count": 83,
      "metadata": {
        "id": "2mHvSYFm-Sp_"
      },
      "outputs": [
        {
          "name": "stdout",
          "output_type": "stream",
          "text": [
            "(8982,)\n",
            "(8982,)\n",
            "(2246,)\n",
            "(2246,)\n"
          ]
        }
      ],
      "source": [
        "import numpy as np\n",
        "import tensorflow as tf\n",
        "# Importamos el dataset REUTERS y cargamos los datos\n",
        "reuters = tf.keras.datasets.reuters\n",
        "WORD_LIMIT = 10000\n",
        "(training_data, training_labels), (testing_data, testing_labels) = reuters.load_data(num_words=WORD_LIMIT)\n",
        "print(training_data.shape)\n",
        "print(training_labels.shape)\n",
        "print(testing_data.shape)\n",
        "print(testing_labels.shape)"
      ]
    },
    {
      "cell_type": "markdown",
      "metadata": {
        "id": "426afMQqQUxn"
      },
      "source": [
        "#### **- Inspeccionando el conjunto de datos**"
      ]
    },
    {
      "cell_type": "code",
      "execution_count": 84,
      "metadata": {
        "id": "Ab4lT3HI-reW"
      },
      "outputs": [
        {
          "data": {
            "text/plain": [
              "\"? the u s agriculture department estimated canada's 1986 87 wheat crop at 31 85 mln tonnes vs 31 85 mln tonnes last month it estimated 1985 86 output at 24 25 mln tonnes vs 24 25 mln last month canadian 1986 87 coarse grain production is projected at 27 62 mln tonnes vs 27 62 mln tonnes last month production in 1985 86 is estimated at 24 95 mln tonnes vs 24 95 mln last month canadian wheat exports in 1986 87 are forecast at 19 00 mln tonnes vs 18 00 mln tonnes last month exports in 1985 86 are estimated at 17 71 mln tonnes vs 17 72 mln last month reuter 3\""
            ]
          },
          "execution_count": 84,
          "metadata": {},
          "output_type": "execute_result"
        }
      ],
      "source": [
        "# Los datos son numericos para decodificarlos, se puede usar reuters.get_word_index()\n",
        "word_index = reuters.get_word_index()\n",
        "reverse_word_index = dict({value : key for key, value in word_index.items()})\n",
        "decoded = ' '.join(\n",
        "    [reverse_word_index.get(i-3,'?') for i in training_data[5]]\n",
        ")\n",
        "decoded"
      ]
    },
    {
      "cell_type": "markdown",
      "metadata": {
        "id": "Hl1Ke92bQiI2"
      },
      "source": [
        "#### **- Acondicionando el conjunto de datos**"
      ]
    },
    {
      "cell_type": "code",
      "execution_count": 85,
      "metadata": {
        "id": "I5ojr41ZAE6G"
      },
      "outputs": [],
      "source": [
        "# Función auxiliar para representar las palabras (que no entiende nuestra red neuronal) en números\n",
        "import numpy as np\n",
        "# one hot encoding del input, vector con cada indice indicando si una palabra esta presente\n",
        "def one_hot_encode(data): #Función auxiliar para hacer one-hot encoding de los datos de entrada\n",
        "    encoded = np.zeros((len(data),WORD_LIMIT)) #Creo un arreglo de ceros de tamaño len(data) x WORD_LIMIT\n",
        "    for i, v in enumerate(data): #Itero sobre los datos de entrada\n",
        "        encoded[i,v] = 1 # localiza las columnas del genero correspondiente, marca con 1\n",
        "    return encoded #Devuelvo el arreglo de one-hot encoding"
      ]
    },
    {
      "cell_type": "code",
      "execution_count": 86,
      "metadata": {
        "id": "4wubOmYpBgAY"
      },
      "outputs": [
        {
          "name": "stdout",
          "output_type": "stream",
          "text": [
            "(8982, 10000)\n",
            "(2246, 10000)\n"
          ]
        }
      ],
      "source": [
        "# Convertimos nuestras palabras a números\n",
        "x_train = one_hot_encode(training_data) #Aplico one-hot encoding a los datos de entrenamiento \n",
        "x_test = one_hot_encode(testing_data)   #Aplico one-hot encoding a los datos de testeo\n",
        "print(x_train.shape)    #Imprimo la forma de los datos de entrenamiento (tamaño de la matriz)\n",
        "print(x_test.shape)    #Imprimo la forma de los datos de testeo (tamaño de la matriz)"
      ]
    },
    {
      "cell_type": "code",
      "execution_count": 87,
      "metadata": {
        "colab": {
          "base_uri": "https://localhost:8080/"
        },
        "id": "_fdTGJavvsv-",
        "outputId": "0751ebaf-9fe7-4eb4-f068-cd0786728971"
      },
      "outputs": [
        {
          "name": "stdout",
          "output_type": "stream",
          "text": [
            "[0. 1. 1. ... 0. 0. 0.]\n"
          ]
        }
      ],
      "source": [
        "print(x_test[3])    #Imprimo el one-hot encoding de la cuarta noticia de testeo"
      ]
    },
    {
      "cell_type": "code",
      "execution_count": 88,
      "metadata": {
        "id": "dliil59FByFv"
      },
      "outputs": [
        {
          "name": "stdout",
          "output_type": "stream",
          "text": [
            "(8982, 46)\n",
            "(2246, 46)\n"
          ]
        }
      ],
      "source": [
        "# Convertimos nuestros labels (categoría reseña) a one-hot encoding\n",
        "from tensorflow.keras.utils import to_categorical #Importo la función to_categorical de Keras\n",
        "y_train = to_categorical(training_labels) #Aplico one-hot encoding a los labels de entrenamiento\n",
        "y_test = to_categorical(testing_labels) #Aplico one-hot encoding a los labels de testeo\n",
        "print(y_train.shape)    #Imprimo la forma de los labels de entrenamiento (tamaño de la matriz)\n",
        "print(y_test.shape)   #Imprimo la forma de los labels de testeo (tamaño de la matriz)"
      ]
    },
    {
      "cell_type": "code",
      "execution_count": 89,
      "metadata": {
        "id": "G0SGmbI7uYlx"
      },
      "outputs": [
        {
          "name": "stdout",
          "output_type": "stream",
          "text": [
            "[0. 0. 0. 0. 1. 0. 0. 0. 0. 0. 0. 0. 0. 0. 0. 0. 0. 0. 0. 0. 0. 0. 0. 0.\n",
            " 0. 0. 0. 0. 0. 0. 0. 0. 0. 0. 0. 0. 0. 0. 0. 0. 0. 0. 0. 0. 0. 0.]\n"
          ]
        }
      ],
      "source": [
        "print(y_test[3])   #Imprimo el one-hot encoding del label de la cuarta noticia de testeo"
      ]
    },
    {
      "cell_type": "markdown",
      "metadata": {
        "id": "qf2H-OHKQrGN"
      },
      "source": [
        "#### **- Creando la topología de Red Neuronal (MLP) y entrenándola**"
      ]
    },
    {
      "cell_type": "code",
      "execution_count": 90,
      "metadata": {
        "id": "QSR1GEq0_Ebm"
      },
      "outputs": [],
      "source": [
        "from tensorflow.keras.models import Sequential # Para crear modelos de redes neuronales secuenciales\n",
        "from tensorflow.keras.layers import Dense # Para crear capas densas\n",
        "# Vamos a codificar la topología de nuestro MLP\n",
        "model = Sequential() #Creo un modelo secuencial con Keras usando una variable vacia llamada model. Esto genera una estructura de tipo arbol donde se pueden ir agregando capas de manera secuencial\n",
        "model.add(Dense(128,activation='relu',input_shape=(WORD_LIMIT,))) #Agrego la primera capa de 128 neuronas con activación relu. Esta capa tiene 128*10000 + 128 = 128128 parametros\n",
        "model.add(Dense(64,activation='relu')) #Agrego la segunda capa de 64 neuronas con activación relu. Esta capa tiene 8256 parametros\n",
        "model.add(Dense(46,activation='softmax')) # Reparto de la unidad de probabilidad entre num_classes"
      ]
    },
    {
      "cell_type": "code",
      "execution_count": 91,
      "metadata": {
        "id": "POnCbSEzCI7o"
      },
      "outputs": [],
      "source": [
        "# Ahora que tengo definida la arquitectura, la compilo\n",
        "model.compile(optimizer='adam', #Optimizador Adam -> Ideal para clasificación multiclase\n",
        "               loss='categorical_crossentropy', # Función de pérdida categorical_crossentropy \n",
        "               metrics=['accuracy']) #Métrica de precisión "
      ]
    },
    {
      "cell_type": "code",
      "execution_count": 92,
      "metadata": {
        "id": "VZBvK2HjDCaZ"
      },
      "outputs": [
        {
          "name": "stdout",
          "output_type": "stream",
          "text": [
            "Epoch 1/20\n",
            "225/225 [==============================] - 3s 10ms/step - loss: 1.5198 - accuracy: 0.6693 - val_loss: 1.0296 - val_accuracy: 0.7785\n",
            "Epoch 2/20\n",
            "225/225 [==============================] - 2s 8ms/step - loss: 0.6011 - accuracy: 0.8678 - val_loss: 0.8630 - val_accuracy: 0.8175\n",
            "Epoch 3/20\n",
            "225/225 [==============================] - 2s 9ms/step - loss: 0.2888 - accuracy: 0.9379 - val_loss: 0.9250 - val_accuracy: 0.8058\n",
            "Epoch 4/20\n",
            "225/225 [==============================] - 2s 9ms/step - loss: 0.2013 - accuracy: 0.9549 - val_loss: 0.9371 - val_accuracy: 0.8030\n",
            "Epoch 5/20\n",
            "225/225 [==============================] - 2s 9ms/step - loss: 0.1686 - accuracy: 0.9566 - val_loss: 0.9261 - val_accuracy: 0.8114\n",
            "Epoch 6/20\n",
            "225/225 [==============================] - 2s 9ms/step - loss: 0.1433 - accuracy: 0.9585 - val_loss: 0.9903 - val_accuracy: 0.8058\n",
            "Epoch 7/20\n",
            "225/225 [==============================] - 2s 9ms/step - loss: 0.1319 - accuracy: 0.9589 - val_loss: 1.0227 - val_accuracy: 0.7908\n",
            "Epoch 8/20\n",
            "225/225 [==============================] - 2s 9ms/step - loss: 0.1239 - accuracy: 0.9592 - val_loss: 1.0135 - val_accuracy: 0.7997\n",
            "Epoch 9/20\n",
            "225/225 [==============================] - 2s 9ms/step - loss: 0.1183 - accuracy: 0.9588 - val_loss: 0.9828 - val_accuracy: 0.8036\n",
            "Epoch 10/20\n",
            "225/225 [==============================] - 2s 9ms/step - loss: 0.1030 - accuracy: 0.9617 - val_loss: 1.0914 - val_accuracy: 0.8008\n",
            "Epoch 11/20\n",
            "225/225 [==============================] - 2s 9ms/step - loss: 0.1035 - accuracy: 0.9606 - val_loss: 1.0761 - val_accuracy: 0.7997\n",
            "Epoch 12/20\n",
            "225/225 [==============================] - 2s 9ms/step - loss: 0.0979 - accuracy: 0.9621 - val_loss: 1.1336 - val_accuracy: 0.7969\n",
            "Epoch 13/20\n",
            "225/225 [==============================] - 2s 9ms/step - loss: 0.0960 - accuracy: 0.9603 - val_loss: 1.0826 - val_accuracy: 0.7941\n",
            "Epoch 14/20\n",
            "225/225 [==============================] - 2s 9ms/step - loss: 0.0951 - accuracy: 0.9589 - val_loss: 1.0971 - val_accuracy: 0.8019\n",
            "Epoch 15/20\n",
            "225/225 [==============================] - 2s 9ms/step - loss: 0.0860 - accuracy: 0.9644 - val_loss: 1.0704 - val_accuracy: 0.7952\n",
            "Epoch 16/20\n",
            "225/225 [==============================] - 2s 9ms/step - loss: 0.0840 - accuracy: 0.9609 - val_loss: 1.1178 - val_accuracy: 0.8075\n",
            "Epoch 17/20\n",
            "225/225 [==============================] - 2s 9ms/step - loss: 0.0815 - accuracy: 0.9606 - val_loss: 1.2102 - val_accuracy: 0.7924\n",
            "Epoch 18/20\n",
            "225/225 [==============================] - 2s 9ms/step - loss: 0.0795 - accuracy: 0.9637 - val_loss: 1.1322 - val_accuracy: 0.8024\n",
            "Epoch 19/20\n",
            "225/225 [==============================] - 2s 9ms/step - loss: 0.0767 - accuracy: 0.9626 - val_loss: 1.2446 - val_accuracy: 0.7969\n",
            "Epoch 20/20\n",
            "225/225 [==============================] - 2s 9ms/step - loss: 0.0775 - accuracy: 0.9613 - val_loss: 1.1447 - val_accuracy: 0.7997\n"
          ]
        }
      ],
      "source": [
        "# A entrenar nuestra red neuronal sea dicho!\n",
        "H = model.fit(x_train,y_train,epochs=20,batch_size=32, validation_split=0.2)"
      ]
    },
    {
      "cell_type": "markdown",
      "metadata": {
        "id": "0WZi4xSxQwGR"
      },
      "source": [
        "#### **- Observando el proceso de entrenamiento para tomar decisiones**"
      ]
    },
    {
      "cell_type": "code",
      "execution_count": 93,
      "metadata": {
        "id": "0dlv_bkZDVJ7"
      },
      "outputs": [
        {
          "data": {
            "text/plain": [
              "<matplotlib.legend.Legend at 0x2638181dfd0>"
            ]
          },
          "execution_count": 93,
          "metadata": {},
          "output_type": "execute_result"
        },
        {
          "data": {
            "image/png": "[encoded data removed]",
            "text/plain": [
              "<Figure size 640x480 with 1 Axes>"
            ]
          },
          "metadata": {},
          "output_type": "display_data"
        }
      ],
      "source": [
        "import matplotlib.pyplot as plt\n",
        "# Muestro gráfica de accuracy y losses\n",
        "plt.style.use(\"ggplot\") \n",
        "plt.figure()\n",
        "plt.plot(np.arange(0, 20), H.history[\"loss\"], label=\"train_loss\")\n",
        "plt.plot(np.arange(0, 20), H.history[\"val_loss\"], label=\"val_loss\")\n",
        "plt.plot(np.arange(0, 20), H.history[\"accuracy\"], label=\"train_acc\")\n",
        "plt.plot(np.arange(0, 20), H.history[\"val_accuracy\"], label=\"val_acc\")\n",
        "plt.title(\"Training Loss and Accuracy\")\n",
        "plt.xlabel(\"Epoch #\")\n",
        "plt.ylabel(\"Loss/Accuracy\")\n",
        "plt.legend()"
      ]
    },
    {
      "cell_type": "markdown",
      "metadata": {
        "id": "c51cfGAQQ2cR"
      },
      "source": [
        "#### **- Probando el conjunto de datos en el subset de test y evaluando el performance del modelo**"
      ]
    },
    {
      "cell_type": "code",
      "execution_count": 94,
      "metadata": {
        "id": "xVS5SAU5DlHP"
      },
      "outputs": [
        {
          "name": "stdout",
          "output_type": "stream",
          "text": [
            "[INFO]: Evaluando red neuronal...\n",
            "71/71 [==============================] - 0s 1ms/step\n",
            "71/71 [==============================] - 0s 2ms/step - loss: 1.2391 - accuracy: 0.7858\n",
            "Loss 1.239139199256897, accuracy 0.7858415246009827\n"
          ]
        }
      ],
      "source": [
        "# Evaluando el modelo de predicción con las imágenes de test\n",
        "print(\"[INFO]: Evaluando red neuronal...\") #Imprimo en pantalla que voy a evaluar mi red neuronal\n",
        "model.predict(x_test) #Predigo las clases de las imágenes de testeo\n",
        "loss, accuracy = model.evaluate(x_test, y_test) #Evalúo el modelo con los datos de testeo\n",
        "print('Loss {}, accuracy {}'.format(loss,accuracy)) #Imprimo la pérdida y la precisión del modelo"
      ]
    },
    {
      "cell_type": "markdown",
      "metadata": {
        "id": "s8kmri-kUYgx"
      },
      "source": [
        "## **REGULARIZACIÓN EN APRENDIZAJE PROFUNDO**"
      ]
    },
    {
      "cell_type": "markdown",
      "metadata": {
        "id": "aqDYEumsUuNU"
      },
      "source": [
        "#### **- Weight regularization L1/L2**"
      ]
    },
    {
      "cell_type": "code",
      "execution_count": 95,
      "metadata": {
        "id": "BF2YYooRUNph"
      },
      "outputs": [],
      "source": [
        "from tensorflow.keras.models import Sequential # Para crear modelos de redes neuronales secuenciales\n",
        "from tensorflow.keras.layers import Dense # Para crear capas densas \n",
        "from tensorflow.keras import regularizers # Para regularización L2\n",
        "# Vamos a codificar la topología de nuestro MLP\n",
        "model_reg = Sequential() #Creo un modelo secuencial con Keras usando una variable vacia llamada model. Esto genera una estructura de tipo arbol donde se pueden ir agregando capas de manera secuencial\n",
        "model_reg.add(Dense(128,activation='relu', kernel_regularizer=regularizers.l2(0.01), input_shape=(WORD_LIMIT,))) #Agrego la primera capa de 128 neuronas con activación relu. Esta capa tiene 128*10000 + 128 = 128128 parametros\n",
        "model_reg.add(Dense(64,activation='relu', kernel_regularizer=regularizers.l2(0.01))) #Agrego la segunda capa de 64 neuronas con activación relu. Esta capa tiene 8256 parametros\n",
        "model_reg.add(Dense(46,activation='softmax')) # Reparto de la unidad de probabilidad entre num_classes"
      ]
    },
    {
      "cell_type": "code",
      "execution_count": 96,
      "metadata": {
        "id": "KYeK7jwxVSF3"
      },
      "outputs": [],
      "source": [
        "# Ahora que tengo definida la arquitectura, la compilo\n",
        "model_reg.compile(optimizer='adam', \n",
        "               loss='categorical_crossentropy', # ideal para clasificacion multiclase\n",
        "               metrics=['accuracy'])"
      ]
    },
    {
      "cell_type": "code",
      "execution_count": 97,
      "metadata": {
        "id": "gWE7GTTmVdP0"
      },
      "outputs": [
        {
          "name": "stdout",
          "output_type": "stream",
          "text": [
            "Epoch 1/20\n",
            "225/225 [==============================] - 3s 10ms/step - loss: 2.4005 - accuracy: 0.6490 - val_loss: 1.7993 - val_accuracy: 0.7112\n",
            "Epoch 2/20\n",
            "225/225 [==============================] - 2s 10ms/step - loss: 1.7052 - accuracy: 0.7354 - val_loss: 1.6781 - val_accuracy: 0.7373\n",
            "Epoch 3/20\n",
            "225/225 [==============================] - 2s 10ms/step - loss: 1.5961 - accuracy: 0.7530 - val_loss: 1.6336 - val_accuracy: 0.7457\n",
            "Epoch 4/20\n",
            "225/225 [==============================] - 2s 10ms/step - loss: 1.5363 - accuracy: 0.7663 - val_loss: 1.5927 - val_accuracy: 0.7652\n",
            "Epoch 5/20\n",
            "225/225 [==============================] - 2s 10ms/step - loss: 1.5000 - accuracy: 0.7752 - val_loss: 1.5940 - val_accuracy: 0.7540\n",
            "Epoch 6/20\n",
            "225/225 [==============================] - 2s 10ms/step - loss: 1.4731 - accuracy: 0.7805 - val_loss: 1.5896 - val_accuracy: 0.7635\n",
            "Epoch 7/20\n",
            "225/225 [==============================] - 2s 10ms/step - loss: 1.4425 - accuracy: 0.7861 - val_loss: 1.5930 - val_accuracy: 0.7618\n",
            "Epoch 8/20\n",
            "225/225 [==============================] - 2s 10ms/step - loss: 1.4113 - accuracy: 0.7937 - val_loss: 1.5533 - val_accuracy: 0.7668\n",
            "Epoch 9/20\n",
            "225/225 [==============================] - 2s 10ms/step - loss: 1.3799 - accuracy: 0.7982 - val_loss: 1.5041 - val_accuracy: 0.7757\n",
            "Epoch 10/20\n",
            "225/225 [==============================] - 2s 10ms/step - loss: 1.3464 - accuracy: 0.8006 - val_loss: 1.5289 - val_accuracy: 0.7524\n",
            "Epoch 11/20\n",
            "225/225 [==============================] - 2s 10ms/step - loss: 1.3165 - accuracy: 0.8097 - val_loss: 1.4969 - val_accuracy: 0.7746\n",
            "Epoch 12/20\n",
            "225/225 [==============================] - 2s 10ms/step - loss: 1.3003 - accuracy: 0.8120 - val_loss: 1.4914 - val_accuracy: 0.7668\n",
            "Epoch 13/20\n",
            "225/225 [==============================] - 2s 10ms/step - loss: 1.2706 - accuracy: 0.8161 - val_loss: 1.4773 - val_accuracy: 0.7657\n",
            "Epoch 14/20\n",
            "225/225 [==============================] - 2s 10ms/step - loss: 1.2432 - accuracy: 0.8249 - val_loss: 1.4767 - val_accuracy: 0.7769\n",
            "Epoch 15/20\n",
            "225/225 [==============================] - 2s 10ms/step - loss: 1.2291 - accuracy: 0.8246 - val_loss: 1.4342 - val_accuracy: 0.7785\n",
            "Epoch 16/20\n",
            "225/225 [==============================] - 2s 10ms/step - loss: 1.1960 - accuracy: 0.8278 - val_loss: 1.4391 - val_accuracy: 0.7813\n",
            "Epoch 17/20\n",
            "225/225 [==============================] - 2s 10ms/step - loss: 1.1689 - accuracy: 0.8348 - val_loss: 1.4338 - val_accuracy: 0.7858\n",
            "Epoch 18/20\n",
            "225/225 [==============================] - 2s 10ms/step - loss: 1.1623 - accuracy: 0.8345 - val_loss: 1.4350 - val_accuracy: 0.7807\n",
            "Epoch 19/20\n",
            "225/225 [==============================] - 2s 10ms/step - loss: 1.1256 - accuracy: 0.8412 - val_loss: 1.4400 - val_accuracy: 0.7696\n",
            "Epoch 20/20\n",
            "225/225 [==============================] - 2s 10ms/step - loss: 1.1173 - accuracy: 0.8426 - val_loss: 1.4226 - val_accuracy: 0.7885\n"
          ]
        }
      ],
      "source": [
        "# A entrenar nuestra red neuronal sea dicho!\n",
        "H = model_reg.fit(x_train,y_train,epochs=20,batch_size=32, validation_split=0.2)"
      ]
    },
    {
      "cell_type": "code",
      "execution_count": 98,
      "metadata": {
        "id": "iJvo8YVvVowt"
      },
      "outputs": [
        {
          "data": {
            "text/plain": [
              "<matplotlib.legend.Legend at 0x263b0855750>"
            ]
          },
          "execution_count": 98,
          "metadata": {},
          "output_type": "execute_result"
        },
        {
          "data": {
            "image/png": "[encoded data removed]",
            "text/plain": [
              "<Figure size 640x480 with 1 Axes>"
            ]
          },
          "metadata": {},
          "output_type": "display_data"
        }
      ],
      "source": [
        "import matplotlib.pyplot as plt\n",
        "# Muestro gráfica de accuracy y losses\n",
        "plt.style.use(\"ggplot\")\n",
        "plt.figure()\n",
        "plt.plot(np.arange(0, 20), H.history[\"loss\"], label=\"train_loss\")\n",
        "plt.plot(np.arange(0, 20), H.history[\"val_loss\"], label=\"val_loss\")\n",
        "plt.plot(np.arange(0, 20), H.history[\"accuracy\"], label=\"train_acc\")\n",
        "plt.plot(np.arange(0, 20), H.history[\"val_accuracy\"], label=\"val_acc\")\n",
        "plt.title(\"Training Loss and Accuracy\")\n",
        "plt.xlabel(\"Epoch #\")\n",
        "plt.ylabel(\"Loss/Accuracy\")\n",
        "plt.legend()"
      ]
    },
    {
      "cell_type": "code",
      "execution_count": 99,
      "metadata": {
        "id": "h_68GciZWEml"
      },
      "outputs": [
        {
          "name": "stdout",
          "output_type": "stream",
          "text": [
            "[INFO]: Evaluando red neuronal...\n",
            "71/71 [==============================] - 0s 4ms/step\n",
            "71/71 [==============================] - 0s 2ms/step - loss: 1.4650 - accuracy: 0.7654\n",
            "Loss 1.4649873971939087, accuracy 0.7653606534004211\n"
          ]
        }
      ],
      "source": [
        "# Evaluando el modelo de predicción con las imágenes de test\n",
        "print(\"[INFO]: Evaluando red neuronal...\") #Imprimo en pantalla que voy a evaluar mi red neuronal\n",
        "model_reg.predict(x_test) #Predigo las clases de las imágenes de testeo\n",
        "loss, accuracy = model_reg.evaluate(x_test, y_test) #Evalúo el modelo con los datos de testeo\n",
        "print('Loss {}, accuracy {}'.format(loss,accuracy)) #Imprimo la pérdida y la precisión del modelo"
      ]
    },
    {
      "cell_type": "markdown",
      "metadata": {
        "id": "FKflRMxEWQ3Z"
      },
      "source": [
        "#### **- Dropout**"
      ]
    },
    {
      "cell_type": "code",
      "execution_count": 100,
      "metadata": {
        "id": "iRcnwjCCWVcW"
      },
      "outputs": [],
      "source": [
        "from tensorflow.keras.models import Sequential # Para crear modelos de redes neuronales secuenciales\n",
        "from tensorflow.keras.layers import Dense, Dropout # Para crear capas densas y capas de dropout \n",
        "# Vamos a codificar la topología de nuestro MLP\n",
        "model_drop = Sequential() #Creo un modelo secuencial con Keras usando una variable vacia llamada model. Esto genera una estructura de tipo arbol donde se pueden ir agregando capas de manera secuencial\n",
        "model_drop.add(Dense(128,activation='relu', input_shape=(WORD_LIMIT,))) #Agrego la primera capa de 128 neuronas con activación relu. Esta capa tiene 128*10000 + 128 = 128128 parametros\n",
        "#model_drop.add(Dropout(0.5))\n",
        "model_drop.add(Dropout(0.75)) #Agrego una capa de dropout con probabilidad de dropout de 0.75 \n",
        "model_drop.add(Dense(64,activation='relu')) #Agrego la segunda capa de 64 neuronas con activación relu. Esta capa tiene 8256 parametros\n",
        "#model_drop.add(Dropout(0.5))\n",
        "model_drop.add(Dropout(0.75)) #Agrego otra capa de dropout con probabilidad de dropout de 0.75\n",
        "model_drop.add(Dense(46,activation='softmax')) # Reparto de la unidad de probabilidad entre num_classes"
      ]
    },
    {
      "cell_type": "code",
      "execution_count": 101,
      "metadata": {
        "id": "6K_X-SnoWnqL"
      },
      "outputs": [],
      "source": [
        "# Ahora que tengo definida la arquitectura, la compilo\n",
        "model_drop.compile(optimizer='adam',\n",
        "               loss='categorical_crossentropy', # ideal para clasificacion multiclase\n",
        "               metrics=['accuracy'])"
      ]
    },
    {
      "cell_type": "code",
      "execution_count": 102,
      "metadata": {
        "id": "5GSMILsYWsT8"
      },
      "outputs": [
        {
          "name": "stdout",
          "output_type": "stream",
          "text": [
            "Epoch 1/20\n",
            "225/225 [==============================] - 3s 10ms/step - loss: 2.4996 - accuracy: 0.3957 - val_loss: 1.6511 - val_accuracy: 0.5804\n",
            "Epoch 2/20\n",
            "225/225 [==============================] - 2s 9ms/step - loss: 1.8286 - accuracy: 0.5477 - val_loss: 1.4862 - val_accuracy: 0.6811\n",
            "Epoch 3/20\n",
            "225/225 [==============================] - 2s 9ms/step - loss: 1.6776 - accuracy: 0.5947 - val_loss: 1.4064 - val_accuracy: 0.6989\n",
            "Epoch 4/20\n",
            "225/225 [==============================] - 2s 9ms/step - loss: 1.5692 - accuracy: 0.6263 - val_loss: 1.3287 - val_accuracy: 0.7112\n",
            "Epoch 5/20\n",
            "225/225 [==============================] - 2s 9ms/step - loss: 1.4538 - accuracy: 0.6397 - val_loss: 1.2984 - val_accuracy: 0.7173\n",
            "Epoch 6/20\n",
            "225/225 [==============================] - 2s 9ms/step - loss: 1.4326 - accuracy: 0.6564 - val_loss: 1.2839 - val_accuracy: 0.7195\n",
            "Epoch 7/20\n",
            "225/225 [==============================] - 2s 9ms/step - loss: 1.3673 - accuracy: 0.6697 - val_loss: 1.2673 - val_accuracy: 0.7257\n",
            "Epoch 8/20\n",
            "225/225 [==============================] - 2s 9ms/step - loss: 1.3233 - accuracy: 0.6707 - val_loss: 1.2393 - val_accuracy: 0.7279\n",
            "Epoch 9/20\n",
            "225/225 [==============================] - 2s 9ms/step - loss: 1.3073 - accuracy: 0.6760 - val_loss: 1.2409 - val_accuracy: 0.7340\n",
            "Epoch 10/20\n",
            "225/225 [==============================] - 2s 10ms/step - loss: 1.2470 - accuracy: 0.6846 - val_loss: 1.2366 - val_accuracy: 0.7334\n",
            "Epoch 11/20\n",
            "225/225 [==============================] - 2s 10ms/step - loss: 1.2104 - accuracy: 0.6931 - val_loss: 1.2309 - val_accuracy: 0.7357\n",
            "Epoch 12/20\n",
            "225/225 [==============================] - 2s 10ms/step - loss: 1.1744 - accuracy: 0.6955 - val_loss: 1.2370 - val_accuracy: 0.7401\n",
            "Epoch 13/20\n",
            "225/225 [==============================] - 2s 10ms/step - loss: 1.1660 - accuracy: 0.7010 - val_loss: 1.2526 - val_accuracy: 0.7446\n",
            "Epoch 14/20\n",
            "225/225 [==============================] - 2s 10ms/step - loss: 1.1367 - accuracy: 0.7065 - val_loss: 1.2542 - val_accuracy: 0.7418\n",
            "Epoch 15/20\n",
            "225/225 [==============================] - 2s 10ms/step - loss: 1.1240 - accuracy: 0.7113 - val_loss: 1.2669 - val_accuracy: 0.7529\n",
            "Epoch 16/20\n",
            "225/225 [==============================] - 2s 10ms/step - loss: 1.0969 - accuracy: 0.7143 - val_loss: 1.2474 - val_accuracy: 0.7540\n",
            "Epoch 17/20\n",
            "225/225 [==============================] - 2s 10ms/step - loss: 1.0794 - accuracy: 0.7197 - val_loss: 1.2500 - val_accuracy: 0.7501\n",
            "Epoch 18/20\n",
            "225/225 [==============================] - 2s 10ms/step - loss: 1.0563 - accuracy: 0.7240 - val_loss: 1.2787 - val_accuracy: 0.7501\n",
            "Epoch 19/20\n",
            "225/225 [==============================] - 2s 11ms/step - loss: 1.0513 - accuracy: 0.7290 - val_loss: 1.3039 - val_accuracy: 0.7524\n",
            "Epoch 20/20\n",
            "225/225 [==============================] - 2s 10ms/step - loss: 1.0303 - accuracy: 0.7294 - val_loss: 1.3177 - val_accuracy: 0.7451\n"
          ]
        }
      ],
      "source": [
        "# A entrenar nuestra red neuronal sea dicho!\n",
        "H = model_drop.fit(x_train,y_train,epochs=20,batch_size=32, validation_split=0.2)"
      ]
    },
    {
      "cell_type": "code",
      "execution_count": 103,
      "metadata": {
        "id": "ACSQkFMtW2Eg"
      },
      "outputs": [
        {
          "data": {
            "text/plain": [
              "<matplotlib.legend.Legend at 0x26398fd1890>"
            ]
          },
          "execution_count": 103,
          "metadata": {},
          "output_type": "execute_result"
        },
        {
          "data": {
            "image/png": "[encoded data removed]",
            "text/plain": [
              "<Figure size 640x480 with 1 Axes>"
            ]
          },
          "metadata": {},
          "output_type": "display_data"
        }
      ],
      "source": [
        "import matplotlib.pyplot as plt\n",
        "# Muestro gráfica de accuracy y losses\n",
        "plt.style.use(\"ggplot\")\n",
        "plt.figure()\n",
        "plt.plot(np.arange(0, 20), H.history[\"loss\"], label=\"train_loss\") \n",
        "plt.plot(np.arange(0, 20), H.history[\"val_loss\"], label=\"val_loss\")\n",
        "plt.plot(np.arange(0, 20), H.history[\"accuracy\"], label=\"train_acc\")\n",
        "plt.plot(np.arange(0, 20), H.history[\"val_accuracy\"], label=\"val_acc\")\n",
        "plt.title(\"Training Loss and Accuracy\")\n",
        "plt.xlabel(\"Epoch #\")\n",
        "plt.ylabel(\"Loss/Accuracy\")\n",
        "plt.legend()\n",
        "\n",
        "# ¿Y si desconectamos mayor porcentaje de neuronas?"
      ]
    },
    {
      "cell_type": "code",
      "execution_count": 104,
      "metadata": {
        "colab": {
          "base_uri": "https://localhost:8080/"
        },
        "id": "KzK4LsLmW2es",
        "outputId": "53162e60-e57b-44a5-e793-ad0eab30cc3e"
      },
      "outputs": [
        {
          "name": "stdout",
          "output_type": "stream",
          "text": [
            "[INFO]: Evaluando red neuronal...\n"
          ]
        },
        {
          "name": "stdout",
          "output_type": "stream",
          "text": [
            "71/71 [==============================] - 0s 2ms/step\n",
            "71/71 [==============================] - 0s 2ms/step - loss: 1.4568 - accuracy: 0.7320\n",
            "Loss 1.4567898511886597, accuracy 0.7319679260253906\n"
          ]
        }
      ],
      "source": [
        "# Evaluando el modelo de predicción con las imágenes de test\n",
        "print(\"[INFO]: Evaluando red neuronal...\")\n",
        "model_drop.predict(x_test) #Predigo las clases de las imágenes de testeo\n",
        "loss, accuracy = model_drop.evaluate(x_test, y_test) #Evalúo el modelo con los datos de testeo\n",
        "print('Loss {}, accuracy {}'.format(loss,accuracy)) #Imprimo la pérdida y la precisión del modelo"
      ]
    },
    {
      "cell_type": "markdown",
      "metadata": {
        "id": "6iixwidpaJSH"
      },
      "source": [
        "#### **- Batch Normalization**"
      ]
    },
    {
      "cell_type": "code",
      "execution_count": 105,
      "metadata": {
        "id": "kX7JV1leaJrj"
      },
      "outputs": [],
      "source": [
        "from tensorflow.keras.models import Sequential # Para crear modelos de redes neuronales secuenciales\n",
        "from tensorflow.keras.layers import Dense, BatchNormalization # Para crear capas densas y capas de normalización\n",
        "# Vamos a codificar la topología de nuestro MLP\n",
        "model_bn = Sequential() #Creo un modelo secuencial con Keras usando una variable vacia llamada model. Esto genera una estructura de tipo arbol donde se pueden ir agregando capas de manera secuencial\n",
        "model_bn.add(Dense(128,activation='relu', input_shape=(WORD_LIMIT,))) #Agrego la primera capa de 128 neuronas con activación relu. Esta capa tiene 128*10000 + 128 = 128128 parametros\n",
        "model_bn.add(BatchNormalization()) #Agrego una capa de normalización\n",
        "model_bn.add(Dropout(0.75)) #Agrego una capa de dropout con probabilidad de dropout de 0.75\n",
        "model_bn.add(Dense(64,activation='relu')) #Agrego la segunda capa de 64 neuronas con activación relu. Esta capa tiene 8256 parametros\n",
        "model_bn.add(BatchNormalization()) #Agrego otra capa de normalización\n",
        "model_bn.add(Dropout(0.75)) #Agrego otra capa de dropout con probabilidad de dropout de 0.75\n",
        "model_bn.add(Dense(46,activation='softmax')) # Reparto de la unidad de probabilidad entre num_classes"
      ]
    },
    {
      "cell_type": "code",
      "execution_count": 106,
      "metadata": {
        "id": "iEW9qiRzbtpk"
      },
      "outputs": [],
      "source": [
        "# Ahora que tengo definida la arquitectura, la compilo\n",
        "model_bn.compile(optimizer='adam',\n",
        "               loss='categorical_crossentropy', # ideal para clasificacion multiclase\n",
        "               metrics=['accuracy'])"
      ]
    },
    {
      "cell_type": "code",
      "execution_count": 107,
      "metadata": {
        "id": "Ey72ZUlJbwPK"
      },
      "outputs": [
        {
          "name": "stdout",
          "output_type": "stream",
          "text": [
            "Epoch 1/20\n",
            "225/225 [==============================] - 3s 11ms/step - loss: 3.3657 - accuracy: 0.3232 - val_loss: 1.8200 - val_accuracy: 0.6394\n",
            "Epoch 2/20\n",
            "225/225 [==============================] - 2s 10ms/step - loss: 2.0904 - accuracy: 0.5585 - val_loss: 1.4472 - val_accuracy: 0.6861\n",
            "Epoch 3/20\n",
            "225/225 [==============================] - 2s 10ms/step - loss: 1.8114 - accuracy: 0.6011 - val_loss: 1.3608 - val_accuracy: 0.6900\n",
            "Epoch 4/20\n",
            "225/225 [==============================] - 2s 10ms/step - loss: 1.6352 - accuracy: 0.6266 - val_loss: 1.2903 - val_accuracy: 0.7034\n",
            "Epoch 5/20\n",
            "225/225 [==============================] - 2s 10ms/step - loss: 1.5309 - accuracy: 0.6505 - val_loss: 1.2422 - val_accuracy: 0.7156\n",
            "Epoch 6/20\n",
            "225/225 [==============================] - 2s 10ms/step - loss: 1.4424 - accuracy: 0.6639 - val_loss: 1.2075 - val_accuracy: 0.7212\n",
            "Epoch 7/20\n",
            "225/225 [==============================] - 2s 10ms/step - loss: 1.3712 - accuracy: 0.6792 - val_loss: 1.1686 - val_accuracy: 0.7295\n",
            "Epoch 8/20\n",
            "225/225 [==============================] - 2s 10ms/step - loss: 1.2908 - accuracy: 0.6934 - val_loss: 1.1391 - val_accuracy: 0.7379\n",
            "Epoch 9/20\n",
            "225/225 [==============================] - 2s 10ms/step - loss: 1.2661 - accuracy: 0.7019 - val_loss: 1.1162 - val_accuracy: 0.7401\n",
            "Epoch 10/20\n",
            "225/225 [==============================] - 2s 10ms/step - loss: 1.1948 - accuracy: 0.7161 - val_loss: 1.0991 - val_accuracy: 0.7479\n",
            "Epoch 11/20\n",
            "225/225 [==============================] - 2s 10ms/step - loss: 1.1464 - accuracy: 0.7198 - val_loss: 1.0865 - val_accuracy: 0.7551\n",
            "Epoch 12/20\n",
            "225/225 [==============================] - 2s 10ms/step - loss: 1.1378 - accuracy: 0.7243 - val_loss: 1.0761 - val_accuracy: 0.7596\n",
            "Epoch 13/20\n",
            "225/225 [==============================] - 2s 10ms/step - loss: 1.0960 - accuracy: 0.7292 - val_loss: 1.0585 - val_accuracy: 0.7590\n",
            "Epoch 14/20\n",
            "225/225 [==============================] - 2s 10ms/step - loss: 1.0627 - accuracy: 0.7382 - val_loss: 1.0387 - val_accuracy: 0.7696\n",
            "Epoch 15/20\n",
            "225/225 [==============================] - 2s 10ms/step - loss: 1.0348 - accuracy: 0.7436 - val_loss: 1.0302 - val_accuracy: 0.7707\n",
            "Epoch 16/20\n",
            "225/225 [==============================] - 2s 10ms/step - loss: 0.9989 - accuracy: 0.7585 - val_loss: 1.0266 - val_accuracy: 0.7735\n",
            "Epoch 17/20\n",
            "225/225 [==============================] - 2s 10ms/step - loss: 0.9991 - accuracy: 0.7555 - val_loss: 1.0135 - val_accuracy: 0.7785\n",
            "Epoch 18/20\n",
            "225/225 [==============================] - 2s 10ms/step - loss: 0.9790 - accuracy: 0.7567 - val_loss: 1.0235 - val_accuracy: 0.7757\n",
            "Epoch 19/20\n",
            "225/225 [==============================] - 2s 10ms/step - loss: 0.9464 - accuracy: 0.7608 - val_loss: 1.0189 - val_accuracy: 0.7774\n",
            "Epoch 20/20\n",
            "225/225 [==============================] - 2s 10ms/step - loss: 0.9144 - accuracy: 0.7704 - val_loss: 1.0102 - val_accuracy: 0.7791\n"
          ]
        }
      ],
      "source": [
        "# A entrenar nuestra red neuronal sea dicho!\n",
        "H = model_bn.fit(x_train,y_train,epochs=20,batch_size=32, validation_split=0.2)"
      ]
    },
    {
      "cell_type": "code",
      "execution_count": 108,
      "metadata": {
        "id": "WE6c1PHIbybn"
      },
      "outputs": [
        {
          "data": {
            "text/plain": [
              "<matplotlib.legend.Legend at 0x263986feb90>"
            ]
          },
          "execution_count": 108,
          "metadata": {},
          "output_type": "execute_result"
        },
        {
          "data": {
            "image/png": "[encoded data removed]",
            "text/plain": [
              "<Figure size 640x480 with 1 Axes>"
            ]
          },
          "metadata": {},
          "output_type": "display_data"
        }
      ],
      "source": [
        "import matplotlib.pyplot as plt\n",
        "# Muestro gráfica de accuracy y losses\n",
        "plt.style.use(\"ggplot\")\n",
        "plt.figure()\n",
        "plt.plot(np.arange(0, 20), H.history[\"loss\"], label=\"train_loss\")\n",
        "plt.plot(np.arange(0, 20), H.history[\"val_loss\"], label=\"val_loss\")\n",
        "plt.plot(np.arange(0, 20), H.history[\"accuracy\"], label=\"train_acc\")\n",
        "plt.plot(np.arange(0, 20), H.history[\"val_accuracy\"], label=\"val_acc\")\n",
        "plt.title(\"Training Loss and Accuracy\")\n",
        "plt.xlabel(\"Epoch #\")\n",
        "plt.ylabel(\"Loss/Accuracy\")\n",
        "plt.legend()"
      ]
    },
    {
      "cell_type": "code",
      "execution_count": 109,
      "metadata": {
        "id": "7AY7mJ3mb1C1"
      },
      "outputs": [
        {
          "name": "stdout",
          "output_type": "stream",
          "text": [
            "[INFO]: Evaluando red neuronal...\n",
            "71/71 [==============================] - 0s 2ms/step\n",
            "71/71 [==============================] - 0s 3ms/step - loss: 1.0414 - accuracy: 0.7667\n",
            "Loss 1.0413929224014282, accuracy 0.7666963338851929\n"
          ]
        }
      ],
      "source": [
        "# Evaluando el modelo de predicción con las imágenes de test\n",
        "print(\"[INFO]: Evaluando red neuronal...\") #Imprimo en pantalla que voy a evaluar mi red neuronal\n",
        "model_bn.predict(x_test) #Predigo las clases de las imágenes de testeo\n",
        "loss, accuracy = model_bn.evaluate(x_test, y_test) #Evalúo el modelo con los datos de testeo\n",
        "print('Loss {}, accuracy {}'.format(loss,accuracy)) #Imprimo la pérdida y la precisión del modelo-"
      ]
    }
  ],
  "metadata": {
    "accelerator": "GPU",
    "colab": {
      "provenance": []
    },
    "kernelspec": {
      "display_name": "Python 3",
      "language": "python",
      "name": "python3"
    },
    "language_info": {
      "codemirror_mode": {
        "name": "ipython",
        "version": 3
      },
      "file_extension": ".py",
      "mimetype": "text/x-python",
      "name": "python",
      "nbconvert_exporter": "python",
      "pygments_lexer": "ipython3",
      "version": "3.11.5"
    }
  },
  "nbformat": 4,
  "nbformat_minor": 0
}
