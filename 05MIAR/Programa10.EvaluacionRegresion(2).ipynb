{
 "cells": [
  {
   "cell_type": "code",
   "execution_count": 1,
   "metadata": {
    "scrolled": true
   },
   "outputs": [],
   "source": [
    "import numpy as np\n",
    "from math import sqrt\n",
    "from pprint import pprint\n",
    "from sklearn import datasets\n",
    "from sklearn.dummy import DummyRegressor\n",
    "from sklearn.model_selection import cross_validate\n",
    "from sklearn.model_selection import KFold\n",
    "from sklearn.metrics import make_scorer\n",
    "from sklearn.metrics import mean_squared_error\n",
    "from sklearn.model_selection import train_test_split\n",
    "from sklearn.svm import SVR\n",
    "from sklearn.metrics import mean_absolute_error, mean_squared_error, mean_absolute_percentage_error, r2_score\n",
    "import matplotlib.pyplot as plt\n",
    "from sklearn import preprocessing\n",
    "from sklearn.ensemble import RandomForestClassifier\n",
    "from sklearn.linear_model import LinearRegression"
   ]
  },
  {
   "cell_type": "code",
   "execution_count": 2,
   "metadata": {},
   "outputs": [],
   "source": [
    "import warnings\n",
    "warnings.filterwarnings(action='ignore',module='sklearn')"
   ]
  },
  {
   "cell_type": "code",
   "execution_count": 3,
   "metadata": {
    "scrolled": false
   },
   "outputs": [
    {
     "name": "stdout",
     "output_type": "stream",
     "text": [
      "(506, 13)\n"
     ]
    }
   ],
   "source": [
    "# Cargar y explorar los datos\n",
    "datos = datasets.load_boston()\n",
    "print(np.shape(datos.data))"
   ]
  },
  {
   "cell_type": "code",
   "execution_count": 4,
   "metadata": {
    "scrolled": true
   },
   "outputs": [],
   "source": [
    "# Extraer la matriz de datos \"X\" y la variable target \"y\"\n",
    "X = datos.data\n",
    "y = datos.target"
   ]
  },
  {
   "cell_type": "code",
   "execution_count": 5,
   "metadata": {
    "scrolled": true
   },
   "outputs": [],
   "source": [
    "# Partición EXTERNA: hold-out split 80% train - 20% test.\n",
    "X_train, X_test, y_train, y_test = train_test_split(X, y, test_size=0.2, random_state=42)"
   ]
  },
  {
   "cell_type": "code",
   "execution_count": 6,
   "metadata": {
    "scrolled": true
   },
   "outputs": [],
   "source": [
    "# Estandarización de los datos de entrenamiento y test\n",
    "stdr = preprocessing.StandardScaler()\n",
    "X_train = stdr.fit_transform(X_train)\n",
    "X_test = stdr.transform(X_test)"
   ]
  },
  {
   "cell_type": "code",
   "execution_count": 7,
   "metadata": {
    "scrolled": true
   },
   "outputs": [],
   "source": [
    "# Métricas de evaluación.\n",
    "metricas = {\n",
    "    'MAE': 'neg_mean_absolute_error',\n",
    "    'MSE': 'neg_mean_squared_error',\n",
    "    'RMSE': make_scorer(lambda y, y_pred:\n",
    "                      sqrt(mean_squared_error(y, y_pred)),\n",
    "                      greater_is_better=False),\n",
    "    'MAPE': make_scorer(lambda y, y_pred:\n",
    "                      np.mean(np.abs((y - y_pred) / y)) * 100,\n",
    "                      greater_is_better=False)}"
   ]
  },
  {
   "cell_type": "code",
   "execution_count": 8,
   "metadata": {
    "scrolled": true
   },
   "outputs": [],
   "source": [
    "# Definimos un algoritmo SVM de regresión\n",
    "alg = SVR(C=100, gamma='auto', kernel='rbf')"
   ]
  },
  {
   "cell_type": "code",
   "execution_count": 9,
   "metadata": {
    "scrolled": true
   },
   "outputs": [],
   "source": [
    "# Validación y evaluación del modelo.\n",
    "# en \"cv = KFold(n_splits=5)\" se hace un cross-validation INTERNO!! \n",
    "results = cross_validate(alg, X_train, y_train, cv = KFold(n_splits=5, shuffle=True, random_state=42), scoring=metricas)"
   ]
  },
  {
   "cell_type": "code",
   "execution_count": 10,
   "metadata": {
    "scrolled": true
   },
   "outputs": [
    {
     "name": "stdout",
     "output_type": "stream",
     "text": [
      "{'fit_time': array([0.07000685, 0.02109623, 0.02252388, 0.02211189, 0.022578  ]),\n",
      " 'score_time': array([0.00446677, 0.00351715, 0.00299859, 0.00322008, 0.00364494]),\n",
      " 'test_MAE': array([-2.53321657, -1.97577853, -2.749176  , -2.49085082, -1.87265003]),\n",
      " 'test_MAPE': array([-13.62035794,  -9.52217681, -11.39432082, -11.49564794,\n",
      "       -11.1700813 ]),\n",
      " 'test_MSE': array([-15.39579362,  -7.10759271, -30.3102962 , -12.62322446,\n",
      "        -6.4009247 ]),\n",
      " 'test_RMSE': array([-3.9237474 , -2.66600689, -5.50547874, -3.55291774, -2.53000488])}\n"
     ]
    }
   ],
   "source": [
    "# Presentación de los resultados de la evaluación.\n",
    "pprint(results)"
   ]
  },
  {
   "cell_type": "code",
   "execution_count": 11,
   "metadata": {
    "scrolled": true
   },
   "outputs": [],
   "source": [
    "# Una vez hemos optimizado los hiperparámetros en el conjunto de validación, entrenamos un nuevo modelo que contenga\n",
    "# todos los datos de entrenamiento (es decir, train + validation) para evaluar el test\n",
    "model = SVR(C=100, gamma='auto', kernel='rbf')\n",
    "model = model.fit(X_train, y_train)"
   ]
  },
  {
   "cell_type": "code",
   "execution_count": 12,
   "metadata": {
    "scrolled": true
   },
   "outputs": [
    {
     "name": "stdout",
     "output_type": "stream",
     "text": [
      "Test results (MAE):  2.0675\n",
      "Test results (r2):  0.8379\n"
     ]
    }
   ],
   "source": [
    "# Extraemos el error absoluto promedio (MAE) del conjunto de test\n",
    "y_pred = model.predict(X_test)\n",
    "mae = mean_absolute_error(y_test, y_pred)\n",
    "r2 = r2_score(y_test, y_pred)\n",
    "print('Test results (MAE): ', np.round(mae,4))\n",
    "print('Test results (r2): ', np.round(r2,4))"
   ]
  },
  {
   "cell_type": "code",
   "execution_count": 13,
   "metadata": {
    "scrolled": true
   },
   "outputs": [
    {
     "name": "stdout",
     "output_type": "stream",
     "text": [
      "Predicciones:    [26.2 32.1 14.7 22.1 16.1 21.2 19.2 15.8 21.4 19.9]\n",
      "Valores reales:  [23.6 32.4 13.6 22.8 16.1 20.  17.8 14.  19.6 16.8]\n"
     ]
    }
   ],
   "source": [
    "# También podemos extraer las predicciones para cuánto difieren los valores predichos de los reales\n",
    "print('Predicciones:   ', np.round(y_pred[:10], 1))\n",
    "print('Valores reales: ', y_test[:10])"
   ]
  },
  {
   "cell_type": "code",
   "execution_count": 14,
   "metadata": {},
   "outputs": [],
   "source": [
    "# Get regression graphics\n",
    "def report_regression_graphics(y_true, y_pred):\n",
    "    fig, ax = plt.subplots(2,1)\n",
    "\n",
    "    # Plot linear fit\n",
    "    ax[0].scatter(y_true, y_pred)\n",
    "    ax[0].set_ylabel('y_pred')\n",
    "    ax[0].set_title('Regression line')\n",
    "    ax[0].grid()\n",
    "    # overlay the regression line\n",
    "    z = np.polyfit(np.float64(y_true), y_pred, 1)\n",
    "    p = np.poly1d(z)\n",
    "    ax[0].plot(y_true, p(y_true), color='magenta')\n",
    "\n",
    "    # Plot bisectriz\n",
    "    ax[1].scatter(y_true, y_pred, edgecolors=(0, 0, 0))\n",
    "    ax[1].set_xlabel('y_true')\n",
    "    ax[1].set_ylabel('y_pred')\n",
    "    ax[1].set_title('Bisector')\n",
    "    ax[1].plot([y_true.min(), y_true.max()], [y_true.min(), y_true.max()], 'k--', lw=4)\n",
    "    ax[1].grid()"
   ]
  },
  {
   "cell_type": "code",
   "execution_count": 15,
   "metadata": {},
   "outputs": [
    {
     "data": {
      "image/png": "[encoded data removed]",
      "text/plain": [
       "<Figure size 640x480 with 2 Axes>"
      ]
     },
     "metadata": {},
     "output_type": "display_data"
    }
   ],
   "source": [
    "report_regression_graphics(y_test, y_pred)"
   ]
  },
  {
   "cell_type": "code",
   "execution_count": null,
   "metadata": {},
   "outputs": [],
   "source": []
  }
 ],
 "metadata": {
  "kernelspec": {
   "display_name": "Python 3 (ipykernel)",
   "language": "python",
   "name": "python3"
  },
  "language_info": {
   "codemirror_mode": {
    "name": "ipython",
    "version": 3
   },
   "file_extension": ".py",
   "mimetype": "text/x-python",
   "name": "python",
   "nbconvert_exporter": "python",
   "pygments_lexer": "ipython3",
   "version": "3.10.9"
  }
 },
 "nbformat": 4,
 "nbformat_minor": 2
}
